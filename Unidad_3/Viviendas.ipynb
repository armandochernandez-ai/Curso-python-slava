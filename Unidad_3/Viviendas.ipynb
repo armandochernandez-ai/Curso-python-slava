{
  "nbformat": 4,
  "nbformat_minor": 0,
  "metadata": {
    "colab": {
      "provenance": [],
      "authorship_tag": "ABX9TyMlAVxuwzADZEJ2oQCvAmTb",
      "include_colab_link": true
    },
    "kernelspec": {
      "name": "python3",
      "display_name": "Python 3"
    },
    "language_info": {
      "name": "python"
    }
  },
  "cells": [
    {
      "cell_type": "markdown",
      "metadata": {
        "id": "view-in-github",
        "colab_type": "text"
      },
      "source": [
        "<a href=\"https://colab.research.google.com/github/armandochernandez-ai/Curso-python-slava/blob/main/Unidad_3/Viviendas.ipynb\" target=\"_parent\"><img src=\"https://colab.research.google.com/assets/colab-badge.svg\" alt=\"Open In Colab\"/></a>"
      ]
    },
    {
      "cell_type": "markdown",
      "source": [
        "# `CLASIFICACIÓN DE VIVIENDA POR PRECIOS.`\n",
        "# Armando Chávez Hernández.\n",
        "**Geografía CUCSH.**"
      ],
      "metadata": {
        "id": "w_4jV-ON2Z4d"
      }
    },
    {
      "cell_type": "code",
      "execution_count": null,
      "metadata": {
        "id": "eOlajLmxpydb"
      },
      "outputs": [],
      "source": [
        "\n",
        "\n",
        "import pandas as pd\n",
        "#import numpy as np\n",
        "#import matplotlib.pyplot as plt\n",
        "#import seaborn as sns\n",
        "#from scipy import stats\n",
        "#from sklearn.linear_model import LinearRegression\n",
        "from sklearn.model_selection import train_test_split\n",
        "from sklearn.preprocessing import OrdinalEncoder\n",
        "#from sklearn.metrics import r2_score, mean_squared_error, mean_absolute_percentage_error\n",
        "from google.colab import drive\n",
        "\n",
        "# Montar Google Drive\n",
        "drive.mount('/content/drive')\n",
        "\n",
        "# Cargar los datos\n",
        "datos_vivienda = pd.read_csv('/content/drive/My Drive/Colab Data/house_class.csv')\n",
        "display(datos_vivienda.head())\n",
        "#Ubicación espacial\n",
        "\n",
        "datos_vivienda.plot(kind='scatter', x='Lon', y='Lat', s=20, alpha=.5, color=\"blue\")"
      ]
    },
    {
      "cell_type": "code",
      "source": [
        "#EXPLORAR DATOS\n",
        "\n",
        "print(\"Tamaño dataframe:\", datos_vivienda.shape)\n",
        "print(\"Presencia de lineas sin datos:\", datos_vivienda.isnull().values.any())\n",
        "print(\"Máximo de cuartos:\", datos_vivienda.loc[:,['Room']].max().item())\n",
        "print(\"Promedio de área:\", round(datos_vivienda.loc[:, ['Area']].mean().item(),1))\n",
        "print(\"Precio únicos:\", datos_vivienda.loc[:, ['Price']].nunique().item())\n",
        "print(\"Zip_area únicos:\", datos_vivienda.loc[:, ['Zip_area']].nunique().item())\n",
        "print(\"Zip_loc únicos:\", datos_vivienda.loc[:, ['Zip_loc']].nunique().item())\n",
        "\n",
        "\n",
        "display(datos_vivienda[['Area','Room','Lon','Lat']].describe())"
      ],
      "metadata": {
        "id": "i1OyY5wouz-j"
      },
      "execution_count": null,
      "outputs": []
    },
    {
      "cell_type": "code",
      "source": [
        "#VISUALIZACIONES DE DATOS\n",
        "\n",
        "from matplotlib import pyplot as plt\n",
        "\n",
        "levels_p, categories_p = pd.factorize(datos_vivienda['Price'])\n",
        "plt.figure(figsize=(8, 6))\n",
        "scatter_p = plt.scatter(x='Lon', y='Lat', data=datos_vivienda,\n",
        "                      c=levels_p, s=32, alpha=.5)\n",
        "plt.title('Precio')\n",
        "plt.xlabel('Longitude')\n",
        "plt.ylabel('Latitude')\n",
        "plt.grid(True)\n",
        "plt.legend(scatter_p.legend_elements()[0], categories_p, title='Precio')\n",
        "plt.show()\n",
        "\n",
        "levels_a, categories_a = pd.factorize(datos_vivienda['Zip_area'])\n",
        "scatter_a = plt.scatter(x='Lon', y='Lat', data=datos_vivienda,\n",
        "                      c=levels_a, s=32, alpha=.8)\n",
        "plt.legend(scatter_a.legend_elements()[0], categories_a, title='Zip_area')\n",
        "plt.gca().spines[['top', 'right',]].set_visible(False)\n",
        "plt.title('Patron de Zip_area')\n",
        "plt.show()\n",
        "\n",
        "datos_vivienda['Area'].plot(kind='hist', bins=20, title='Area')\n",
        "plt.gca().spines[['top', 'right',]].set_visible(False)\n",
        "plt.show()\n",
        "\n",
        "datos_vivienda['Room'].plot(kind='hist', bins=20, title='Room')\n",
        "plt.gca().spines[['top', 'right',]].set_visible(False)\n",
        "plt.show()"
      ],
      "metadata": {
        "id": "3xN0LRpovRal"
      },
      "execution_count": null,
      "outputs": []
    },
    {
      "cell_type": "code",
      "source": [
        "#PREPARAR DATOS PARA CLASIFICACIÓN\n",
        "\n",
        "from sklearn.model_selection import train_test_split\n",
        "from sklearn.preprocessing import OrdinalEncoder\n",
        "\n",
        "X = datos_vivienda.loc[:, ['Area','Room','Lon','Lat','Zip_area','Zip_loc']]\n",
        "y = datos_vivienda.loc[:, ['Price']]\n",
        "\n",
        "enc = OrdinalEncoder()\n",
        "enc.fit(X[['Zip_area', 'Zip_loc']])\n",
        "\n",
        "X_transformed = pd.DataFrame(enc.transform(X[['Zip_area', 'Zip_loc']]),\n",
        "                                       index=X.index)\n",
        "\n",
        "X_full = X[['Area', 'Room', 'Lon', 'Lat']].join(X_transformed)\n",
        "\n",
        "X_train, X_test, y_train, y_test = train_test_split(X_full.values, y.values,\n",
        "                         stratify=X['Zip_loc'].values,\n",
        "                         train_size=0.7, random_state=1)\n",
        "\n",
        "print(X_train.shape)\n",
        "print(X_test.shape)\n",
        "print(y_train.shape)\n",
        "print(y_test.shape)\n",
        "\n"
      ],
      "metadata": {
        "id": "VGsK74Zhva6o"
      },
      "execution_count": null,
      "outputs": []
    },
    {
      "cell_type": "code",
      "source": [
        "#ENTRENAR Y EVALUAR MODELO\n",
        "\n",
        "from sklearn.tree import DecisionTreeClassifier\n",
        "from sklearn.metrics import classification_report\n",
        "\n",
        "dtree = DecisionTreeClassifier(criterion='entropy', max_features=3, splitter='best',\n",
        "                                     max_depth=6, min_samples_split=4, random_state=3)\n",
        "dtree.fit(X_train, y_train)\n",
        "y_pred = dtree.predict(X_test)\n",
        "\n",
        "report = classification_report(y_test, y_pred, output_dict=True)\n",
        "\n",
        "print(\"Precisión: {}\".format(round(report['accuracy'], 3)))\n",
        "print(\"F1 score: {}\".format(round(report['macro avg']['f1-score'], 3)))\n",
        "\n",
        "#VISUALIZAR PREDICCIÓND E DATOS DEL MODELO\n",
        "\n",
        "y_pred_full = dtree.predict(X_full.values)\n",
        "levels_predict, categories_predict = pd.factorize(y_pred_full)\n",
        "\n",
        "plt.figure(figsize=(8, 6))\n",
        "scatter_predict = plt.scatter(x='Lon', y='Lat', data=datos_vivienda,\n",
        "                      c=levels_predict, s=32, alpha=.5)\n",
        "plt.title('Patron de precios en la predicción del modelo')\n",
        "plt.xlabel('Longitude')\n",
        "plt.ylabel('Latitude')\n",
        "plt.grid(True)\n",
        "plt.legend(scatter_predict.legend_elements()[0], categories_predict, title='Precio')\n",
        "plt.show()\n",
        ""
      ],
      "metadata": {
        "id": "4Yttc4pVvk7D"
      },
      "execution_count": null,
      "outputs": []
    },
    {
      "cell_type": "code",
      "source": [
        "#VISUALIZAR LA DIFERENCIA ENTRE EL MODELO Y VALORES REALES, GRADO DE PRECISIÓN\n",
        "\n",
        "y_pred_full = dtree.predict(X_full.values)\n",
        "levels_predict, categories_predict = pd.factorize(y_pred_full)\n",
        "\n",
        "plt.figure(figsize=(8, 6))\n",
        "scatter_predict = plt.scatter(x='Lon', y='Lat', data=datos_vivienda,\n",
        "                      c=levels_predict, s=32, alpha=.5)\n",
        "plt.title('Patron de precios en la predicción del modelo')\n",
        "plt.xlabel('Longitude')\n",
        "plt.ylabel('Latitude')\n",
        "plt.grid(True)\n",
        "plt.legend(scatter_predict.legend_elements()[0], categories_predict, title='Precio')\n",
        "plt.show()\n",
        ""
      ],
      "metadata": {
        "id": "SOaDbMQiws0I"
      },
      "execution_count": null,
      "outputs": []
    }
  ]
}