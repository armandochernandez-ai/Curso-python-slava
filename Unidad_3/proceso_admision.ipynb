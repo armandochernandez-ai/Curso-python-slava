{
  "nbformat": 4,
  "nbformat_minor": 0,
  "metadata": {
    "colab": {
      "provenance": [],
      "authorship_tag": "ABX9TyP0gQjkbKAtiPlkA0NGvKAZ",
      "include_colab_link": true
    },
    "kernelspec": {
      "name": "python3",
      "display_name": "Python 3"
    },
    "language_info": {
      "name": "python"
    }
  },
  "cells": [
    {
      "cell_type": "markdown",
      "metadata": {
        "id": "view-in-github",
        "colab_type": "text"
      },
      "source": [
        "<a href=\"https://colab.research.google.com/github/armandochernandez-ai/Curso-python-slava/blob/main/Unidad_3/proceso_admision.ipynb\" target=\"_parent\"><img src=\"https://colab.research.google.com/assets/colab-badge.svg\" alt=\"Open In Colab\"/></a>"
      ]
    },
    {
      "cell_type": "code",
      "execution_count": null,
      "metadata": {
        "id": "Z2Ip23blRE03",
        "colab": {
          "base_uri": "https://localhost:8080/"
        },
        "outputId": "27526e2f-6cd5-43e2-9752-0ba84f1e3870"
      },
      "outputs": [
        {
          "output_type": "stream",
          "name": "stdout",
          "text": [
            "Drive already mounted at /content/drive; to attempt to forcibly remount, call drive.mount(\"/content/drive\", force_remount=True).\n",
            "       nombre   apellido  ESP  EMA  EPH  ECH  ECS        fac_1        fac_2  \\\n",
            "0     Jermine    Brunton   84   81   73   92   48      Physics  Engineering   \n",
            "1       Justo     Mirfin   71   77   61   60   41  Engineering      Biotech   \n",
            "2        Uzma  Naysmythe   60   94   75   71   80    Chemistry  Engineering   \n",
            "3       Koury      Wingo   71   81   81   83   59  Engineering      Biotech   \n",
            "4    Kentrell  Hillhouse   40   69   42   58   20  Mathematics  Engineering   \n",
            "..        ...        ...  ...  ...  ...  ...  ...          ...          ...   \n",
            "93     Tamkia       Fish   81   71   73   86   78      Physics  Engineering   \n",
            "94      Deniz  Blanchard   71   77   61   60   61  Engineering      Biotech   \n",
            "95       Mira      Riley   60   94   75   71   80  Engineering      Biotech   \n",
            "96      Loura    Macansh   71   81   81   93   79  Engineering      Physics   \n",
            "97  Nastassja   Trustram   60   49   82   68   70  Mathematics  Engineering   \n",
            "\n",
            "          fac_3  \n",
            "0   Mathematics  \n",
            "1     Chemistry  \n",
            "2   Mathematics  \n",
            "3   Mathematics  \n",
            "4       Biotech  \n",
            "..          ...  \n",
            "93  Mathematics  \n",
            "94    Chemistry  \n",
            "95  Mathematics  \n",
            "96  Mathematics  \n",
            "97      Physics  \n",
            "\n",
            "[98 rows x 10 columns]\n"
          ]
        }
      ],
      "source": [
        "from google.colab import drive\n",
        "import pandas as pd\n",
        "import sys\n",
        "\n",
        "# Montar Google Drive si no está montado\n",
        "drive.mount('/content/drive')\n",
        "\n",
        "# === 1. Cargar archivo texto a tabla simple ===\n",
        "#archivo = \"/content/drive/MyDrive/Colab Data/applicant_list_7.txt\"\n",
        "#tabla = pd.read_table(archivo)\n",
        "#tabla\n",
        "\n",
        "\n",
        "# === 2. Convertir a tabla a dataframe ===\n",
        "archivo = \"/content/drive/MyDrive/Colab Data/applicant_list_7.txt\"\n",
        "#se pueden definir columnas antes\n",
        "n_columnas = [\"nombre\",\"apellido\",\"ESP\",\"EMA\",\"EPH\",\"ECH\",\"ECS\", \"fac_1\", \"fac_2\",\"fac_3\"]\n",
        "df = pd.read_csv(archivo, sep=' ', names = n_columnas)\n",
        "df\n",
        "\n",
        "#O cargar y poner nombre a columnas\n",
        "df = \"/content/drive/MyDrive/Colab Data/applicant_list_7.txt\"\n",
        "df = pd.read_csv(df, sep=' ', header=None)\n",
        "df = pd.DataFrame(df)\n",
        "df\n",
        "\n",
        "#Colocar encabezados\n",
        "df.columns = [\"nombre\",\"apellido\",\"ESP\",\"EMA\",\"EPH\",\"ECH\",\"ECS\", \"fac_1\", \"fac_2\",\"fac_3\"]\n",
        "print(df)\n",
        "\n",
        "\n",
        "# Función para buscar columna\n",
        "def buscar(df, name):\n",
        "  \"\"\"Búsqueda en data frame en la columna fac_1 para filtar despues.\"\"\"\n",
        "  return df[df['fac_1'].str.contains(name, case=False, na=False)]\n",
        "\n",
        "# Pregunta\n",
        "consulta_nombre = str(input(\"¿Que facultad busca? \")).lower()\n",
        "\n",
        "try:\n",
        "    # Búsqueda de resultados en columna\n",
        "    resultados_busqueda = buscar(df, consulta_nombre)\n",
        "\n",
        "    # Resultados posibles\n",
        "    if resultados_busqueda.empty:\n",
        "        # En caso de no encontrar facultad\n",
        "        raise ValueError(f\"'{consulta_nombre}'\")\n",
        "    else:\n",
        "      print(f\"Facultad encontrada: {consulta_nombre}\")\n",
        "      #Cuando se encuentra\n",
        "\n",
        "except ValueError as no:\n",
        "    # Reporte\n",
        "    print(f\"Facultad {no} no existe\")\n",
        "    #sys.exit()\n",
        "\n",
        "except Exception as e:\n",
        "    # Otros errores\n",
        "    print(f\"Error inesperado: {e}\")\n",
        "\n"
      ]
    },
    {
      "cell_type": "code",
      "source": [
        "instruccion = \"\"\"Este es un proceso de selección de los mejores aspitantes (puntajes) a ingresar a facultades.\n",
        "Deberá elegir un cupo para cada facultad, con lo cual se generará una lista de los mejores aspirantes.\"\"\"\n",
        "\n",
        "print(instruccion)"
      ],
      "metadata": {
        "colab": {
          "base_uri": "https://localhost:8080/"
        },
        "id": "UoB37LdYT1w9",
        "outputId": "5bf9323d-267b-44b6-bca7-21b885487f86"
      },
      "execution_count": null,
      "outputs": [
        {
          "output_type": "stream",
          "name": "stdout",
          "text": [
            "Este es un proceso de selección de los mejores aspitantes (puntajes) a ingresar a facultades. \n",
            "Deberá elegir un cupo para cada facultad, con lo cual se generará una lista de los mejores aspirantes.\n"
          ]
        }
      ]
    },
    {
      "cell_type": "code",
      "source": [],
      "metadata": {
        "id": "oneN9nAqwUPF"
      },
      "execution_count": null,
      "outputs": []
    }
  ]
}