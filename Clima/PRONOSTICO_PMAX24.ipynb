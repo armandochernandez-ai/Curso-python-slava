{
  "nbformat": 4,
  "nbformat_minor": 0,
  "metadata": {
    "colab": {
      "provenance": [],
      "authorship_tag": "ABX9TyOPvxhHJntIXuu/7cMaT2Zj",
      "include_colab_link": true
    },
    "kernelspec": {
      "name": "python3",
      "display_name": "Python 3"
    },
    "language_info": {
      "name": "python"
    }
  },
  "cells": [
    {
      "cell_type": "markdown",
      "metadata": {
        "id": "view-in-github",
        "colab_type": "text"
      },
      "source": [
        "<a href=\"https://colab.research.google.com/github/armandochernandez-ai/Curso-python-slava/blob/main/Clima/PRONOSTICO_PMAX24.ipynb\" target=\"_parent\"><img src=\"https://colab.research.google.com/assets/colab-badge.svg\" alt=\"Open In Colab\"/></a>"
      ]
    },
    {
      "cell_type": "code",
      "execution_count": null,
      "metadata": {
        "id": "icXrjyzLoA9W"
      },
      "outputs": [],
      "source": [
        "#ESTE FUE EL SCRIPT INICIAL SE PRPOBÓ CON UNA ESTACIÓN, EL POSTERIOR ES PARA TODAS LAS ESTACIONES\n",
        "import pandas as pd\n",
        "import numpy as np\n",
        "import matplotlib.pyplot as plt\n",
        "from sklearn.linear_model import LinearRegression\n",
        "import os\n",
        "from google.colab import drive\n",
        "\n",
        "# Montar Google Drive\n",
        "drive.mount('/content/drive')\n",
        "\n",
        "#Cargar Base de datos\n",
        "file_path = '/content/drive/My Drive/Clima_Jalisco/estaciones_jalmes_FL.csv'\n",
        "df_clima = pd.read_csv(file_path)\n",
        "display(df_clima.head())\n",
        "display(df_clima.info())\n",
        "\n",
        "#Filtrar datos para ejemplo\n",
        "df_filtered = df_clima[df_clima['Codigo'] == 14002].copy()\n",
        "display(df_filtered.head())\n",
        "display(df_filtered.info())\n",
        "\n",
        "#Calculo de pmax24 anual\n",
        "df_filtered['date'] = pd.to_datetime(df_filtered['date'])\n",
        "df_filtered = df_filtered.set_index('date')\n",
        "pmax24_annual_max = df_filtered['pmax24'].resample('AS').max()\n",
        "pmax24_annual_max = pmax24_annual_max.dropna()\n",
        "display(pmax24_annual_max.head())\n",
        "\n",
        "#Preparar datos para análisis de tendencia\n",
        "pmax24_sorted = pmax24_annual_max.sort_values(ascending=False)\n",
        "df_sorted = pmax24_sorted.to_frame().reset_index()\n",
        "n = len(df_sorted)\n",
        "df_sorted['rank'] = range(1, n + 1)\n",
        "df_sorted['probability'] = df_sorted['rank'] / (n + 1)\n",
        "df_sorted['return_period'] = (n + 1) / df_sorted['rank']\n",
        "display(df_sorted.head())\n",
        "\n",
        "#Selección y ordenar variable por periodo de retorno\n",
        "y = df_sorted['pmax24']\n",
        "# Modified: Create X DataFrame using a dictionary\n",
        "X = pd.DataFrame({'log_return_period': np.log(df_sorted['return_period'])})\n",
        "\n",
        "display(X.head())\n",
        "display(y.head())\n",
        "\n",
        "# Check if X is empty before fitting the model\n",
        "if not X.empty:\n",
        "    #Cálculo de modelo\n",
        "    modelo = LinearRegression()\n",
        "    modelo.fit(X, y)\n",
        "    print(f\"Coeficiente: {modelo.coef_}\")\n",
        "    print(f\"Intercepto: {modelo.intercept_}\")\n",
        "\n",
        "    # Generar el gráfico de tendencia\n",
        "    fig, ax = plt.subplots(figsize=(10, 6)) # Create figure and axes\n",
        "    ax.scatter(df_sorted['return_period'], y, label='Datos') # Use return period on the x-axis\n",
        "    ax.plot(df_sorted['return_period'], modelo.predict(X), color='red', label='Tendencia Lineal') # Plot regression line against return period\n",
        "    ax.set_xlabel('Años (retorno)') # Change x-axis label to 'Periodo de Retorno'\n",
        "    ax.set_ylabel('pmax24 Anual')\n",
        "    # Modified: Include site and code in the title\n",
        "    site_name = df_filtered['site'].iloc[0] if not df_filtered.empty else 'Unknown Site'\n",
        "    site_code = df_filtered['Codigo'].iloc[0] if not df_filtered.empty else 'Unknown Code'\n",
        "    ax.set_title(f'TENDENCIA DE pmax24 ANUAL {site_name} ({site_code})')\n",
        "    ax.legend()\n",
        "    ax.grid(True)\n",
        "\n",
        "    # Add model parameters and formula to the plot\n",
        "    intercept = modelo.intercept_\n",
        "    coef = modelo.coef_[0]\n",
        "    formula = f'y = {intercept:.2f} + ({coef:.2f} * log(x))'\n",
        "    textstr = f'a (Intercepto): {intercept:.2f}\\nb (Coeficiente): {coef:.2f}\\nFórmula: {formula}'\n",
        "    ax.text(0.7, 0.05, textstr, transform=ax.transAxes, fontsize=8,\n",
        "             verticalalignment='bottom', horizontalalignment='left', bbox=dict(boxstyle='round,pad=0.5', fc='skyblue', alpha=0.5))\n",
        "\n",
        "    plt.tight_layout() # Adjust layout to prevent labels overlapping\n",
        "\n",
        "    # Directorio para guardar resultados\n",
        "    save_dir = '/content/drive/My Drive/Clima_Jalisco/GRAFICOS_PMAX24'\n",
        "    os.makedirs(save_dir, exist_ok=True)\n",
        "    file_path = os.path.join(save_dir, f'pmax24_{site_name}_{site_code}.png') # Changed filename\n",
        "\n",
        "    # GUardar el gráfico de tendencia\n",
        "    plt.savefig(file_path)\n",
        "\n",
        "    # Display the plot in the notebook\n",
        "    plt.show()\n",
        "\n",
        "    plt.close(fig) # Close the figure using the figure object\n",
        "\n",
        "    print(f\"Scatter plot saved to {file_path}\")\n",
        "else:\n",
        "    print(\"X is empty. Cannot fit the model.\")"
      ]
    },
    {
      "cell_type": "code",
      "metadata": {
        "colab": {
          "base_uri": "https://localhost:8080/"
        },
        "cellView": "form",
        "id": "a3735a0c",
        "outputId": "162694ad-2ad9-4e65-e5ee-35d7c13924cd"
      },
      "source": [
        "import pandas as pd\n",
        "import numpy as np\n",
        "import matplotlib.pyplot as plt\n",
        "from sklearn.linear_model import LinearRegression\n",
        "import os\n",
        "from google.colab import drive\n",
        "\n",
        "# Montar Google Drive\n",
        "drive.mount('/content/drive')\n",
        "\n",
        "#Cargar Base de datos\n",
        "file_path = '/content/drive/My Drive/Clima_Jalisco/estaciones_jalmes_FL.csv'\n",
        "try:\n",
        "    df_clima = pd.read_csv(file_path)\n",
        "    print(\"Data loaded successfully.\")\n",
        "except FileNotFoundError:\n",
        "    print(f\"Error: The file was not found at {file_path}\")\n",
        "    print(\"Please ensure the file exists at the specified path in your Google Drive.\")\n",
        "    df_clima = None # Grarntiza no proceder con un dataframe vacio\n",
        "\n",
        "if df_clima is not None:\n",
        "    # Dar formato de fecha\n",
        "    df_clima['date'] = pd.to_datetime(df_clima['date'])\n",
        "\n",
        "    # Codigos únicos\n",
        "    unique_codes = df_clima['Codigo'].unique()\n",
        "    print(f\"Found {len(unique_codes)} unique stations.\")\n",
        "\n",
        "    # Directorio para guardar resultados\n",
        "    save_dir = '/content/drive/My Drive/Clima_Jalisco/GRAFICOS_PMAX24' # Directorio para guardar cada gráfico individual\n",
        "    os.makedirs(save_dir, exist_ok=True)\n",
        "    print(f\"Save directory created: {save_dir}\")\n",
        "\n",
        "\n",
        "    for code in unique_codes:\n",
        "        print(f\"\\nProcessing station code: {code}\")\n",
        "        # Filtrar datos para la estación actual\n",
        "        df_filtered = df_clima[df_clima['Codigo'] == code].copy()\n",
        "\n",
        "        if not df_filtered.empty:\n",
        "            # Para poner nombre de cada gráfico y archivo\n",
        "            site_name = df_filtered['site'].iloc[0] if 'site' in df_filtered.columns and not df_filtered['site'].empty else f'Code_{code}'\n",
        "\n",
        "            #Calculo de pmax24 anual\n",
        "            df_filtered = df_filtered.set_index('date')\n",
        "            pmax24_annual_max = df_filtered['pmax24'].resample('AS').max()\n",
        "            pmax24_annual_max = pmax24_annual_max.dropna()\n",
        "\n",
        "            if not pmax24_annual_max.empty and len(pmax24_annual_max) > 1: # Asegurar datos suficientes para regresión\n",
        "                #Preparar datos para análisis de tendencia\n",
        "                pmax24_sorted = pmax24_annual_max.sort_values(ascending=False)\n",
        "                df_sorted = pmax24_sorted.to_frame().reset_index()\n",
        "                n = len(df_sorted)\n",
        "                df_sorted['rank'] = range(1, n + 1)\n",
        "                df_sorted['probability'] = df_sorted['rank'] / (n + 1)\n",
        "                df_sorted['return_period'] = (n + 1) / df_sorted['rank']\n",
        "\n",
        "                #Selección y ordenar variable por periodo de retorno\n",
        "                y = df_sorted['pmax24']\n",
        "                X = pd.DataFrame({'log_return_period': np.log(df_sorted['return_period'])})\n",
        "\n",
        "                # Checar si X esta vacio despues de transformación logaritmica\n",
        "                if not X.empty and not X['log_return_period'].isnull().all():\n",
        "                    #Cálculo de modelo\n",
        "                    try:\n",
        "                        modelo = LinearRegression()\n",
        "                        modelo.fit(X, y)\n",
        "                        print(f\"  Coeficiente: {modelo.coef_}\")\n",
        "                        print(f\"  Intercepto: {modelo.intercept_}\")\n",
        "\n",
        "                        # Generar el gráfico de tendencia\n",
        "                        fig, ax = plt.subplots(figsize=(10, 6))\n",
        "                        ax.scatter(df_sorted['return_period'], y, label='Datos')\n",
        "                        ax.plot(df_sorted['return_period'], modelo.predict(X), color='red', label='Tendencia Lineal')\n",
        "                        ax.set_xlabel('Años (retorno)')\n",
        "                        ax.set_ylabel('pmax24 Anual')\n",
        "                        ax.set_title(f'ESTACION: {site_name} {code}\\n(Tendencia de pmax24 anual)', fontsize=12)\n",
        "                        ax.legend()\n",
        "                        ax.grid(True)\n",
        "\n",
        "                        # adicionar datos de modelo en el gráfico\n",
        "                        intercept = modelo.intercept_\n",
        "                        coef = modelo.coef_[0]\n",
        "                        # Chear si coeficiente es valor individual antes de formatear\n",
        "                        coef_formatted = coef if np.isscalar(coef) else coef[0] # Manejar casos donde coef si es array\n",
        "                        formula = f'y = {coef_formatted:.2f} * log(x) + {intercept:.2f}'\n",
        "                        textstr = f'a (Intercepto): {intercept:.2f}\\nb (Coeficiente): {coef_formatted:.2f}\\nFórmula: {formula}'\n",
        "                        ax.text(0.7, 0.05, textstr, transform=ax.transAxes, fontsize=8,\n",
        "                                 verticalalignment='bottom', horizontalalignment='left', bbox=dict(boxstyle='round,pad=0.5', fc='skyblue', alpha=0.5))\n",
        "\n",
        "                        plt.tight_layout()\n",
        "\n",
        "                        # Guardar el gráfico de tendencia\n",
        "                        file_name = f'pmax24_trend_{site_name}_{code}.png'\n",
        "                        file_path = os.path.join(save_dir, file_name)\n",
        "                        plt.savefig(file_path)\n",
        "                        plt.close(fig) # Cerrar y gguardar\n",
        "\n",
        "                        print(f\"  Scatter plot saved to {file_path}\")\n",
        "\n",
        "                    except Exception as e:\n",
        "                        print(f\"  Error during model fitting or plotting for station {code}: {e}\")\n",
        "                        plt.close(fig) # Asegurar que fue cerrado\n",
        "\n",
        "                else:\n",
        "                    print(f\"  Not enough valid data points after log transformation for station {code} to fit the model.\")\n",
        "            else:\n",
        "                print(f\"  Not enough annual maximum pmax24 data for station {code} to perform trend analysis.\")\n",
        "        else:\n",
        "            print(f\"  No data found for station code: {code}\")\n",
        "\n",
        "    print(\"\\nScript finished.\")"
      ],
      "execution_count": 2,
      "outputs": [
        {
          "output_type": "stream",
          "name": "stdout",
          "text": [
            "Drive already mounted at /content/drive; to attempt to forcibly remount, call drive.mount(\"/content/drive\", force_remount=True).\n",
            "Data loaded successfully.\n",
            "Found 28 unique stations.\n",
            "Save directory created: /content/drive/My Drive/Clima_Jalisco/GRAFICOS_PMAX24\n",
            "\n",
            "Processing station code: 14013\n",
            "  Coeficiente: [20.54615279]\n",
            "  Intercepto: 35.34229926669606\n"
          ]
        },
        {
          "output_type": "stream",
          "name": "stderr",
          "text": [
            "/tmp/ipython-input-3586071606.py:46: FutureWarning: 'AS' is deprecated and will be removed in a future version, please use 'YS' instead.\n",
            "  pmax24_annual_max = df_filtered['pmax24'].resample('AS').max()\n"
          ]
        },
        {
          "output_type": "stream",
          "name": "stdout",
          "text": [
            "  Scatter plot saved to /content/drive/My Drive/Clima_Jalisco/GRAFICOS_PMAX24/pmax24_trend_ATEMAJAC DE BRIZUELA_14013.png\n",
            "\n",
            "Processing station code: 14029\n",
            "  Coeficiente: [23.00763115]\n",
            "  Intercepto: 38.15843644401748\n"
          ]
        },
        {
          "output_type": "stream",
          "name": "stderr",
          "text": [
            "/tmp/ipython-input-3586071606.py:46: FutureWarning: 'AS' is deprecated and will be removed in a future version, please use 'YS' instead.\n",
            "  pmax24_annual_max = df_filtered['pmax24'].resample('AS').max()\n"
          ]
        },
        {
          "output_type": "stream",
          "name": "stdout",
          "text": [
            "  Scatter plot saved to /content/drive/My Drive/Clima_Jalisco/GRAFICOS_PMAX24/pmax24_trend_CONCEPCION DE BUENOS AIRES_14029.png\n",
            "\n",
            "Processing station code: 14034\n",
            "  Coeficiente: [18.06661473]\n",
            "  Intercepto: 55.42619503121256\n"
          ]
        },
        {
          "output_type": "stream",
          "name": "stderr",
          "text": [
            "/tmp/ipython-input-3586071606.py:46: FutureWarning: 'AS' is deprecated and will be removed in a future version, please use 'YS' instead.\n",
            "  pmax24_annual_max = df_filtered['pmax24'].resample('AS').max()\n"
          ]
        },
        {
          "output_type": "stream",
          "name": "stdout",
          "text": [
            "  Scatter plot saved to /content/drive/My Drive/Clima_Jalisco/GRAFICOS_PMAX24/pmax24_trend_CONTLA_14034.png\n",
            "\n",
            "Processing station code: 14043\n",
            "  Coeficiente: [24.30063475]\n",
            "  Intercepto: 42.525859461901696\n"
          ]
        },
        {
          "output_type": "stream",
          "name": "stderr",
          "text": [
            "/tmp/ipython-input-3586071606.py:46: FutureWarning: 'AS' is deprecated and will be removed in a future version, please use 'YS' instead.\n",
            "  pmax24_annual_max = df_filtered['pmax24'].resample('AS').max()\n"
          ]
        },
        {
          "output_type": "stream",
          "name": "stdout",
          "text": [
            "  Scatter plot saved to /content/drive/My Drive/Clima_Jalisco/GRAFICOS_PMAX24/pmax24_trend_EJUTLA_14043.png\n",
            "\n",
            "Processing station code: 14046\n",
            "  Coeficiente: [29.50736356]\n",
            "  Intercepto: 28.922536162402395\n"
          ]
        },
        {
          "output_type": "stream",
          "name": "stderr",
          "text": [
            "/tmp/ipython-input-3586071606.py:46: FutureWarning: 'AS' is deprecated and will be removed in a future version, please use 'YS' instead.\n",
            "  pmax24_annual_max = df_filtered['pmax24'].resample('AS').max()\n"
          ]
        },
        {
          "output_type": "stream",
          "name": "stdout",
          "text": [
            "  Scatter plot saved to /content/drive/My Drive/Clima_Jalisco/GRAFICOS_PMAX24/pmax24_trend_EL CHANTE_14046.png\n",
            "\n",
            "Processing station code: 14052\n",
            "  Coeficiente: [27.77591698]\n",
            "  Intercepto: 35.47781159285587\n"
          ]
        },
        {
          "output_type": "stream",
          "name": "stderr",
          "text": [
            "/tmp/ipython-input-3586071606.py:46: FutureWarning: 'AS' is deprecated and will be removed in a future version, please use 'YS' instead.\n",
            "  pmax24_annual_max = df_filtered['pmax24'].resample('AS').max()\n"
          ]
        },
        {
          "output_type": "stream",
          "name": "stdout",
          "text": [
            "  Scatter plot saved to /content/drive/My Drive/Clima_Jalisco/GRAFICOS_PMAX24/pmax24_trend_EL NOGAL_14052.png\n",
            "\n",
            "Processing station code: 14078\n",
            "  Coeficiente: [18.45163317]\n",
            "  Intercepto: 42.58859206059743\n"
          ]
        },
        {
          "output_type": "stream",
          "name": "stderr",
          "text": [
            "/tmp/ipython-input-3586071606.py:46: FutureWarning: 'AS' is deprecated and will be removed in a future version, please use 'YS' instead.\n",
            "  pmax24_annual_max = df_filtered['pmax24'].resample('AS').max()\n"
          ]
        },
        {
          "output_type": "stream",
          "name": "stdout",
          "text": [
            "  Scatter plot saved to /content/drive/My Drive/Clima_Jalisco/GRAFICOS_PMAX24/pmax24_trend_JUCHITLAN_14078.png\n",
            "\n",
            "Processing station code: 14086\n",
            "  Coeficiente: [15.82472399]\n",
            "  Intercepto: 39.90693184300682\n"
          ]
        },
        {
          "output_type": "stream",
          "name": "stderr",
          "text": [
            "/tmp/ipython-input-3586071606.py:46: FutureWarning: 'AS' is deprecated and will be removed in a future version, please use 'YS' instead.\n",
            "  pmax24_annual_max = df_filtered['pmax24'].resample('AS').max()\n"
          ]
        },
        {
          "output_type": "stream",
          "name": "stdout",
          "text": [
            "  Scatter plot saved to /content/drive/My Drive/Clima_Jalisco/GRAFICOS_PMAX24/pmax24_trend_LA MANZANILLA DE LA PAZ_14086.png\n",
            "\n",
            "Processing station code: 14099\n",
            "  Coeficiente: [25.70451743]\n",
            "  Intercepto: 38.18211589568385\n"
          ]
        },
        {
          "output_type": "stream",
          "name": "stderr",
          "text": [
            "/tmp/ipython-input-3586071606.py:46: FutureWarning: 'AS' is deprecated and will be removed in a future version, please use 'YS' instead.\n",
            "  pmax24_annual_max = df_filtered['pmax24'].resample('AS').max()\n"
          ]
        },
        {
          "output_type": "stream",
          "name": "stdout",
          "text": [
            "  Scatter plot saved to /content/drive/My Drive/Clima_Jalisco/GRAFICOS_PMAX24/pmax24_trend_MAZAMITLA_14099.png\n",
            "\n",
            "Processing station code: 14119\n",
            "  Coeficiente: [18.11627919]\n",
            "  Intercepto: 28.064675591298705\n"
          ]
        },
        {
          "output_type": "stream",
          "name": "stderr",
          "text": [
            "/tmp/ipython-input-3586071606.py:46: FutureWarning: 'AS' is deprecated and will be removed in a future version, please use 'YS' instead.\n",
            "  pmax24_annual_max = df_filtered['pmax24'].resample('AS').max()\n"
          ]
        },
        {
          "output_type": "stream",
          "name": "stdout",
          "text": [
            "  Scatter plot saved to /content/drive/My Drive/Clima_Jalisco/GRAFICOS_PMAX24/pmax24_trend_QUITUPAN (CFE)_14119.png\n",
            "\n",
            "Processing station code: 14139\n",
            "  Coeficiente: [19.35332029]\n",
            "  Intercepto: 35.871036409016\n"
          ]
        },
        {
          "output_type": "stream",
          "name": "stderr",
          "text": [
            "/tmp/ipython-input-3586071606.py:46: FutureWarning: 'AS' is deprecated and will be removed in a future version, please use 'YS' instead.\n",
            "  pmax24_annual_max = df_filtered['pmax24'].resample('AS').max()\n"
          ]
        },
        {
          "output_type": "stream",
          "name": "stdout",
          "text": [
            "  Scatter plot saved to /content/drive/My Drive/Clima_Jalisco/GRAFICOS_PMAX24/pmax24_trend_TACOTAN_14139.png\n",
            "\n",
            "Processing station code: 14141\n",
            "  Coeficiente: [24.01403436]\n",
            "  Intercepto: 46.06128984924875\n"
          ]
        },
        {
          "output_type": "stream",
          "name": "stderr",
          "text": [
            "/tmp/ipython-input-3586071606.py:46: FutureWarning: 'AS' is deprecated and will be removed in a future version, please use 'YS' instead.\n",
            "  pmax24_annual_max = df_filtered['pmax24'].resample('AS').max()\n"
          ]
        },
        {
          "output_type": "stream",
          "name": "stdout",
          "text": [
            "  Scatter plot saved to /content/drive/My Drive/Clima_Jalisco/GRAFICOS_PMAX24/pmax24_trend_INGENIO TAMAZULA_14141.png\n",
            "\n",
            "Processing station code: 14142\n",
            "  Coeficiente: [24.03843434]\n",
            "  Intercepto: 44.98094122520648\n"
          ]
        },
        {
          "output_type": "stream",
          "name": "stderr",
          "text": [
            "/tmp/ipython-input-3586071606.py:46: FutureWarning: 'AS' is deprecated and will be removed in a future version, please use 'YS' instead.\n",
            "  pmax24_annual_max = df_filtered['pmax24'].resample('AS').max()\n"
          ]
        },
        {
          "output_type": "stream",
          "name": "stdout",
          "text": [
            "  Scatter plot saved to /content/drive/My Drive/Clima_Jalisco/GRAFICOS_PMAX24/pmax24_trend_TAPALPA (SMN)_14142.png\n",
            "\n",
            "Processing station code: 14143\n",
            "  Coeficiente: [18.81678949]\n",
            "  Intercepto: 46.95845052563646\n"
          ]
        },
        {
          "output_type": "stream",
          "name": "stderr",
          "text": [
            "/tmp/ipython-input-3586071606.py:46: FutureWarning: 'AS' is deprecated and will be removed in a future version, please use 'YS' instead.\n",
            "  pmax24_annual_max = df_filtered['pmax24'].resample('AS').max()\n"
          ]
        },
        {
          "output_type": "stream",
          "name": "stdout",
          "text": [
            "  Scatter plot saved to /content/drive/My Drive/Clima_Jalisco/GRAFICOS_PMAX24/pmax24_trend_TECOLOTLAN (DGE)_14143.png\n",
            "\n",
            "Processing station code: 14155\n",
            "  Coeficiente: [20.56419507]\n",
            "  Intercepto: 49.35942574029451\n"
          ]
        },
        {
          "output_type": "stream",
          "name": "stderr",
          "text": [
            "/tmp/ipython-input-3586071606.py:46: FutureWarning: 'AS' is deprecated and will be removed in a future version, please use 'YS' instead.\n",
            "  pmax24_annual_max = df_filtered['pmax24'].resample('AS').max()\n"
          ]
        },
        {
          "output_type": "stream",
          "name": "stdout",
          "text": [
            "  Scatter plot saved to /content/drive/My Drive/Clima_Jalisco/GRAFICOS_PMAX24/pmax24_trend_TUXCACUESCO_14155.png\n",
            "\n",
            "Processing station code: 14158\n",
            "  Coeficiente: [23.46314222]\n",
            "  Intercepto: 37.302362411999034\n"
          ]
        },
        {
          "output_type": "stream",
          "name": "stderr",
          "text": [
            "/tmp/ipython-input-3586071606.py:46: FutureWarning: 'AS' is deprecated and will be removed in a future version, please use 'YS' instead.\n",
            "  pmax24_annual_max = df_filtered['pmax24'].resample('AS').max()\n"
          ]
        },
        {
          "output_type": "stream",
          "name": "stdout",
          "text": [
            "  Scatter plot saved to /content/drive/My Drive/Clima_Jalisco/GRAFICOS_PMAX24/pmax24_trend_UNION DE TULA_14158.png\n",
            "\n",
            "Processing station code: 14160\n",
            "  Coeficiente: [26.96802842]\n",
            "  Intercepto: 26.80901663425941\n"
          ]
        },
        {
          "output_type": "stream",
          "name": "stderr",
          "text": [
            "/tmp/ipython-input-3586071606.py:46: FutureWarning: 'AS' is deprecated and will be removed in a future version, please use 'YS' instead.\n",
            "  pmax24_annual_max = df_filtered['pmax24'].resample('AS').max()\n"
          ]
        },
        {
          "output_type": "stream",
          "name": "stdout",
          "text": [
            "  Scatter plot saved to /content/drive/My Drive/Clima_Jalisco/GRAFICOS_PMAX24/pmax24_trend_VALLE DE JUAREZ (DGE)_14160.png\n",
            "\n",
            "Processing station code: 14180\n",
            "  Coeficiente: [25.51306302]\n",
            "  Intercepto: 26.59562848046279\n"
          ]
        },
        {
          "output_type": "stream",
          "name": "stderr",
          "text": [
            "/tmp/ipython-input-3586071606.py:46: FutureWarning: 'AS' is deprecated and will be removed in a future version, please use 'YS' instead.\n",
            "  pmax24_annual_max = df_filtered['pmax24'].resample('AS').max()\n"
          ]
        },
        {
          "output_type": "stream",
          "name": "stdout",
          "text": [
            "  Scatter plot saved to /content/drive/My Drive/Clima_Jalisco/GRAFICOS_PMAX24/pmax24_trend_QUITUPAN_14180.png\n",
            "\n",
            "Processing station code: 14197\n",
            "  Coeficiente: [22.94408799]\n",
            "  Intercepto: 34.10172673827157\n"
          ]
        },
        {
          "output_type": "stream",
          "name": "stderr",
          "text": [
            "/tmp/ipython-input-3586071606.py:46: FutureWarning: 'AS' is deprecated and will be removed in a future version, please use 'YS' instead.\n",
            "  pmax24_annual_max = df_filtered['pmax24'].resample('AS').max()\n"
          ]
        },
        {
          "output_type": "stream",
          "name": "stdout",
          "text": [
            "  Scatter plot saved to /content/drive/My Drive/Clima_Jalisco/GRAFICOS_PMAX24/pmax24_trend_PRESA TRIGOMIL_14197.png\n",
            "\n",
            "Processing station code: 14301\n",
            "  Coeficiente: [20.81973781]\n",
            "  Intercepto: 50.570675808322804\n"
          ]
        },
        {
          "output_type": "stream",
          "name": "stderr",
          "text": [
            "/tmp/ipython-input-3586071606.py:46: FutureWarning: 'AS' is deprecated and will be removed in a future version, please use 'YS' instead.\n",
            "  pmax24_annual_max = df_filtered['pmax24'].resample('AS').max()\n"
          ]
        },
        {
          "output_type": "stream",
          "name": "stdout",
          "text": [
            "  Scatter plot saved to /content/drive/My Drive/Clima_Jalisco/GRAFICOS_PMAX24/pmax24_trend_TENAMAXTLAN_14301.png\n",
            "\n",
            "Processing station code: 14311\n",
            "  Coeficiente: [23.71993628]\n",
            "  Intercepto: 39.223850963353584\n"
          ]
        },
        {
          "output_type": "stream",
          "name": "stderr",
          "text": [
            "/tmp/ipython-input-3586071606.py:46: FutureWarning: 'AS' is deprecated and will be removed in a future version, please use 'YS' instead.\n",
            "  pmax24_annual_max = df_filtered['pmax24'].resample('AS').max()\n"
          ]
        },
        {
          "output_type": "stream",
          "name": "stdout",
          "text": [
            "  Scatter plot saved to /content/drive/My Drive/Clima_Jalisco/GRAFICOS_PMAX24/pmax24_trend_CANOAS_14311.png\n",
            "\n",
            "Processing station code: 14336\n",
            "  Coeficiente: [35.67809358]\n",
            "  Intercepto: 42.36525012110902\n"
          ]
        },
        {
          "output_type": "stream",
          "name": "stderr",
          "text": [
            "/tmp/ipython-input-3586071606.py:46: FutureWarning: 'AS' is deprecated and will be removed in a future version, please use 'YS' instead.\n",
            "  pmax24_annual_max = df_filtered['pmax24'].resample('AS').max()\n"
          ]
        },
        {
          "output_type": "stream",
          "name": "stdout",
          "text": [
            "  Scatter plot saved to /content/drive/My Drive/Clima_Jalisco/GRAFICOS_PMAX24/pmax24_trend_EL GUAYABO_14336.png\n",
            "\n",
            "Processing station code: 14343\n",
            "  Coeficiente: [22.40535208]\n",
            "  Intercepto: 43.54266660478615\n"
          ]
        },
        {
          "output_type": "stream",
          "name": "stderr",
          "text": [
            "/tmp/ipython-input-3586071606.py:46: FutureWarning: 'AS' is deprecated and will be removed in a future version, please use 'YS' instead.\n",
            "  pmax24_annual_max = df_filtered['pmax24'].resample('AS').max()\n"
          ]
        },
        {
          "output_type": "stream",
          "name": "stdout",
          "text": [
            "  Scatter plot saved to /content/drive/My Drive/Clima_Jalisco/GRAFICOS_PMAX24/pmax24_trend_PRESA BASILIO VADILLO_14343.png\n",
            "\n",
            "Processing station code: 14350\n",
            "  Coeficiente: [25.23553666]\n",
            "  Intercepto: 46.35385751907636\n"
          ]
        },
        {
          "output_type": "stream",
          "name": "stderr",
          "text": [
            "/tmp/ipython-input-3586071606.py:46: FutureWarning: 'AS' is deprecated and will be removed in a future version, please use 'YS' instead.\n",
            "  pmax24_annual_max = df_filtered['pmax24'].resample('AS').max()\n"
          ]
        },
        {
          "output_type": "stream",
          "name": "stdout",
          "text": [
            "  Scatter plot saved to /content/drive/My Drive/Clima_Jalisco/GRAFICOS_PMAX24/pmax24_trend_EL ROSARIO_14350.png\n",
            "\n",
            "Processing station code: 14387\n",
            "  Coeficiente: [24.73649304]\n",
            "  Intercepto: 43.991333476903925\n"
          ]
        },
        {
          "output_type": "stream",
          "name": "stderr",
          "text": [
            "/tmp/ipython-input-3586071606.py:46: FutureWarning: 'AS' is deprecated and will be removed in a future version, please use 'YS' instead.\n",
            "  pmax24_annual_max = df_filtered['pmax24'].resample('AS').max()\n"
          ]
        },
        {
          "output_type": "stream",
          "name": "stdout",
          "text": [
            "  Scatter plot saved to /content/drive/My Drive/Clima_Jalisco/GRAFICOS_PMAX24/pmax24_trend_TONAYA_14387.png\n",
            "\n",
            "Processing station code: 14390\n",
            "  Coeficiente: [19.6789087]\n",
            "  Intercepto: 31.40424049111565\n"
          ]
        },
        {
          "output_type": "stream",
          "name": "stderr",
          "text": [
            "/tmp/ipython-input-3586071606.py:46: FutureWarning: 'AS' is deprecated and will be removed in a future version, please use 'YS' instead.\n",
            "  pmax24_annual_max = df_filtered['pmax24'].resample('AS').max()\n"
          ]
        },
        {
          "output_type": "stream",
          "name": "stdout",
          "text": [
            "  Scatter plot saved to /content/drive/My Drive/Clima_Jalisco/GRAFICOS_PMAX24/pmax24_trend_EL CORCOVADO_14390.png\n",
            "\n",
            "Processing station code: 14391\n",
            "  Coeficiente: [12.96387673]\n",
            "  Intercepto: 32.827760020394976\n"
          ]
        },
        {
          "output_type": "stream",
          "name": "stderr",
          "text": [
            "/tmp/ipython-input-3586071606.py:46: FutureWarning: 'AS' is deprecated and will be removed in a future version, please use 'YS' instead.\n",
            "  pmax24_annual_max = df_filtered['pmax24'].resample('AS').max()\n"
          ]
        },
        {
          "output_type": "stream",
          "name": "stdout",
          "text": [
            "  Scatter plot saved to /content/drive/My Drive/Clima_Jalisco/GRAFICOS_PMAX24/pmax24_trend_PRESA EL VOLANTIN_14391.png\n",
            "\n",
            "Processing station code: 14395\n",
            "  Coeficiente: [13.08669131]\n",
            "  Intercepto: 26.51952781276683\n"
          ]
        },
        {
          "output_type": "stream",
          "name": "stderr",
          "text": [
            "/tmp/ipython-input-3586071606.py:46: FutureWarning: 'AS' is deprecated and will be removed in a future version, please use 'YS' instead.\n",
            "  pmax24_annual_max = df_filtered['pmax24'].resample('AS').max()\n"
          ]
        },
        {
          "output_type": "stream",
          "name": "stdout",
          "text": [
            "  Scatter plot saved to /content/drive/My Drive/Clima_Jalisco/GRAFICOS_PMAX24/pmax24_trend_IXTLAHUACAN DE SANTIAGO_14395.png\n",
            "\n",
            "Script finished.\n"
          ]
        }
      ]
    }
  ]
}