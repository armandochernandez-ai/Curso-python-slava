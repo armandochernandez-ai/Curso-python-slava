{
  "nbformat": 4,
  "nbformat_minor": 0,
  "metadata": {
    "colab": {
      "provenance": [],
      "authorship_tag": "ABX9TyPAOxHG65CqSZg7umhbFj6g",
      "include_colab_link": true
    },
    "kernelspec": {
      "name": "python3",
      "display_name": "Python 3"
    },
    "language_info": {
      "name": "python"
    }
  },
  "cells": [
    {
      "cell_type": "markdown",
      "metadata": {
        "id": "view-in-github",
        "colab_type": "text"
      },
      "source": [
        "<a href=\"https://colab.research.google.com/github/armandochernandez-ai/Curso-python-slava/blob/main/Clima/PRONOSTICO_PMAX24.ipynb\" target=\"_parent\"><img src=\"https://colab.research.google.com/assets/colab-badge.svg\" alt=\"Open In Colab\"/></a>"
      ]
    },
    {
      "cell_type": "code",
      "execution_count": null,
      "metadata": {
        "id": "icXrjyzLoA9W"
      },
      "outputs": [],
      "source": [
        "import pandas as pd\n",
        "import numpy as np\n",
        "import matplotlib.pyplot as plt\n",
        "from sklearn.linear_model import LinearRegression\n",
        "import os\n",
        "from google.colab import drive\n",
        "\n",
        "# Montar Google Drive\n",
        "drive.mount('/content/drive')\n",
        "\n",
        "#Cargar Base de datos\n",
        "file_path = '/content/drive/My Drive/Clima_Jalisco/estaciones_jalmes_FL.csv'\n",
        "df_clima = pd.read_csv(file_path)\n",
        "display(df_clima.head())\n",
        "display(df_clima.info())\n",
        "\n",
        "#Filtrar datos para ejemplo\n",
        "df_filtered = df_clima[df_clima['Codigo'] == 14002].copy()\n",
        "display(df_filtered.head())\n",
        "display(df_filtered.info())\n",
        "\n",
        "#Calculo de pmax24 anual\n",
        "df_filtered['date'] = pd.to_datetime(df_filtered['date'])\n",
        "df_filtered = df_filtered.set_index('date')\n",
        "pmax24_annual_max = df_filtered['pmax24'].resample('AS').max()\n",
        "pmax24_annual_max = pmax24_annual_max.dropna()\n",
        "display(pmax24_annual_max.head())\n",
        "\n",
        "#Preparar datos para análisis de tendencia\n",
        "pmax24_sorted = pmax24_annual_max.sort_values(ascending=False)\n",
        "df_sorted = pmax24_sorted.to_frame().reset_index()\n",
        "n = len(df_sorted)\n",
        "df_sorted['rank'] = range(1, n + 1)\n",
        "df_sorted['probability'] = df_sorted['rank'] / (n + 1)\n",
        "df_sorted['return_period'] = (n + 1) / df_sorted['rank']\n",
        "display(df_sorted.head())\n",
        "\n",
        "#Selección y ordenar variable por periodo de retorno\n",
        "y = df_sorted['pmax24']\n",
        "# Modified: Create X DataFrame using a dictionary\n",
        "X = pd.DataFrame({'log_return_period': np.log(df_sorted['return_period'])})\n",
        "\n",
        "display(X.head())\n",
        "display(y.head())\n",
        "\n",
        "# Check if X is empty before fitting the model\n",
        "if not X.empty:\n",
        "    #Cálculo de modelo\n",
        "    modelo = LinearRegression()\n",
        "    modelo.fit(X, y)\n",
        "    print(f\"Coeficiente: {modelo.coef_}\")\n",
        "    print(f\"Intercepto: {modelo.intercept_}\")\n",
        "\n",
        "    # Generar el gráfico de tendencia\n",
        "    fig, ax = plt.subplots(figsize=(10, 6)) # Create figure and axes\n",
        "    ax.scatter(df_sorted['return_period'], y, label='Datos') # Use return period on the x-axis\n",
        "    ax.plot(df_sorted['return_period'], modelo.predict(X), color='red', label='Tendencia Lineal') # Plot regression line against return period\n",
        "    ax.set_xlabel('Años (retorno)') # Change x-axis label to 'Periodo de Retorno'\n",
        "    ax.set_ylabel('pmax24 Anual')\n",
        "    # Modified: Include site and code in the title\n",
        "    site_name = df_filtered['site'].iloc[0] if not df_filtered.empty else 'Unknown Site'\n",
        "    site_code = df_filtered['Codigo'].iloc[0] if not df_filtered.empty else 'Unknown Code'\n",
        "    ax.set_title(f'TENDENCIA DE pmax24 ANUAL {site_name} ({site_code})')\n",
        "    ax.legend()\n",
        "    ax.grid(True)\n",
        "\n",
        "    # Add model parameters and formula to the plot\n",
        "    intercept = modelo.intercept_\n",
        "    coef = modelo.coef_[0]\n",
        "    formula = f'y = {intercept:.2f} + ({coef:.2f} * log(x))'\n",
        "    textstr = f'a (Intercepto): {intercept:.2f}\\nb (Coeficiente): {coef:.2f}\\nFórmula: {formula}'\n",
        "    ax.text(0.7, 0.05, textstr, transform=ax.transAxes, fontsize=8,\n",
        "             verticalalignment='bottom', horizontalalignment='left', bbox=dict(boxstyle='round,pad=0.5', fc='skyblue', alpha=0.5))\n",
        "\n",
        "    plt.tight_layout() # Adjust layout to prevent labels overlapping\n",
        "\n",
        "    # Directorio para guardar resultados\n",
        "    save_dir = '/content/drive/My Drive/Clima_Jalisco/GRAFICOS_PMAX24'\n",
        "    os.makedirs(save_dir, exist_ok=True)\n",
        "    file_path = os.path.join(save_dir, f'pmax24_{site_name}_{site_code}.png') # Changed filename\n",
        "\n",
        "    # GUardar el gráfico de tendencia\n",
        "    plt.savefig(file_path)\n",
        "\n",
        "    # Display the plot in the notebook\n",
        "    plt.show()\n",
        "\n",
        "    plt.close(fig) # Close the figure using the figure object\n",
        "\n",
        "    print(f\"Scatter plot saved to {file_path}\")\n",
        "else:\n",
        "    print(\"X is empty. Cannot fit the model.\")"
      ]
    },
    {
      "cell_type": "code",
      "metadata": {
        "colab": {
          "base_uri": "https://localhost:8080/"
        },
        "cellView": "form",
        "id": "a3735a0c",
        "outputId": "707fc5f4-7e7a-4713-8505-a4693d5dcdeb"
      },
      "source": [
        "import pandas as pd\n",
        "import numpy as np\n",
        "import matplotlib.pyplot as plt\n",
        "from sklearn.linear_model import LinearRegression\n",
        "import os\n",
        "from google.colab import drive\n",
        "\n",
        "# Montar Google Drive\n",
        "drive.mount('/content/drive')\n",
        "\n",
        "#Cargar Base de datos\n",
        "file_path = '/content/drive/My Drive/Clima_Jalisco/estaciones_jalmes_FL.csv'\n",
        "try:\n",
        "    df_clima = pd.read_csv(file_path)\n",
        "    print(\"Data loaded successfully.\")\n",
        "except FileNotFoundError:\n",
        "    print(f\"Error: The file was not found at {file_path}\")\n",
        "    print(\"Please ensure the file exists at the specified path in your Google Drive.\")\n",
        "    df_clima = None # Grarntiza no proceder con un dataframe vacio\n",
        "\n",
        "if df_clima is not None:\n",
        "    # Dar formato de fecha\n",
        "    df_clima['date'] = pd.to_datetime(df_clima['date'])\n",
        "\n",
        "    # Codigos únicos\n",
        "    unique_codes = df_clima['Codigo'].unique()\n",
        "    print(f\"Found {len(unique_codes)} unique stations.\")\n",
        "\n",
        "    # Directorio para guardar resultados\n",
        "    save_dir = '/content/drive/My Drive/Clima_Jalisco/GRAFICOS_PMAX24' # Directorio para guardar cada gráfico individual\n",
        "    os.makedirs(save_dir, exist_ok=True)\n",
        "    print(f\"Save directory created: {save_dir}\")\n",
        "\n",
        "\n",
        "    for code in unique_codes:\n",
        "        print(f\"\\nProcessing station code: {code}\")\n",
        "        # Filtrar datos para la estación actual\n",
        "        df_filtered = df_clima[df_clima['Codigo'] == code].copy()\n",
        "\n",
        "        if not df_filtered.empty:\n",
        "            # Para poner nombre de cada gráfico y archivo\n",
        "            site_name = df_filtered['site'].iloc[0] if 'site' in df_filtered.columns and not df_filtered['site'].empty else f'Code_{code}'\n",
        "\n",
        "            #Calculo de pmax24 anual\n",
        "            df_filtered = df_filtered.set_index('date')\n",
        "            pmax24_annual_max = df_filtered['pmax24'].resample('AS').max()\n",
        "            pmax24_annual_max = pmax24_annual_max.dropna()\n",
        "\n",
        "            if not pmax24_annual_max.empty and len(pmax24_annual_max) > 1: # Asegurar datos suficientes para regresión\n",
        "                #Preparar datos para análisis de tendencia\n",
        "                pmax24_sorted = pmax24_annual_max.sort_values(ascending=False)\n",
        "                df_sorted = pmax24_sorted.to_frame().reset_index()\n",
        "                n = len(df_sorted)\n",
        "                df_sorted['rank'] = range(1, n + 1)\n",
        "                df_sorted['probability'] = df_sorted['rank'] / (n + 1)\n",
        "                df_sorted['return_period'] = (n + 1) / df_sorted['rank']\n",
        "\n",
        "                #Selección y ordenar variable por periodo de retorno\n",
        "                y = df_sorted['pmax24']\n",
        "                X = pd.DataFrame({'log_return_period': np.log(df_sorted['return_period'])})\n",
        "\n",
        "                # Checar si X esta vacio despues de transformación logaritmica\n",
        "                if not X.empty and not X['log_return_period'].isnull().all():\n",
        "                    #Cálculo de modelo\n",
        "                    try:\n",
        "                        modelo = LinearRegression()\n",
        "                        modelo.fit(X, y)\n",
        "                        print(f\"  Coeficiente: {modelo.coef_}\")\n",
        "                        print(f\"  Intercepto: {modelo.intercept_}\")\n",
        "\n",
        "                        # Generar el gráfico de tendencia\n",
        "                        fig, ax = plt.subplots(figsize=(10, 6))\n",
        "                        ax.scatter(df_sorted['return_period'], y, label='Datos')\n",
        "                        ax.plot(df_sorted['return_period'], modelo.predict(X), color='red', label='Tendencia Lineal')\n",
        "                        ax.set_xlabel('Años (retorno)')\n",
        "                        ax.set_ylabel('pmax24 Anual')\n",
        "                        ax.set_title(f'ESTACION: {site_name} {code}\\n(Tendencia de pmax24 anual)', fontsize=12)\n",
        "                        ax.legend()\n",
        "                        ax.grid(True)\n",
        "\n",
        "                        # adicionar datos de modelo en el gráfico\n",
        "                        intercept = modelo.intercept_\n",
        "                        coef = modelo.coef_[0]\n",
        "                        # Chear si coeficiente es valor individual antes de formatear\n",
        "                        coef_formatted = coef if np.isscalar(coef) else coef[0] # Manejar casos donde coef si es array\n",
        "                        formula = f'y = {coef_formatted:.2f} * log(x) + {intercept:.2f}'\n",
        "                        textstr = f'a (Intercepto): {intercept:.2f}\\nb (Coeficiente): {coef_formatted:.2f}\\nFórmula: {formula}'\n",
        "                        ax.text(0.7, 0.05, textstr, transform=ax.transAxes, fontsize=8,\n",
        "                                 verticalalignment='bottom', horizontalalignment='left', bbox=dict(boxstyle='round,pad=0.5', fc='skyblue', alpha=0.5))\n",
        "\n",
        "                        plt.tight_layout()\n",
        "\n",
        "                        # Guardar el gráfico de tendencia\n",
        "                        file_name = f'pmax24_trend_{site_name}_{code}.png'\n",
        "                        file_path = os.path.join(save_dir, file_name)\n",
        "                        plt.savefig(file_path)\n",
        "                        plt.close(fig) # Cerrar y gguardar\n",
        "\n",
        "                        print(f\"  Scatter plot saved to {file_path}\")\n",
        "\n",
        "                    except Exception as e:\n",
        "                        print(f\"  Error during model fitting or plotting for station {code}: {e}\")\n",
        "                        plt.close(fig) # Asegurar que fue cerrado\n",
        "\n",
        "                else:\n",
        "                    print(f\"  Not enough valid data points after log transformation for station {code} to fit the model.\")\n",
        "            else:\n",
        "                print(f\"  Not enough annual maximum pmax24 data for station {code} to perform trend analysis.\")\n",
        "        else:\n",
        "            print(f\"  No data found for station code: {code}\")\n",
        "\n",
        "    print(\"\\nScript finished.\")"
      ],
      "execution_count": 40,
      "outputs": [
        {
          "output_type": "stream",
          "name": "stdout",
          "text": [
            "Drive already mounted at /content/drive; to attempt to forcibly remount, call drive.mount(\"/content/drive\", force_remount=True).\n",
            "Data loaded successfully.\n",
            "Found 233 unique stations.\n",
            "Save directory created: /content/drive/My Drive/Clima_Jalisco/GRAFICOS_PMAX24\n",
            "\n",
            "Processing station code: 14002\n",
            "  Coeficiente: [21.20570336]\n",
            "  Intercepto: 38.739051463698885\n"
          ]
        },
        {
          "output_type": "stream",
          "name": "stderr",
          "text": [
            "/tmp/ipython-input-3586071606.py:46: FutureWarning: 'AS' is deprecated and will be removed in a future version, please use 'YS' instead.\n",
            "  pmax24_annual_max = df_filtered['pmax24'].resample('AS').max()\n"
          ]
        },
        {
          "output_type": "stream",
          "name": "stdout",
          "text": [
            "  Scatter plot saved to /content/drive/My Drive/Clima_Jalisco/GRAFICOS_PMAX24/pmax24_trend_ACATLAN DE JUAREZ_14002.png\n",
            "\n",
            "Processing station code: 14004\n",
            "  Coeficiente: [13.50129619]\n",
            "  Intercepto: 30.86483346244963\n"
          ]
        },
        {
          "output_type": "stream",
          "name": "stderr",
          "text": [
            "/tmp/ipython-input-3586071606.py:46: FutureWarning: 'AS' is deprecated and will be removed in a future version, please use 'YS' instead.\n",
            "  pmax24_annual_max = df_filtered['pmax24'].resample('AS').max()\n"
          ]
        },
        {
          "output_type": "stream",
          "name": "stdout",
          "text": [
            "  Scatter plot saved to /content/drive/My Drive/Clima_Jalisco/GRAFICOS_PMAX24/pmax24_trend_AGOSTADERO_14004.png\n",
            "\n",
            "Processing station code: 14005\n",
            "  Coeficiente: [25.30701883]\n",
            "  Intercepto: 34.818318305616216\n"
          ]
        },
        {
          "output_type": "stream",
          "name": "stderr",
          "text": [
            "/tmp/ipython-input-3586071606.py:46: FutureWarning: 'AS' is deprecated and will be removed in a future version, please use 'YS' instead.\n",
            "  pmax24_annual_max = df_filtered['pmax24'].resample('AS').max()\n"
          ]
        },
        {
          "output_type": "stream",
          "name": "stdout",
          "text": [
            "  Scatter plot saved to /content/drive/My Drive/Clima_Jalisco/GRAFICOS_PMAX24/pmax24_trend_AHUIJULLO_14005.png\n",
            "\n",
            "Processing station code: 14006\n",
            "  Coeficiente: [17.17054094]\n",
            "  Intercepto: 36.956329239744434\n"
          ]
        },
        {
          "output_type": "stream",
          "name": "stderr",
          "text": [
            "/tmp/ipython-input-3586071606.py:46: FutureWarning: 'AS' is deprecated and will be removed in a future version, please use 'YS' instead.\n",
            "  pmax24_annual_max = df_filtered['pmax24'].resample('AS').max()\n"
          ]
        },
        {
          "output_type": "stream",
          "name": "stdout",
          "text": [
            "  Scatter plot saved to /content/drive/My Drive/Clima_Jalisco/GRAFICOS_PMAX24/pmax24_trend_AJOJUCAR_14006.png\n",
            "\n",
            "Processing station code: 14007\n",
            "  Coeficiente: [31.96222482]\n",
            "  Intercepto: 54.35672952223318\n"
          ]
        },
        {
          "output_type": "stream",
          "name": "stderr",
          "text": [
            "/tmp/ipython-input-3586071606.py:46: FutureWarning: 'AS' is deprecated and will be removed in a future version, please use 'YS' instead.\n",
            "  pmax24_annual_max = df_filtered['pmax24'].resample('AS').max()\n"
          ]
        },
        {
          "output_type": "stream",
          "name": "stdout",
          "text": [
            "  Scatter plot saved to /content/drive/My Drive/Clima_Jalisco/GRAFICOS_PMAX24/pmax24_trend_ACIHUATL_14007.png\n",
            "\n",
            "Processing station code: 14008\n",
            "  Coeficiente: [18.53596387]\n",
            "  Intercepto: 25.735476261419752\n"
          ]
        },
        {
          "output_type": "stream",
          "name": "stderr",
          "text": [
            "/tmp/ipython-input-3586071606.py:46: FutureWarning: 'AS' is deprecated and will be removed in a future version, please use 'YS' instead.\n",
            "  pmax24_annual_max = df_filtered['pmax24'].resample('AS').max()\n"
          ]
        },
        {
          "output_type": "stream",
          "name": "stdout",
          "text": [
            "  Scatter plot saved to /content/drive/My Drive/Clima_Jalisco/GRAFICOS_PMAX24/pmax24_trend_AMACUECA_14008.png\n",
            "\n",
            "Processing station code: 14009\n",
            "  Coeficiente: [17.11340696]\n",
            "  Intercepto: 42.20002222399546\n"
          ]
        },
        {
          "output_type": "stream",
          "name": "stderr",
          "text": [
            "/tmp/ipython-input-3586071606.py:46: FutureWarning: 'AS' is deprecated and will be removed in a future version, please use 'YS' instead.\n",
            "  pmax24_annual_max = df_filtered['pmax24'].resample('AS').max()\n"
          ]
        },
        {
          "output_type": "stream",
          "name": "stdout",
          "text": [
            "  Scatter plot saved to /content/drive/My Drive/Clima_Jalisco/GRAFICOS_PMAX24/pmax24_trend_AMECA_14009.png\n",
            "\n",
            "Processing station code: 14010\n",
            "  Coeficiente: [13.29520983]\n",
            "  Intercepto: 52.18696019806795\n"
          ]
        },
        {
          "output_type": "stream",
          "name": "stderr",
          "text": [
            "/tmp/ipython-input-3586071606.py:46: FutureWarning: 'AS' is deprecated and will be removed in a future version, please use 'YS' instead.\n",
            "  pmax24_annual_max = df_filtered['pmax24'].resample('AS').max()\n"
          ]
        },
        {
          "output_type": "stream",
          "name": "stdout",
          "text": [
            "  Scatter plot saved to /content/drive/My Drive/Clima_Jalisco/GRAFICOS_PMAX24/pmax24_trend_ANTONIO ESCOBEDO (SMN)_14010.png\n",
            "\n",
            "Processing station code: 14011\n",
            "  Coeficiente: [83.16754713]\n",
            "  Intercepto: 53.60397147386752\n"
          ]
        },
        {
          "output_type": "stream",
          "name": "stderr",
          "text": [
            "/tmp/ipython-input-3586071606.py:46: FutureWarning: 'AS' is deprecated and will be removed in a future version, please use 'YS' instead.\n",
            "  pmax24_annual_max = df_filtered['pmax24'].resample('AS').max()\n"
          ]
        },
        {
          "output_type": "stream",
          "name": "stdout",
          "text": [
            "  Scatter plot saved to /content/drive/My Drive/Clima_Jalisco/GRAFICOS_PMAX24/pmax24_trend_APAZULCO_14011.png\n",
            "\n",
            "Processing station code: 14013\n",
            "  Coeficiente: [20.64242015]\n",
            "  Intercepto: 36.188253233049366\n"
          ]
        },
        {
          "output_type": "stream",
          "name": "stderr",
          "text": [
            "/tmp/ipython-input-3586071606.py:46: FutureWarning: 'AS' is deprecated and will be removed in a future version, please use 'YS' instead.\n",
            "  pmax24_annual_max = df_filtered['pmax24'].resample('AS').max()\n"
          ]
        },
        {
          "output_type": "stream",
          "name": "stdout",
          "text": [
            "  Scatter plot saved to /content/drive/My Drive/Clima_Jalisco/GRAFICOS_PMAX24/pmax24_trend_ATEMAJAC DE BRIZUELA_14013.png\n",
            "\n",
            "Processing station code: 14014\n",
            "  Coeficiente: [14.26660252]\n",
            "  Intercepto: 34.852958050379186\n"
          ]
        },
        {
          "output_type": "stream",
          "name": "stderr",
          "text": [
            "/tmp/ipython-input-3586071606.py:46: FutureWarning: 'AS' is deprecated and will be removed in a future version, please use 'YS' instead.\n",
            "  pmax24_annual_max = df_filtered['pmax24'].resample('AS').max()\n"
          ]
        },
        {
          "output_type": "stream",
          "name": "stdout",
          "text": [
            "  Scatter plot saved to /content/drive/My Drive/Clima_Jalisco/GRAFICOS_PMAX24/pmax24_trend_ATENGO (SMN)_14014.png\n",
            "\n",
            "Processing station code: 14015\n",
            "  Coeficiente: [24.42193083]\n",
            "  Intercepto: 42.576201885221494\n"
          ]
        },
        {
          "output_type": "stream",
          "name": "stderr",
          "text": [
            "/tmp/ipython-input-3586071606.py:46: FutureWarning: 'AS' is deprecated and will be removed in a future version, please use 'YS' instead.\n",
            "  pmax24_annual_max = df_filtered['pmax24'].resample('AS').max()\n"
          ]
        },
        {
          "output_type": "stream",
          "name": "stdout",
          "text": [
            "  Scatter plot saved to /content/drive/My Drive/Clima_Jalisco/GRAFICOS_PMAX24/pmax24_trend_ATENGUILLO_14015.png\n",
            "\n",
            "Processing station code: 14016\n",
            "  Coeficiente: [18.39249036]\n",
            "  Intercepto: 42.661987902276074\n"
          ]
        },
        {
          "output_type": "stream",
          "name": "stderr",
          "text": [
            "/tmp/ipython-input-3586071606.py:46: FutureWarning: 'AS' is deprecated and will be removed in a future version, please use 'YS' instead.\n",
            "  pmax24_annual_max = df_filtered['pmax24'].resample('AS').max()\n"
          ]
        },
        {
          "output_type": "stream",
          "name": "stdout",
          "text": [
            "  Scatter plot saved to /content/drive/My Drive/Clima_Jalisco/GRAFICOS_PMAX24/pmax24_trend_ATEQUIZA_14016.png\n",
            "\n",
            "Processing station code: 14017\n",
            "  Coeficiente: [24.12875263]\n",
            "  Intercepto: 35.9818689074901\n"
          ]
        },
        {
          "output_type": "stream",
          "name": "stderr",
          "text": [
            "/tmp/ipython-input-3586071606.py:46: FutureWarning: 'AS' is deprecated and will be removed in a future version, please use 'YS' instead.\n",
            "  pmax24_annual_max = df_filtered['pmax24'].resample('AS').max()\n"
          ]
        },
        {
          "output_type": "stream",
          "name": "stdout",
          "text": [
            "  Scatter plot saved to /content/drive/My Drive/Clima_Jalisco/GRAFICOS_PMAX24/pmax24_trend_ATOTONILCO EL ALTO_14017.png\n",
            "\n",
            "Processing station code: 14018\n",
            "  Coeficiente: [16.06403189]\n",
            "  Intercepto: 33.57104890125762\n"
          ]
        },
        {
          "output_type": "stream",
          "name": "stderr",
          "text": [
            "/tmp/ipython-input-3586071606.py:46: FutureWarning: 'AS' is deprecated and will be removed in a future version, please use 'YS' instead.\n",
            "  pmax24_annual_max = df_filtered['pmax24'].resample('AS').max()\n"
          ]
        },
        {
          "output_type": "stream",
          "name": "stdout",
          "text": [
            "  Scatter plot saved to /content/drive/My Drive/Clima_Jalisco/GRAFICOS_PMAX24/pmax24_trend_ATOYAC_14018.png\n",
            "\n",
            "Processing station code: 14019\n",
            "  Coeficiente: [30.15439893]\n",
            "  Intercepto: 40.886389004604055\n"
          ]
        },
        {
          "output_type": "stream",
          "name": "stderr",
          "text": [
            "/tmp/ipython-input-3586071606.py:46: FutureWarning: 'AS' is deprecated and will be removed in a future version, please use 'YS' instead.\n",
            "  pmax24_annual_max = df_filtered['pmax24'].resample('AS').max()\n"
          ]
        },
        {
          "output_type": "stream",
          "name": "stdout",
          "text": [
            "  Scatter plot saved to /content/drive/My Drive/Clima_Jalisco/GRAFICOS_PMAX24/pmax24_trend_AUTLAN_14019.png\n",
            "\n",
            "Processing station code: 14020\n",
            "  Coeficiente: [12.91051169]\n",
            "  Intercepto: 40.80263726177703\n"
          ]
        },
        {
          "output_type": "stream",
          "name": "stderr",
          "text": [
            "/tmp/ipython-input-3586071606.py:46: FutureWarning: 'AS' is deprecated and will be removed in a future version, please use 'YS' instead.\n",
            "  pmax24_annual_max = df_filtered['pmax24'].resample('AS').max()\n"
          ]
        },
        {
          "output_type": "stream",
          "name": "stdout",
          "text": [
            "  Scatter plot saved to /content/drive/My Drive/Clima_Jalisco/GRAFICOS_PMAX24/pmax24_trend_AYO EL CHICO_14020.png\n",
            "\n",
            "Processing station code: 14021\n",
            "  Coeficiente: [40.4312025]\n",
            "  Intercepto: 58.744222371381014\n"
          ]
        },
        {
          "output_type": "stream",
          "name": "stderr",
          "text": [
            "/tmp/ipython-input-3586071606.py:46: FutureWarning: 'AS' is deprecated and will be removed in a future version, please use 'YS' instead.\n",
            "  pmax24_annual_max = df_filtered['pmax24'].resample('AS').max()\n"
          ]
        },
        {
          "output_type": "stream",
          "name": "stdout",
          "text": [
            "  Scatter plot saved to /content/drive/My Drive/Clima_Jalisco/GRAFICOS_PMAX24/pmax24_trend_AYOTITLAN_14021.png\n",
            "\n",
            "Processing station code: 14023\n",
            "  Coeficiente: [15.32431576]\n",
            "  Intercepto: 34.87615544819736\n"
          ]
        },
        {
          "output_type": "stream",
          "name": "stderr",
          "text": [
            "/tmp/ipython-input-3586071606.py:46: FutureWarning: 'AS' is deprecated and will be removed in a future version, please use 'YS' instead.\n",
            "  pmax24_annual_max = df_filtered['pmax24'].resample('AS').max()\n"
          ]
        },
        {
          "output_type": "stream",
          "name": "stdout",
          "text": [
            "  Scatter plot saved to /content/drive/My Drive/Clima_Jalisco/GRAFICOS_PMAX24/pmax24_trend_BOLAÑOS_14023.png\n",
            "\n",
            "Processing station code: 14024\n",
            "  Coeficiente: [51.11499521]\n",
            "  Intercepto: 66.70944112681485\n"
          ]
        },
        {
          "output_type": "stream",
          "name": "stderr",
          "text": [
            "/tmp/ipython-input-3586071606.py:46: FutureWarning: 'AS' is deprecated and will be removed in a future version, please use 'YS' instead.\n",
            "  pmax24_annual_max = df_filtered['pmax24'].resample('AS').max()\n"
          ]
        },
        {
          "output_type": "stream",
          "name": "stdout",
          "text": [
            "  Scatter plot saved to /content/drive/My Drive/Clima_Jalisco/GRAFICOS_PMAX24/pmax24_trend_CAJON DE PEÑA_14024.png\n",
            "\n",
            "Processing station code: 14025\n",
            "  Coeficiente: [11.99265304]\n",
            "  Intercepto: 12.038621790929183\n"
          ]
        },
        {
          "output_type": "stream",
          "name": "stderr",
          "text": [
            "/tmp/ipython-input-3586071606.py:46: FutureWarning: 'AS' is deprecated and will be removed in a future version, please use 'YS' instead.\n",
            "  pmax24_annual_max = df_filtered['pmax24'].resample('AS').max()\n"
          ]
        },
        {
          "output_type": "stream",
          "name": "stdout",
          "text": [
            "  Scatter plot saved to /content/drive/My Drive/Clima_Jalisco/GRAFICOS_PMAX24/pmax24_trend_CALERA_14025.png\n",
            "\n",
            "Processing station code: 14026\n",
            "  Coeficiente: [17.50559304]\n",
            "  Intercepto: 37.52827368653905\n"
          ]
        },
        {
          "output_type": "stream",
          "name": "stderr",
          "text": [
            "/tmp/ipython-input-3586071606.py:46: FutureWarning: 'AS' is deprecated and will be removed in a future version, please use 'YS' instead.\n",
            "  pmax24_annual_max = df_filtered['pmax24'].resample('AS').max()\n"
          ]
        },
        {
          "output_type": "stream",
          "name": "stdout",
          "text": [
            "  Scatter plot saved to /content/drive/My Drive/Clima_Jalisco/GRAFICOS_PMAX24/pmax24_trend_CASA LLANTA_14026.png\n",
            "\n",
            "Processing station code: 14027\n",
            "  Coeficiente: [50.33595683]\n",
            "  Intercepto: 55.70782193838907\n"
          ]
        },
        {
          "output_type": "stream",
          "name": "stderr",
          "text": [
            "/tmp/ipython-input-3586071606.py:46: FutureWarning: 'AS' is deprecated and will be removed in a future version, please use 'YS' instead.\n",
            "  pmax24_annual_max = df_filtered['pmax24'].resample('AS').max()\n"
          ]
        },
        {
          "output_type": "stream",
          "name": "stdout",
          "text": [
            "  Scatter plot saved to /content/drive/My Drive/Clima_Jalisco/GRAFICOS_PMAX24/pmax24_trend_CASIMIRO CASTILLO_14027.png\n",
            "\n",
            "Processing station code: 14028\n",
            "  Coeficiente: [93.34939837]\n",
            "  Intercepto: 74.27288506940343\n"
          ]
        },
        {
          "output_type": "stream",
          "name": "stderr",
          "text": [
            "/tmp/ipython-input-3586071606.py:46: FutureWarning: 'AS' is deprecated and will be removed in a future version, please use 'YS' instead.\n",
            "  pmax24_annual_max = df_filtered['pmax24'].resample('AS').max()\n"
          ]
        },
        {
          "output_type": "stream",
          "name": "stdout",
          "text": [
            "  Scatter plot saved to /content/drive/My Drive/Clima_Jalisco/GRAFICOS_PMAX24/pmax24_trend_CIHUATLAN (DGE)_14028.png\n",
            "\n",
            "Processing station code: 14029\n",
            "  Coeficiente: [26.06386733]\n",
            "  Intercepto: 32.47233359580403\n"
          ]
        },
        {
          "output_type": "stream",
          "name": "stderr",
          "text": [
            "/tmp/ipython-input-3586071606.py:46: FutureWarning: 'AS' is deprecated and will be removed in a future version, please use 'YS' instead.\n",
            "  pmax24_annual_max = df_filtered['pmax24'].resample('AS').max()\n"
          ]
        },
        {
          "output_type": "stream",
          "name": "stdout",
          "text": [
            "  Scatter plot saved to /content/drive/My Drive/Clima_Jalisco/GRAFICOS_PMAX24/pmax24_trend_CONCEPCION DE BUENOS AIRES_14029.png\n",
            "\n",
            "Processing station code: 14030\n",
            "  Coeficiente: [30.28609107]\n",
            "  Intercepto: 32.8267338432249\n"
          ]
        },
        {
          "output_type": "stream",
          "name": "stderr",
          "text": [
            "/tmp/ipython-input-3586071606.py:46: FutureWarning: 'AS' is deprecated and will be removed in a future version, please use 'YS' instead.\n",
            "  pmax24_annual_max = df_filtered['pmax24'].resample('AS').max()\n"
          ]
        },
        {
          "output_type": "stream",
          "name": "stdout",
          "text": [
            "  Scatter plot saved to /content/drive/My Drive/Clima_Jalisco/GRAFICOS_PMAX24/pmax24_trend_CIUDAD GUZMAN (OBS)_14030.png\n",
            "\n",
            "Processing station code: 14031\n",
            "  Coeficiente: [22.5212525]\n",
            "  Intercepto: 42.368260677191444\n"
          ]
        },
        {
          "output_type": "stream",
          "name": "stderr",
          "text": [
            "/tmp/ipython-input-3586071606.py:46: FutureWarning: 'AS' is deprecated and will be removed in a future version, please use 'YS' instead.\n",
            "  pmax24_annual_max = df_filtered['pmax24'].resample('AS').max()\n"
          ]
        },
        {
          "output_type": "stream",
          "name": "stdout",
          "text": [
            "  Scatter plot saved to /content/drive/My Drive/Clima_Jalisco/GRAFICOS_PMAX24/pmax24_trend_CIUDAD VENUSTIANO CARRANZA_14031.png\n",
            "\n",
            "Processing station code: 14032\n",
            "  Coeficiente: [18.72902433]\n",
            "  Intercepto: 23.89695535337191\n"
          ]
        },
        {
          "output_type": "stream",
          "name": "stderr",
          "text": [
            "/tmp/ipython-input-3586071606.py:46: FutureWarning: 'AS' is deprecated and will be removed in a future version, please use 'YS' instead.\n",
            "  pmax24_annual_max = df_filtered['pmax24'].resample('AS').max()\n"
          ]
        },
        {
          "output_type": "stream",
          "name": "stdout",
          "text": [
            "  Scatter plot saved to /content/drive/My Drive/Clima_Jalisco/GRAFICOS_PMAX24/pmax24_trend_COLOTLAN (OBS)_14032.png\n",
            "\n",
            "Processing station code: 14033\n",
            "  Coeficiente: [15.39685067]\n",
            "  Intercepto: 39.351022904034295\n"
          ]
        },
        {
          "output_type": "stream",
          "name": "stderr",
          "text": [
            "/tmp/ipython-input-3586071606.py:46: FutureWarning: 'AS' is deprecated and will be removed in a future version, please use 'YS' instead.\n",
            "  pmax24_annual_max = df_filtered['pmax24'].resample('AS').max()\n"
          ]
        },
        {
          "output_type": "stream",
          "name": "stdout",
          "text": [
            "  Scatter plot saved to /content/drive/My Drive/Clima_Jalisco/GRAFICOS_PMAX24/pmax24_trend_COMANJA DE CORONA_14033.png\n",
            "\n",
            "Processing station code: 14034\n",
            "  Coeficiente: [23.24312088]\n",
            "  Intercepto: 50.81360739737006\n"
          ]
        },
        {
          "output_type": "stream",
          "name": "stderr",
          "text": [
            "/tmp/ipython-input-3586071606.py:46: FutureWarning: 'AS' is deprecated and will be removed in a future version, please use 'YS' instead.\n",
            "  pmax24_annual_max = df_filtered['pmax24'].resample('AS').max()\n"
          ]
        },
        {
          "output_type": "stream",
          "name": "stdout",
          "text": [
            "  Scatter plot saved to /content/drive/My Drive/Clima_Jalisco/GRAFICOS_PMAX24/pmax24_trend_CONTLA_14034.png\n",
            "\n",
            "Processing station code: 14035\n",
            "  Coeficiente: [23.761029]\n",
            "  Intercepto: 45.81904145870868\n"
          ]
        },
        {
          "output_type": "stream",
          "name": "stderr",
          "text": [
            "/tmp/ipython-input-3586071606.py:46: FutureWarning: 'AS' is deprecated and will be removed in a future version, please use 'YS' instead.\n",
            "  pmax24_annual_max = df_filtered['pmax24'].resample('AS').max()\n"
          ]
        },
        {
          "output_type": "stream",
          "name": "stdout",
          "text": [
            "  Scatter plot saved to /content/drive/My Drive/Clima_Jalisco/GRAFICOS_PMAX24/pmax24_trend_CORRINCHIS II_14035.png\n",
            "\n",
            "Processing station code: 14036\n",
            "  Coeficiente: [61.36587008]\n",
            "  Intercepto: 65.19436805505826\n"
          ]
        },
        {
          "output_type": "stream",
          "name": "stderr",
          "text": [
            "/tmp/ipython-input-3586071606.py:46: FutureWarning: 'AS' is deprecated and will be removed in a future version, please use 'YS' instead.\n",
            "  pmax24_annual_max = df_filtered['pmax24'].resample('AS').max()\n"
          ]
        },
        {
          "output_type": "stream",
          "name": "stdout",
          "text": [
            "  Scatter plot saved to /content/drive/My Drive/Clima_Jalisco/GRAFICOS_PMAX24/pmax24_trend_CUAUTITLAN_14036.png\n",
            "\n",
            "Processing station code: 14037\n",
            "  Coeficiente: [11.69275173]\n",
            "  Intercepto: 32.56851554088503\n"
          ]
        },
        {
          "output_type": "stream",
          "name": "stderr",
          "text": [
            "/tmp/ipython-input-3586071606.py:46: FutureWarning: 'AS' is deprecated and will be removed in a future version, please use 'YS' instead.\n",
            "  pmax24_annual_max = df_filtered['pmax24'].resample('AS').max()\n"
          ]
        },
        {
          "output_type": "stream",
          "name": "stdout",
          "text": [
            "  Scatter plot saved to /content/drive/My Drive/Clima_Jalisco/GRAFICOS_PMAX24/pmax24_trend_PRESA ACHIMEC_14037.png\n",
            "\n",
            "Processing station code: 14038\n",
            "  Coeficiente: [15.08895525]\n",
            "  Intercepto: 42.890807000825205\n"
          ]
        },
        {
          "output_type": "stream",
          "name": "stderr",
          "text": [
            "/tmp/ipython-input-3586071606.py:46: FutureWarning: 'AS' is deprecated and will be removed in a future version, please use 'YS' instead.\n",
            "  pmax24_annual_max = df_filtered['pmax24'].resample('AS').max()\n"
          ]
        },
        {
          "output_type": "stream",
          "name": "stdout",
          "text": [
            "  Scatter plot saved to /content/drive/My Drive/Clima_Jalisco/GRAFICOS_PMAX24/pmax24_trend_CUIXTLA_14038.png\n",
            "\n",
            "Processing station code: 14039\n",
            "  Coeficiente: [12.94064403]\n",
            "  Intercepto: 43.90706703914729\n"
          ]
        },
        {
          "output_type": "stream",
          "name": "stderr",
          "text": [
            "/tmp/ipython-input-3586071606.py:46: FutureWarning: 'AS' is deprecated and will be removed in a future version, please use 'YS' instead.\n",
            "  pmax24_annual_max = df_filtered['pmax24'].resample('AS').max()\n"
          ]
        },
        {
          "output_type": "stream",
          "name": "stdout",
          "text": [
            "  Scatter plot saved to /content/drive/My Drive/Clima_Jalisco/GRAFICOS_PMAX24/pmax24_trend_CUQUIO_14039.png\n",
            "\n",
            "Processing station code: 14040\n",
            "  Coeficiente: [21.04844202]\n",
            "  Intercepto: 45.28767756345694\n"
          ]
        },
        {
          "output_type": "stream",
          "name": "stderr",
          "text": [
            "/tmp/ipython-input-3586071606.py:46: FutureWarning: 'AS' is deprecated and will be removed in a future version, please use 'YS' instead.\n",
            "  pmax24_annual_max = df_filtered['pmax24'].resample('AS').max()\n"
          ]
        },
        {
          "output_type": "stream",
          "name": "stdout",
          "text": [
            "  Scatter plot saved to /content/drive/My Drive/Clima_Jalisco/GRAFICOS_PMAX24/pmax24_trend_CHAPALA_14040.png\n",
            "\n",
            "Processing station code: 14042\n",
            "  Coeficiente: [46.55987433]\n",
            "  Intercepto: 49.34547379867196\n"
          ]
        },
        {
          "output_type": "stream",
          "name": "stderr",
          "text": [
            "/tmp/ipython-input-3586071606.py:46: FutureWarning: 'AS' is deprecated and will be removed in a future version, please use 'YS' instead.\n",
            "  pmax24_annual_max = df_filtered['pmax24'].resample('AS').max()\n"
          ]
        },
        {
          "output_type": "stream",
          "name": "stdout",
          "text": [
            "  Scatter plot saved to /content/drive/My Drive/Clima_Jalisco/GRAFICOS_PMAX24/pmax24_trend_CUITZMALA_14042.png\n",
            "\n",
            "Processing station code: 14043\n",
            "  Coeficiente: [22.49115857]\n",
            "  Intercepto: 41.512682946044066\n"
          ]
        },
        {
          "output_type": "stream",
          "name": "stderr",
          "text": [
            "/tmp/ipython-input-3586071606.py:46: FutureWarning: 'AS' is deprecated and will be removed in a future version, please use 'YS' instead.\n",
            "  pmax24_annual_max = df_filtered['pmax24'].resample('AS').max()\n"
          ]
        },
        {
          "output_type": "stream",
          "name": "stdout",
          "text": [
            "  Scatter plot saved to /content/drive/My Drive/Clima_Jalisco/GRAFICOS_PMAX24/pmax24_trend_EJUTLA_14043.png\n",
            "\n",
            "Processing station code: 14044\n",
            "  Coeficiente: [50.78597735]\n",
            "  Intercepto: 77.53170851805953\n"
          ]
        },
        {
          "output_type": "stream",
          "name": "stderr",
          "text": [
            "/tmp/ipython-input-3586071606.py:46: FutureWarning: 'AS' is deprecated and will be removed in a future version, please use 'YS' instead.\n",
            "  pmax24_annual_max = df_filtered['pmax24'].resample('AS').max()\n"
          ]
        },
        {
          "output_type": "stream",
          "name": "stdout",
          "text": [
            "  Scatter plot saved to /content/drive/My Drive/Clima_Jalisco/GRAFICOS_PMAX24/pmax24_trend_EL BRAMADOR_14044.png\n",
            "\n",
            "Processing station code: 14046\n",
            "  Coeficiente: [26.98176157]\n",
            "  Intercepto: 33.6963149327825\n"
          ]
        },
        {
          "output_type": "stream",
          "name": "stderr",
          "text": [
            "/tmp/ipython-input-3586071606.py:46: FutureWarning: 'AS' is deprecated and will be removed in a future version, please use 'YS' instead.\n",
            "  pmax24_annual_max = df_filtered['pmax24'].resample('AS').max()\n"
          ]
        },
        {
          "output_type": "stream",
          "name": "stdout",
          "text": [
            "  Scatter plot saved to /content/drive/My Drive/Clima_Jalisco/GRAFICOS_PMAX24/pmax24_trend_EL CHANTE_14046.png\n",
            "\n",
            "Processing station code: 14047\n",
            "  Coeficiente: [16.70535238]\n",
            "  Intercepto: 47.89810326710166\n"
          ]
        },
        {
          "output_type": "stream",
          "name": "stderr",
          "text": [
            "/tmp/ipython-input-3586071606.py:46: FutureWarning: 'AS' is deprecated and will be removed in a future version, please use 'YS' instead.\n",
            "  pmax24_annual_max = df_filtered['pmax24'].resample('AS').max()\n"
          ]
        },
        {
          "output_type": "stream",
          "name": "stdout",
          "text": [
            "  Scatter plot saved to /content/drive/My Drive/Clima_Jalisco/GRAFICOS_PMAX24/pmax24_trend_EL FUERTE_14047.png\n",
            "\n",
            "Processing station code: 14048\n",
            "  Coeficiente: [49.30777508]\n",
            "  Intercepto: 62.21185287824438\n"
          ]
        },
        {
          "output_type": "stream",
          "name": "stderr",
          "text": [
            "/tmp/ipython-input-3586071606.py:46: FutureWarning: 'AS' is deprecated and will be removed in a future version, please use 'YS' instead.\n",
            "  pmax24_annual_max = df_filtered['pmax24'].resample('AS').max()\n"
          ]
        },
        {
          "output_type": "stream",
          "name": "stdout",
          "text": [
            "  Scatter plot saved to /content/drive/My Drive/Clima_Jalisco/GRAFICOS_PMAX24/pmax24_trend_EL CHIFLON_14048.png\n",
            "\n",
            "Processing station code: 14050\n",
            "  Coeficiente: [19.25863033]\n",
            "  Intercepto: 35.582279672194815\n"
          ]
        },
        {
          "output_type": "stream",
          "name": "stderr",
          "text": [
            "/tmp/ipython-input-3586071606.py:46: FutureWarning: 'AS' is deprecated and will be removed in a future version, please use 'YS' instead.\n",
            "  pmax24_annual_max = df_filtered['pmax24'].resample('AS').max()\n"
          ]
        },
        {
          "output_type": "stream",
          "name": "stdout",
          "text": [
            "  Scatter plot saved to /content/drive/My Drive/Clima_Jalisco/GRAFICOS_PMAX24/pmax24_trend_EL GRULLO_14050.png\n",
            "\n",
            "Processing station code: 14052\n",
            "  Coeficiente: [24.93319689]\n",
            "  Intercepto: 34.496896036631966\n"
          ]
        },
        {
          "output_type": "stream",
          "name": "stderr",
          "text": [
            "/tmp/ipython-input-3586071606.py:46: FutureWarning: 'AS' is deprecated and will be removed in a future version, please use 'YS' instead.\n",
            "  pmax24_annual_max = df_filtered['pmax24'].resample('AS').max()\n"
          ]
        },
        {
          "output_type": "stream",
          "name": "stdout",
          "text": [
            "  Scatter plot saved to /content/drive/My Drive/Clima_Jalisco/GRAFICOS_PMAX24/pmax24_trend_EL NOGAL_14052.png\n",
            "\n",
            "Processing station code: 14053\n",
            "  Coeficiente: [13.23710748]\n",
            "  Intercepto: 36.04269317440804\n"
          ]
        },
        {
          "output_type": "stream",
          "name": "stderr",
          "text": [
            "/tmp/ipython-input-3586071606.py:46: FutureWarning: 'AS' is deprecated and will be removed in a future version, please use 'YS' instead.\n",
            "  pmax24_annual_max = df_filtered['pmax24'].resample('AS').max()\n"
          ]
        },
        {
          "output_type": "stream",
          "name": "stdout",
          "text": [
            "  Scatter plot saved to /content/drive/My Drive/Clima_Jalisco/GRAFICOS_PMAX24/pmax24_trend_EL PINITO_14053.png\n",
            "\n",
            "Processing station code: 14054\n",
            "  Coeficiente: [27.61432338]\n",
            "  Intercepto: 26.63621525532885\n"
          ]
        },
        {
          "output_type": "stream",
          "name": "stderr",
          "text": [
            "/tmp/ipython-input-3586071606.py:46: FutureWarning: 'AS' is deprecated and will be removed in a future version, please use 'YS' instead.\n",
            "  pmax24_annual_max = df_filtered['pmax24'].resample('AS').max()\n"
          ]
        },
        {
          "output_type": "stream",
          "name": "stdout",
          "text": [
            "  Scatter plot saved to /content/drive/My Drive/Clima_Jalisco/GRAFICOS_PMAX24/pmax24_trend_EL PUESTO_14054.png\n",
            "\n",
            "Processing station code: 14056\n",
            "  Coeficiente: [20.08032063]\n",
            "  Intercepto: 45.15854181520617\n"
          ]
        },
        {
          "output_type": "stream",
          "name": "stderr",
          "text": [
            "/tmp/ipython-input-3586071606.py:46: FutureWarning: 'AS' is deprecated and will be removed in a future version, please use 'YS' instead.\n",
            "  pmax24_annual_max = df_filtered['pmax24'].resample('AS').max()\n"
          ]
        },
        {
          "output_type": "stream",
          "name": "stdout",
          "text": [
            "  Scatter plot saved to /content/drive/My Drive/Clima_Jalisco/GRAFICOS_PMAX24/pmax24_trend_EL SALITRE_14056.png\n",
            "\n",
            "Processing station code: 14057\n",
            "  Coeficiente: [9.9266115]\n",
            "  Intercepto: 35.40707816642579\n"
          ]
        },
        {
          "output_type": "stream",
          "name": "stderr",
          "text": [
            "/tmp/ipython-input-3586071606.py:46: FutureWarning: 'AS' is deprecated and will be removed in a future version, please use 'YS' instead.\n",
            "  pmax24_annual_max = df_filtered['pmax24'].resample('AS').max()\n"
          ]
        },
        {
          "output_type": "stream",
          "name": "stdout",
          "text": [
            "  Scatter plot saved to /content/drive/My Drive/Clima_Jalisco/GRAFICOS_PMAX24/pmax24_trend_EL SALTO_14057.png\n",
            "\n",
            "Processing station code: 14058\n",
            "  Coeficiente: [14.47387489]\n",
            "  Intercepto: 31.509693668351296\n"
          ]
        },
        {
          "output_type": "stream",
          "name": "stderr",
          "text": [
            "/tmp/ipython-input-3586071606.py:46: FutureWarning: 'AS' is deprecated and will be removed in a future version, please use 'YS' instead.\n",
            "  pmax24_annual_max = df_filtered['pmax24'].resample('AS').max()\n"
          ]
        },
        {
          "output_type": "stream",
          "name": "stdout",
          "text": [
            "  Scatter plot saved to /content/drive/My Drive/Clima_Jalisco/GRAFICOS_PMAX24/pmax24_trend_EL TECUAN_14058.png\n",
            "\n",
            "Processing station code: 14059\n",
            "  Coeficiente: [47.78262767]\n",
            "  Intercepto: 67.55480577073786\n"
          ]
        },
        {
          "output_type": "stream",
          "name": "stderr",
          "text": [
            "/tmp/ipython-input-3586071606.py:46: FutureWarning: 'AS' is deprecated and will be removed in a future version, please use 'YS' instead.\n",
            "  pmax24_annual_max = df_filtered['pmax24'].resample('AS').max()\n"
          ]
        },
        {
          "output_type": "stream",
          "name": "stdout",
          "text": [
            "  Scatter plot saved to /content/drive/My Drive/Clima_Jalisco/GRAFICOS_PMAX24/pmax24_trend_EL TUITO_14059.png\n",
            "\n",
            "Processing station code: 14060\n",
            "  Coeficiente: [16.46524832]\n",
            "  Intercepto: 42.27952714997879\n"
          ]
        },
        {
          "output_type": "stream",
          "name": "stderr",
          "text": [
            "/tmp/ipython-input-3586071606.py:46: FutureWarning: 'AS' is deprecated and will be removed in a future version, please use 'YS' instead.\n",
            "  pmax24_annual_max = df_filtered['pmax24'].resample('AS').max()\n"
          ]
        },
        {
          "output_type": "stream",
          "name": "stdout",
          "text": [
            "  Scatter plot saved to /content/drive/My Drive/Clima_Jalisco/GRAFICOS_PMAX24/pmax24_trend_EL TULE_14060.png\n",
            "\n",
            "Processing station code: 14062\n",
            "  Coeficiente: [20.57354354]\n",
            "  Intercepto: 35.16987666084039\n"
          ]
        },
        {
          "output_type": "stream",
          "name": "stderr",
          "text": [
            "/tmp/ipython-input-3586071606.py:46: FutureWarning: 'AS' is deprecated and will be removed in a future version, please use 'YS' instead.\n",
            "  pmax24_annual_max = df_filtered['pmax24'].resample('AS').max()\n"
          ]
        },
        {
          "output_type": "stream",
          "name": "stdout",
          "text": [
            "  Scatter plot saved to /content/drive/My Drive/Clima_Jalisco/GRAFICOS_PMAX24/pmax24_trend_ENCARNACION DE DIAZ_14062.png\n",
            "\n",
            "Processing station code: 14063\n",
            "  Coeficiente: [18.15991834]\n",
            "  Intercepto: 48.23840912390936\n"
          ]
        },
        {
          "output_type": "stream",
          "name": "stderr",
          "text": [
            "/tmp/ipython-input-3586071606.py:46: FutureWarning: 'AS' is deprecated and will be removed in a future version, please use 'YS' instead.\n",
            "  pmax24_annual_max = df_filtered['pmax24'].resample('AS').max()\n"
          ]
        },
        {
          "output_type": "stream",
          "name": "stdout",
          "text": [
            "  Scatter plot saved to /content/drive/My Drive/Clima_Jalisco/GRAFICOS_PMAX24/pmax24_trend_ETZATLAN (SMN)_14063.png\n",
            "\n",
            "Processing station code: 14064\n",
            "  Coeficiente: [12.05361848]\n",
            "  Intercepto: 44.87792026207606\n"
          ]
        },
        {
          "output_type": "stream",
          "name": "stderr",
          "text": [
            "/tmp/ipython-input-3586071606.py:46: FutureWarning: 'AS' is deprecated and will be removed in a future version, please use 'YS' instead.\n",
            "  pmax24_annual_max = df_filtered['pmax24'].resample('AS').max()\n"
          ]
        },
        {
          "output_type": "stream",
          "name": "stdout",
          "text": [
            "  Scatter plot saved to /content/drive/My Drive/Clima_Jalisco/GRAFICOS_PMAX24/pmax24_trend_EX HACIENDA SAN DIEGO_14064.png\n",
            "\n",
            "Processing station code: 14065\n",
            "  Coeficiente: [16.24599928]\n",
            "  Intercepto: 47.747613137215666\n"
          ]
        },
        {
          "output_type": "stream",
          "name": "stderr",
          "text": [
            "/tmp/ipython-input-3586071606.py:46: FutureWarning: 'AS' is deprecated and will be removed in a future version, please use 'YS' instead.\n",
            "  pmax24_annual_max = df_filtered['pmax24'].resample('AS').max()\n"
          ]
        },
        {
          "output_type": "stream",
          "name": "stdout",
          "text": [
            "  Scatter plot saved to /content/drive/My Drive/Clima_Jalisco/GRAFICOS_PMAX24/pmax24_trend_GUADALAJARA (OBS)_14065.png\n",
            "\n",
            "Processing station code: 14066\n",
            "  Coeficiente: [18.76719739]\n",
            "  Intercepto: 45.973672298353634\n"
          ]
        },
        {
          "output_type": "stream",
          "name": "stderr",
          "text": [
            "/tmp/ipython-input-3586071606.py:46: FutureWarning: 'AS' is deprecated and will be removed in a future version, please use 'YS' instead.\n",
            "  pmax24_annual_max = df_filtered['pmax24'].resample('AS').max()\n"
          ]
        },
        {
          "output_type": "stream",
          "name": "stdout",
          "text": [
            "  Scatter plot saved to /content/drive/My Drive/Clima_Jalisco/GRAFICOS_PMAX24/pmax24_trend_GUADALAJARA (DGE)_14066.png\n",
            "\n",
            "Processing station code: 14067\n",
            "  Coeficiente: [77.39468136]\n",
            "  Intercepto: 47.53920130025013\n"
          ]
        },
        {
          "output_type": "stream",
          "name": "stderr",
          "text": [
            "/tmp/ipython-input-3586071606.py:46: FutureWarning: 'AS' is deprecated and will be removed in a future version, please use 'YS' instead.\n",
            "  pmax24_annual_max = df_filtered['pmax24'].resample('AS').max()\n"
          ]
        },
        {
          "output_type": "stream",
          "name": "stdout",
          "text": [
            "  Scatter plot saved to /content/drive/My Drive/Clima_Jalisco/GRAFICOS_PMAX24/pmax24_trend_HIGUERA BLANCA_14067.png\n",
            "\n",
            "Processing station code: 14068\n",
            "  Coeficiente: [25.21171126]\n",
            "  Intercepto: 41.474183740525135\n"
          ]
        },
        {
          "output_type": "stream",
          "name": "stderr",
          "text": [
            "/tmp/ipython-input-3586071606.py:46: FutureWarning: 'AS' is deprecated and will be removed in a future version, please use 'YS' instead.\n",
            "  pmax24_annual_max = df_filtered['pmax24'].resample('AS').max()\n"
          ]
        },
        {
          "output_type": "stream",
          "name": "stdout",
          "text": [
            "  Scatter plot saved to /content/drive/My Drive/Clima_Jalisco/GRAFICOS_PMAX24/pmax24_trend_HOSTOTIPAQUILLO_14068.png\n",
            "\n",
            "Processing station code: 14069\n",
            "  Coeficiente: [15.35659693]\n",
            "  Intercepto: 34.182968457562865\n"
          ]
        },
        {
          "output_type": "stream",
          "name": "stderr",
          "text": [
            "/tmp/ipython-input-3586071606.py:46: FutureWarning: 'AS' is deprecated and will be removed in a future version, please use 'YS' instead.\n",
            "  pmax24_annual_max = df_filtered['pmax24'].resample('AS').max()\n"
          ]
        },
        {
          "output_type": "stream",
          "name": "stdout",
          "text": [
            "  Scatter plot saved to /content/drive/My Drive/Clima_Jalisco/GRAFICOS_PMAX24/pmax24_trend_HUEJUCAR (OBS)_14069.png\n",
            "\n",
            "Processing station code: 14070\n",
            "  Coeficiente: [14.56398023]\n",
            "  Intercepto: 44.33659610043526\n"
          ]
        },
        {
          "output_type": "stream",
          "name": "stderr",
          "text": [
            "/tmp/ipython-input-3586071606.py:46: FutureWarning: 'AS' is deprecated and will be removed in a future version, please use 'YS' instead.\n",
            "  pmax24_annual_max = df_filtered['pmax24'].resample('AS').max()\n"
          ]
        },
        {
          "output_type": "stream",
          "name": "stdout",
          "text": [
            "  Scatter plot saved to /content/drive/My Drive/Clima_Jalisco/GRAFICOS_PMAX24/pmax24_trend_HUASCATO_14070.png\n",
            "\n",
            "Processing station code: 14071\n",
            "  Coeficiente: [18.37018296]\n",
            "  Intercepto: 18.536718956968322\n"
          ]
        },
        {
          "output_type": "stream",
          "name": "stderr",
          "text": [
            "/tmp/ipython-input-3586071606.py:46: FutureWarning: 'AS' is deprecated and will be removed in a future version, please use 'YS' instead.\n",
            "  pmax24_annual_max = df_filtered['pmax24'].resample('AS').max()\n"
          ]
        },
        {
          "output_type": "stream",
          "name": "stdout",
          "text": [
            "  Scatter plot saved to /content/drive/My Drive/Clima_Jalisco/GRAFICOS_PMAX24/pmax24_trend_HUEJUQUILLA EL ALTO (DGE)_14071.png\n",
            "\n",
            "Processing station code: 14072\n",
            "  Coeficiente: [17.63659359]\n",
            "  Intercepto: 48.97372635945411\n"
          ]
        },
        {
          "output_type": "stream",
          "name": "stderr",
          "text": [
            "/tmp/ipython-input-3586071606.py:46: FutureWarning: 'AS' is deprecated and will be removed in a future version, please use 'YS' instead.\n",
            "  pmax24_annual_max = df_filtered['pmax24'].resample('AS').max()\n"
          ]
        },
        {
          "output_type": "stream",
          "name": "stdout",
          "text": [
            "  Scatter plot saved to /content/drive/My Drive/Clima_Jalisco/GRAFICOS_PMAX24/pmax24_trend_HUERTA VIEJA_14072.png\n",
            "\n",
            "Processing station code: 14073\n",
            "  Coeficiente: [12.72368978]\n",
            "  Intercepto: 39.14406291711253\n"
          ]
        },
        {
          "output_type": "stream",
          "name": "stderr",
          "text": [
            "/tmp/ipython-input-3586071606.py:46: FutureWarning: 'AS' is deprecated and will be removed in a future version, please use 'YS' instead.\n",
            "  pmax24_annual_max = df_filtered['pmax24'].resample('AS').max()\n"
          ]
        },
        {
          "output_type": "stream",
          "name": "stdout",
          "text": [
            "  Scatter plot saved to /content/drive/My Drive/Clima_Jalisco/GRAFICOS_PMAX24/pmax24_trend_IXTLAHUACAN DEL RIO_14073.png\n",
            "\n",
            "Processing station code: 14074\n",
            "  Coeficiente: [15.6380894]\n",
            "  Intercepto: 41.69073285133517\n"
          ]
        },
        {
          "output_type": "stream",
          "name": "stderr",
          "text": [
            "/tmp/ipython-input-3586071606.py:46: FutureWarning: 'AS' is deprecated and will be removed in a future version, please use 'YS' instead.\n",
            "  pmax24_annual_max = df_filtered['pmax24'].resample('AS').max()\n"
          ]
        },
        {
          "output_type": "stream",
          "name": "stdout",
          "text": [
            "  Scatter plot saved to /content/drive/My Drive/Clima_Jalisco/GRAFICOS_PMAX24/pmax24_trend_JALOSTOTITLAN_14074.png\n",
            "\n",
            "Processing station code: 14075\n",
            "  Coeficiente: [18.59394016]\n",
            "  Intercepto: 43.70430864993294\n"
          ]
        },
        {
          "output_type": "stream",
          "name": "stderr",
          "text": [
            "/tmp/ipython-input-3586071606.py:46: FutureWarning: 'AS' is deprecated and will be removed in a future version, please use 'YS' instead.\n",
            "  pmax24_annual_max = df_filtered['pmax24'].resample('AS').max()\n"
          ]
        },
        {
          "output_type": "stream",
          "name": "stdout",
          "text": [
            "  Scatter plot saved to /content/drive/My Drive/Clima_Jalisco/GRAFICOS_PMAX24/pmax24_trend_JAMAY_14075.png\n",
            "\n",
            "Processing station code: 14076\n",
            "  Coeficiente: [17.34250011]\n",
            "  Intercepto: 43.00471578780932\n"
          ]
        },
        {
          "output_type": "stream",
          "name": "stderr",
          "text": [
            "/tmp/ipython-input-3586071606.py:46: FutureWarning: 'AS' is deprecated and will be removed in a future version, please use 'YS' instead.\n",
            "  pmax24_annual_max = df_filtered['pmax24'].resample('AS').max()\n"
          ]
        },
        {
          "output_type": "stream",
          "name": "stdout",
          "text": [
            "  Scatter plot saved to /content/drive/My Drive/Clima_Jalisco/GRAFICOS_PMAX24/pmax24_trend_JESUS MARIA_14076.png\n",
            "\n",
            "Processing station code: 14077\n",
            "  Coeficiente: [17.67288656]\n",
            "  Intercepto: 40.62113562027982\n"
          ]
        },
        {
          "output_type": "stream",
          "name": "stderr",
          "text": [
            "/tmp/ipython-input-3586071606.py:46: FutureWarning: 'AS' is deprecated and will be removed in a future version, please use 'YS' instead.\n",
            "  pmax24_annual_max = df_filtered['pmax24'].resample('AS').max()\n"
          ]
        },
        {
          "output_type": "stream",
          "name": "stdout",
          "text": [
            "  Scatter plot saved to /content/drive/My Drive/Clima_Jalisco/GRAFICOS_PMAX24/pmax24_trend_JOCOTEPEC_14077.png\n",
            "\n",
            "Processing station code: 14078\n",
            "  Coeficiente: [17.69061013]\n",
            "  Intercepto: 42.8308014733602\n"
          ]
        },
        {
          "output_type": "stream",
          "name": "stderr",
          "text": [
            "/tmp/ipython-input-3586071606.py:46: FutureWarning: 'AS' is deprecated and will be removed in a future version, please use 'YS' instead.\n",
            "  pmax24_annual_max = df_filtered['pmax24'].resample('AS').max()\n"
          ]
        },
        {
          "output_type": "stream",
          "name": "stdout",
          "text": [
            "  Scatter plot saved to /content/drive/My Drive/Clima_Jalisco/GRAFICOS_PMAX24/pmax24_trend_JUCHITLAN_14078.png\n",
            "\n",
            "Processing station code: 14079\n",
            "  Coeficiente: [39.97301364]\n",
            "  Intercepto: 51.39483769552619\n"
          ]
        },
        {
          "output_type": "stream",
          "name": "stderr",
          "text": [
            "/tmp/ipython-input-3586071606.py:46: FutureWarning: 'AS' is deprecated and will be removed in a future version, please use 'YS' instead.\n",
            "  pmax24_annual_max = df_filtered['pmax24'].resample('AS').max()\n"
          ]
        },
        {
          "output_type": "stream",
          "name": "stdout",
          "text": [
            "  Scatter plot saved to /content/drive/My Drive/Clima_Jalisco/GRAFICOS_PMAX24/pmax24_trend_LA COFRADIA_14079.png\n",
            "\n",
            "Processing station code: 14080\n",
            "  Coeficiente: [15.83926804]\n",
            "  Intercepto: 38.69109147938323\n"
          ]
        },
        {
          "output_type": "stream",
          "name": "stderr",
          "text": [
            "/tmp/ipython-input-3586071606.py:46: FutureWarning: 'AS' is deprecated and will be removed in a future version, please use 'YS' instead.\n",
            "  pmax24_annual_max = df_filtered['pmax24'].resample('AS').max()\n"
          ]
        },
        {
          "output_type": "stream",
          "name": "stdout",
          "text": [
            "  Scatter plot saved to /content/drive/My Drive/Clima_Jalisco/GRAFICOS_PMAX24/pmax24_trend_LA CUÑA_14080.png\n",
            "\n",
            "Processing station code: 14081\n",
            "  Coeficiente: [31.57872134]\n",
            "  Intercepto: 65.6112606456468\n"
          ]
        },
        {
          "output_type": "stream",
          "name": "stderr",
          "text": [
            "/tmp/ipython-input-3586071606.py:46: FutureWarning: 'AS' is deprecated and will be removed in a future version, please use 'YS' instead.\n",
            "  pmax24_annual_max = df_filtered['pmax24'].resample('AS').max()\n"
          ]
        },
        {
          "output_type": "stream",
          "name": "stdout",
          "text": [
            "  Scatter plot saved to /content/drive/My Drive/Clima_Jalisco/GRAFICOS_PMAX24/pmax24_trend_LA DESEMBOCADA_14081.png\n",
            "\n",
            "Processing station code: 14083\n",
            "  Coeficiente: [18.86116939]\n",
            "  Intercepto: 21.965754639934627\n"
          ]
        },
        {
          "output_type": "stream",
          "name": "stderr",
          "text": [
            "/tmp/ipython-input-3586071606.py:46: FutureWarning: 'AS' is deprecated and will be removed in a future version, please use 'YS' instead.\n",
            "  pmax24_annual_max = df_filtered['pmax24'].resample('AS').max()\n"
          ]
        },
        {
          "output_type": "stream",
          "name": "stdout",
          "text": [
            "  Scatter plot saved to /content/drive/My Drive/Clima_Jalisco/GRAFICOS_PMAX24/pmax24_trend_LAGOS DE MORENO (OBS)_14083.png\n",
            "\n",
            "Processing station code: 14084\n",
            "  Coeficiente: [16.14413551]\n",
            "  Intercepto: 35.28532296597454\n"
          ]
        },
        {
          "output_type": "stream",
          "name": "stderr",
          "text": [
            "/tmp/ipython-input-3586071606.py:46: FutureWarning: 'AS' is deprecated and will be removed in a future version, please use 'YS' instead.\n",
            "  pmax24_annual_max = df_filtered['pmax24'].resample('AS').max()\n"
          ]
        },
        {
          "output_type": "stream",
          "name": "stdout",
          "text": [
            "  Scatter plot saved to /content/drive/My Drive/Clima_Jalisco/GRAFICOS_PMAX24/pmax24_trend_LAGOS DE MORENO (DGE)_14084.png\n",
            "\n",
            "Processing station code: 14085\n",
            "  Coeficiente: [40.19536184]\n",
            "  Intercepto: 39.47489004572229\n"
          ]
        },
        {
          "output_type": "stream",
          "name": "stderr",
          "text": [
            "/tmp/ipython-input-3586071606.py:46: FutureWarning: 'AS' is deprecated and will be removed in a future version, please use 'YS' instead.\n",
            "  pmax24_annual_max = df_filtered['pmax24'].resample('AS').max()\n"
          ]
        },
        {
          "output_type": "stream",
          "name": "stdout",
          "text": [
            "  Scatter plot saved to /content/drive/My Drive/Clima_Jalisco/GRAFICOS_PMAX24/pmax24_trend_LA HUERTA_14085.png\n",
            "\n",
            "Processing station code: 14086\n",
            "  Coeficiente: [21.63634599]\n",
            "  Intercepto: 34.312636820449924\n"
          ]
        },
        {
          "output_type": "stream",
          "name": "stderr",
          "text": [
            "/tmp/ipython-input-3586071606.py:46: FutureWarning: 'AS' is deprecated and will be removed in a future version, please use 'YS' instead.\n",
            "  pmax24_annual_max = df_filtered['pmax24'].resample('AS').max()\n"
          ]
        },
        {
          "output_type": "stream",
          "name": "stdout",
          "text": [
            "  Scatter plot saved to /content/drive/My Drive/Clima_Jalisco/GRAFICOS_PMAX24/pmax24_trend_LA MANZANILLA DE LA PAZ_14086.png\n",
            "\n",
            "Processing station code: 14087\n",
            "  Coeficiente: [14.97385346]\n",
            "  Intercepto: 41.31010390008182\n"
          ]
        },
        {
          "output_type": "stream",
          "name": "stderr",
          "text": [
            "/tmp/ipython-input-3586071606.py:46: FutureWarning: 'AS' is deprecated and will be removed in a future version, please use 'YS' instead.\n",
            "  pmax24_annual_max = df_filtered['pmax24'].resample('AS').max()\n"
          ]
        },
        {
          "output_type": "stream",
          "name": "stdout",
          "text": [
            "  Scatter plot saved to /content/drive/My Drive/Clima_Jalisco/GRAFICOS_PMAX24/pmax24_trend_LA RED_14087.png\n",
            "\n",
            "Processing station code: 14089\n",
            "  Coeficiente: [20.3524678]\n",
            "  Intercepto: 47.13527040253571\n"
          ]
        },
        {
          "output_type": "stream",
          "name": "stderr",
          "text": [
            "/tmp/ipython-input-3586071606.py:46: FutureWarning: 'AS' is deprecated and will be removed in a future version, please use 'YS' instead.\n",
            "  pmax24_annual_max = df_filtered['pmax24'].resample('AS').max()\n"
          ]
        },
        {
          "output_type": "stream",
          "name": "stdout",
          "text": [
            "  Scatter plot saved to /content/drive/My Drive/Clima_Jalisco/GRAFICOS_PMAX24/pmax24_trend_LA VEGA_14089.png\n",
            "\n",
            "Processing station code: 14090\n",
            "  Coeficiente: [15.33417534]\n",
            "  Intercepto: 43.78447571024379\n"
          ]
        },
        {
          "output_type": "stream",
          "name": "stderr",
          "text": [
            "/tmp/ipython-input-3586071606.py:46: FutureWarning: 'AS' is deprecated and will be removed in a future version, please use 'YS' instead.\n",
            "  pmax24_annual_max = df_filtered['pmax24'].resample('AS').max()\n"
          ]
        },
        {
          "output_type": "stream",
          "name": "stdout",
          "text": [
            "  Scatter plot saved to /content/drive/My Drive/Clima_Jalisco/GRAFICOS_PMAX24/pmax24_trend_LA YERBABUENA_14090.png\n",
            "\n",
            "Processing station code: 14093\n",
            "  Coeficiente: [20.53808139]\n",
            "  Intercepto: 44.81722601463231\n"
          ]
        },
        {
          "output_type": "stream",
          "name": "stderr",
          "text": [
            "/tmp/ipython-input-3586071606.py:46: FutureWarning: 'AS' is deprecated and will be removed in a future version, please use 'YS' instead.\n",
            "  pmax24_annual_max = df_filtered['pmax24'].resample('AS').max()\n"
          ]
        },
        {
          "output_type": "stream",
          "name": "stdout",
          "text": [
            "  Scatter plot saved to /content/drive/My Drive/Clima_Jalisco/GRAFICOS_PMAX24/pmax24_trend_MAGDALENA_14093.png\n",
            "\n",
            "Processing station code: 14094\n",
            "  Coeficiente: [30.24415388]\n",
            "  Intercepto: 43.2225164260239\n"
          ]
        },
        {
          "output_type": "stream",
          "name": "stderr",
          "text": [
            "/tmp/ipython-input-3586071606.py:46: FutureWarning: 'AS' is deprecated and will be removed in a future version, please use 'YS' instead.\n",
            "  pmax24_annual_max = df_filtered['pmax24'].resample('AS').max()\n"
          ]
        },
        {
          "output_type": "stream",
          "name": "stdout",
          "text": [
            "  Scatter plot saved to /content/drive/My Drive/Clima_Jalisco/GRAFICOS_PMAX24/pmax24_trend_MANANTLAN_14094.png\n",
            "\n",
            "Processing station code: 14095\n",
            "  Coeficiente: [31.68521782]\n",
            "  Intercepto: 50.13355146789572\n"
          ]
        },
        {
          "output_type": "stream",
          "name": "stderr",
          "text": [
            "/tmp/ipython-input-3586071606.py:46: FutureWarning: 'AS' is deprecated and will be removed in a future version, please use 'YS' instead.\n",
            "  pmax24_annual_max = df_filtered['pmax24'].resample('AS').max()\n"
          ]
        },
        {
          "output_type": "stream",
          "name": "stdout",
          "text": [
            "  Scatter plot saved to /content/drive/My Drive/Clima_Jalisco/GRAFICOS_PMAX24/pmax24_trend_MANUEL M. DIEGUEZ (CFE)_14095.png\n",
            "\n",
            "Processing station code: 14096\n",
            "  Coeficiente: [21.23355479]\n",
            "  Intercepto: 45.692335793941865\n"
          ]
        },
        {
          "output_type": "stream",
          "name": "stderr",
          "text": [
            "/tmp/ipython-input-3586071606.py:46: FutureWarning: 'AS' is deprecated and will be removed in a future version, please use 'YS' instead.\n",
            "  pmax24_annual_max = df_filtered['pmax24'].resample('AS').max()\n"
          ]
        },
        {
          "output_type": "stream",
          "name": "stdout",
          "text": [
            "  Scatter plot saved to /content/drive/My Drive/Clima_Jalisco/GRAFICOS_PMAX24/pmax24_trend_MASCOTA (SMN)_14096.png\n",
            "\n",
            "Processing station code: 14098\n",
            "  Coeficiente: [11.79570268]\n",
            "  Intercepto: 31.20754063850952\n"
          ]
        },
        {
          "output_type": "stream",
          "name": "stderr",
          "text": [
            "/tmp/ipython-input-3586071606.py:46: FutureWarning: 'AS' is deprecated and will be removed in a future version, please use 'YS' instead.\n",
            "  pmax24_annual_max = df_filtered['pmax24'].resample('AS').max()\n"
          ]
        },
        {
          "output_type": "stream",
          "name": "stdout",
          "text": [
            "  Scatter plot saved to /content/drive/My Drive/Clima_Jalisco/GRAFICOS_PMAX24/pmax24_trend_MEZQUITIC_14098.png\n",
            "\n",
            "Processing station code: 14099\n",
            "  Coeficiente: [53.61950455]\n",
            "  Intercepto: 21.727064051587362\n"
          ]
        },
        {
          "output_type": "stream",
          "name": "stderr",
          "text": [
            "/tmp/ipython-input-3586071606.py:46: FutureWarning: 'AS' is deprecated and will be removed in a future version, please use 'YS' instead.\n",
            "  pmax24_annual_max = df_filtered['pmax24'].resample('AS').max()\n"
          ]
        },
        {
          "output_type": "stream",
          "name": "stdout",
          "text": [
            "  Scatter plot saved to /content/drive/My Drive/Clima_Jalisco/GRAFICOS_PMAX24/pmax24_trend_MAZAMITLA_14099.png\n",
            "\n",
            "Processing station code: 14100\n",
            "  Coeficiente: [29.32583713]\n",
            "  Intercepto: 24.767829250447413\n"
          ]
        },
        {
          "output_type": "stream",
          "name": "stderr",
          "text": [
            "/tmp/ipython-input-3586071606.py:46: FutureWarning: 'AS' is deprecated and will be removed in a future version, please use 'YS' instead.\n",
            "  pmax24_annual_max = df_filtered['pmax24'].resample('AS').max()\n"
          ]
        },
        {
          "output_type": "stream",
          "name": "stdout",
          "text": [
            "  Scatter plot saved to /content/drive/My Drive/Clima_Jalisco/GRAFICOS_PMAX24/pmax24_trend_MEXTICACAN_14100.png\n",
            "\n",
            "Processing station code: 14101\n",
            "  Coeficiente: [14.55325634]\n",
            "  Intercepto: 33.15577156041337\n"
          ]
        },
        {
          "output_type": "stream",
          "name": "stderr",
          "text": [
            "/tmp/ipython-input-3586071606.py:46: FutureWarning: 'AS' is deprecated and will be removed in a future version, please use 'YS' instead.\n",
            "  pmax24_annual_max = df_filtered['pmax24'].resample('AS').max()\n"
          ]
        },
        {
          "output_type": "stream",
          "name": "stdout",
          "text": [
            "  Scatter plot saved to /content/drive/My Drive/Clima_Jalisco/GRAFICOS_PMAX24/pmax24_trend_MICHOACANEJO_14101.png\n",
            "\n",
            "Processing station code: 14103\n",
            "  Coeficiente: [13.97637643]\n",
            "  Intercepto: 25.402460019511544\n"
          ]
        },
        {
          "output_type": "stream",
          "name": "stderr",
          "text": [
            "/tmp/ipython-input-3586071606.py:46: FutureWarning: 'AS' is deprecated and will be removed in a future version, please use 'YS' instead.\n",
            "  pmax24_annual_max = df_filtered['pmax24'].resample('AS').max()\n"
          ]
        },
        {
          "output_type": "stream",
          "name": "stdout",
          "text": [
            "  Scatter plot saved to /content/drive/My Drive/Clima_Jalisco/GRAFICOS_PMAX24/pmax24_trend_OJUELOS DE JALISCO (SMN)_14103.png\n",
            "\n",
            "Processing station code: 14104\n",
            "  Coeficiente: [18.68615551]\n",
            "  Intercepto: 32.90474267823443\n"
          ]
        },
        {
          "output_type": "stream",
          "name": "stderr",
          "text": [
            "/tmp/ipython-input-3586071606.py:46: FutureWarning: 'AS' is deprecated and will be removed in a future version, please use 'YS' instead.\n",
            "  pmax24_annual_max = df_filtered['pmax24'].resample('AS').max()\n"
          ]
        },
        {
          "output_type": "stream",
          "name": "stdout",
          "text": [
            "  Scatter plot saved to /content/drive/My Drive/Clima_Jalisco/GRAFICOS_PMAX24/pmax24_trend_PALO VERDE_14104.png\n",
            "\n",
            "Processing station code: 14105\n",
            "  Coeficiente: [10.62604919]\n",
            "  Intercepto: 47.205051980524225\n"
          ]
        },
        {
          "output_type": "stream",
          "name": "stderr",
          "text": [
            "/tmp/ipython-input-3586071606.py:46: FutureWarning: 'AS' is deprecated and will be removed in a future version, please use 'YS' instead.\n",
            "  pmax24_annual_max = df_filtered['pmax24'].resample('AS').max()\n"
          ]
        },
        {
          "output_type": "stream",
          "name": "stdout",
          "text": [
            "  Scatter plot saved to /content/drive/My Drive/Clima_Jalisco/GRAFICOS_PMAX24/pmax24_trend_PASO DE ANALCO (CFE)_14105.png\n",
            "\n",
            "Processing station code: 14106\n",
            "  Coeficiente: [12.615136]\n",
            "  Intercepto: 32.2570788381467\n"
          ]
        },
        {
          "output_type": "stream",
          "name": "stderr",
          "text": [
            "/tmp/ipython-input-3586071606.py:46: FutureWarning: 'AS' is deprecated and will be removed in a future version, please use 'YS' instead.\n",
            "  pmax24_annual_max = df_filtered['pmax24'].resample('AS').max()\n"
          ]
        },
        {
          "output_type": "stream",
          "name": "stdout",
          "text": [
            "  Scatter plot saved to /content/drive/My Drive/Clima_Jalisco/GRAFICOS_PMAX24/pmax24_trend_PASO DEL CUARENTA I_14106.png\n",
            "\n",
            "Processing station code: 14107\n",
            "  Coeficiente: [9.53103431]\n",
            "  Intercepto: 43.24430174775352\n"
          ]
        },
        {
          "output_type": "stream",
          "name": "stderr",
          "text": [
            "/tmp/ipython-input-3586071606.py:46: FutureWarning: 'AS' is deprecated and will be removed in a future version, please use 'YS' instead.\n",
            "  pmax24_annual_max = df_filtered['pmax24'].resample('AS').max()\n"
          ]
        },
        {
          "output_type": "stream",
          "name": "stdout",
          "text": [
            "  Scatter plot saved to /content/drive/My Drive/Clima_Jalisco/GRAFICOS_PMAX24/pmax24_trend_PASO DE LA YESCA_14107.png\n",
            "\n",
            "Processing station code: 14108\n",
            "  Coeficiente: [13.20907173]\n",
            "  Intercepto: 36.22069675197578\n"
          ]
        },
        {
          "output_type": "stream",
          "name": "stderr",
          "text": [
            "/tmp/ipython-input-3586071606.py:46: FutureWarning: 'AS' is deprecated and will be removed in a future version, please use 'YS' instead.\n",
            "  pmax24_annual_max = df_filtered['pmax24'].resample('AS').max()\n"
          ]
        },
        {
          "output_type": "stream",
          "name": "stdout",
          "text": [
            "  Scatter plot saved to /content/drive/My Drive/Clima_Jalisco/GRAFICOS_PMAX24/pmax24_trend_PASO DEL SABINO_14108.png\n",
            "\n",
            "Processing station code: 14109\n",
            "  Coeficiente: [41.11986464]\n",
            "  Intercepto: 54.445865648643476\n"
          ]
        },
        {
          "output_type": "stream",
          "name": "stderr",
          "text": [
            "/tmp/ipython-input-3586071606.py:46: FutureWarning: 'AS' is deprecated and will be removed in a future version, please use 'YS' instead.\n",
            "  pmax24_annual_max = df_filtered['pmax24'].resample('AS').max()\n"
          ]
        },
        {
          "output_type": "stream",
          "name": "stdout",
          "text": [
            "  Scatter plot saved to /content/drive/My Drive/Clima_Jalisco/GRAFICOS_PMAX24/pmax24_trend_PIHUAMO_14109.png\n",
            "\n",
            "Processing station code: 14110\n",
            "  Coeficiente: [13.72529678]\n",
            "  Intercepto: 45.15218969487404\n"
          ]
        },
        {
          "output_type": "stream",
          "name": "stderr",
          "text": [
            "/tmp/ipython-input-3586071606.py:46: FutureWarning: 'AS' is deprecated and will be removed in a future version, please use 'YS' instead.\n",
            "  pmax24_annual_max = df_filtered['pmax24'].resample('AS').max()\n"
          ]
        },
        {
          "output_type": "stream",
          "name": "stdout",
          "text": [
            "  Scatter plot saved to /content/drive/My Drive/Clima_Jalisco/GRAFICOS_PMAX24/pmax24_trend_PLAN DE BARRANCAS_14110.png\n",
            "\n",
            "Processing station code: 14111\n",
            "  Coeficiente: [15.33429639]\n",
            "  Intercepto: 43.12658181940941\n"
          ]
        },
        {
          "output_type": "stream",
          "name": "stderr",
          "text": [
            "/tmp/ipython-input-3586071606.py:46: FutureWarning: 'AS' is deprecated and will be removed in a future version, please use 'YS' instead.\n",
            "  pmax24_annual_max = df_filtered['pmax24'].resample('AS').max()\n"
          ]
        },
        {
          "output_type": "stream",
          "name": "stdout",
          "text": [
            "  Scatter plot saved to /content/drive/My Drive/Clima_Jalisco/GRAFICOS_PMAX24/pmax24_trend_PONCITLAN_14111.png\n",
            "\n",
            "Processing station code: 14112\n",
            "  Coeficiente: [30.96088642]\n",
            "  Intercepto: 36.80834510558005\n"
          ]
        },
        {
          "output_type": "stream",
          "name": "stderr",
          "text": [
            "/tmp/ipython-input-3586071606.py:46: FutureWarning: 'AS' is deprecated and will be removed in a future version, please use 'YS' instead.\n",
            "  pmax24_annual_max = df_filtered['pmax24'].resample('AS').max()\n"
          ]
        },
        {
          "output_type": "stream",
          "name": "stdout",
          "text": [
            "  Scatter plot saved to /content/drive/My Drive/Clima_Jalisco/GRAFICOS_PMAX24/pmax24_trend_PRESA TROJES_14112.png\n",
            "\n",
            "Processing station code: 14113\n",
            "  Coeficiente: [15.38025093]\n",
            "  Intercepto: 43.65361239155449\n"
          ]
        },
        {
          "output_type": "stream",
          "name": "stderr",
          "text": [
            "/tmp/ipython-input-3586071606.py:46: FutureWarning: 'AS' is deprecated and will be removed in a future version, please use 'YS' instead.\n",
            "  pmax24_annual_max = df_filtered['pmax24'].resample('AS').max()\n"
          ]
        },
        {
          "output_type": "stream",
          "name": "stdout",
          "text": [
            "  Scatter plot saved to /content/drive/My Drive/Clima_Jalisco/GRAFICOS_PMAX24/pmax24_trend_PRESA HURTADO_14113.png\n",
            "\n",
            "Processing station code: 14114\n",
            "  Coeficiente: [17.60464606]\n",
            "  Intercepto: 35.39325997699062\n"
          ]
        },
        {
          "output_type": "stream",
          "name": "stderr",
          "text": [
            "/tmp/ipython-input-3586071606.py:46: FutureWarning: 'AS' is deprecated and will be removed in a future version, please use 'YS' instead.\n",
            "  pmax24_annual_max = df_filtered['pmax24'].resample('AS').max()\n"
          ]
        },
        {
          "output_type": "stream",
          "name": "stdout",
          "text": [
            "  Scatter plot saved to /content/drive/My Drive/Clima_Jalisco/GRAFICOS_PMAX24/pmax24_trend_PRESA LA DUQUESA_14114.png\n",
            "\n",
            "Processing station code: 14115\n",
            "  Coeficiente: [9.48613509]\n",
            "  Intercepto: 49.76959223131733\n"
          ]
        },
        {
          "output_type": "stream",
          "name": "stderr",
          "text": [
            "/tmp/ipython-input-3586071606.py:46: FutureWarning: 'AS' is deprecated and will be removed in a future version, please use 'YS' instead.\n",
            "  pmax24_annual_max = df_filtered['pmax24'].resample('AS').max()\n"
          ]
        },
        {
          "output_type": "stream",
          "name": "stdout",
          "text": [
            "  Scatter plot saved to /content/drive/My Drive/Clima_Jalisco/GRAFICOS_PMAX24/pmax24_trend_PUENTE ARCEDIANO (CFE)_14115.png\n",
            "\n",
            "Processing station code: 14116\n",
            "  Coeficiente: [27.6811959]\n",
            "  Intercepto: 76.55206975245378\n"
          ]
        },
        {
          "output_type": "stream",
          "name": "stderr",
          "text": [
            "/tmp/ipython-input-3586071606.py:46: FutureWarning: 'AS' is deprecated and will be removed in a future version, please use 'YS' instead.\n",
            "  pmax24_annual_max = df_filtered['pmax24'].resample('AS').max()\n"
          ]
        },
        {
          "output_type": "stream",
          "name": "stdout",
          "text": [
            "  Scatter plot saved to /content/drive/My Drive/Clima_Jalisco/GRAFICOS_PMAX24/pmax24_trend_PUERTO VALLARTA_14116.png\n",
            "\n",
            "Processing station code: 14117\n",
            "  Coeficiente: [41.06013765]\n",
            "  Intercepto: 62.21204589606768\n"
          ]
        },
        {
          "output_type": "stream",
          "name": "stderr",
          "text": [
            "/tmp/ipython-input-3586071606.py:46: FutureWarning: 'AS' is deprecated and will be removed in a future version, please use 'YS' instead.\n",
            "  pmax24_annual_max = df_filtered['pmax24'].resample('AS').max()\n"
          ]
        },
        {
          "output_type": "stream",
          "name": "stdout",
          "text": [
            "  Scatter plot saved to /content/drive/My Drive/Clima_Jalisco/GRAFICOS_PMAX24/pmax24_trend_VILLA PURIFICACION (DGE)_14117.png\n",
            "\n",
            "Processing station code: 14118\n",
            "  Coeficiente: [37.47377052]\n",
            "  Intercepto: 40.01216330181139\n"
          ]
        },
        {
          "output_type": "stream",
          "name": "stderr",
          "text": [
            "/tmp/ipython-input-3586071606.py:46: FutureWarning: 'AS' is deprecated and will be removed in a future version, please use 'YS' instead.\n",
            "  pmax24_annual_max = df_filtered['pmax24'].resample('AS').max()\n"
          ]
        },
        {
          "output_type": "stream",
          "name": "stdout",
          "text": [
            "  Scatter plot saved to /content/drive/My Drive/Clima_Jalisco/GRAFICOS_PMAX24/pmax24_trend_QUITO_14118.png\n",
            "\n",
            "Processing station code: 14119\n",
            "  Coeficiente: [20.94665938]\n",
            "  Intercepto: 28.34086512886965\n"
          ]
        },
        {
          "output_type": "stream",
          "name": "stderr",
          "text": [
            "/tmp/ipython-input-3586071606.py:46: FutureWarning: 'AS' is deprecated and will be removed in a future version, please use 'YS' instead.\n",
            "  pmax24_annual_max = df_filtered['pmax24'].resample('AS').max()\n"
          ]
        },
        {
          "output_type": "stream",
          "name": "stdout",
          "text": [
            "  Scatter plot saved to /content/drive/My Drive/Clima_Jalisco/GRAFICOS_PMAX24/pmax24_trend_QUITUPAN (CFE)_14119.png\n",
            "\n",
            "Processing station code: 14121\n",
            "  Coeficiente: [13.85656897]\n",
            "  Intercepto: 48.38627070154327\n"
          ]
        },
        {
          "output_type": "stream",
          "name": "stderr",
          "text": [
            "/tmp/ipython-input-3586071606.py:46: FutureWarning: 'AS' is deprecated and will be removed in a future version, please use 'YS' instead.\n",
            "  pmax24_annual_max = df_filtered['pmax24'].resample('AS').max()\n"
          ]
        },
        {
          "output_type": "stream",
          "name": "stdout",
          "text": [
            "  Scatter plot saved to /content/drive/My Drive/Clima_Jalisco/GRAFICOS_PMAX24/pmax24_trend_GUADALAJARA (SMN)_14121.png\n",
            "\n",
            "Processing station code: 14122\n",
            "  Coeficiente: [21.48545546]\n",
            "  Intercepto: 30.401818579336442\n"
          ]
        },
        {
          "output_type": "stream",
          "name": "stderr",
          "text": [
            "/tmp/ipython-input-3586071606.py:46: FutureWarning: 'AS' is deprecated and will be removed in a future version, please use 'YS' instead.\n",
            "  pmax24_annual_max = df_filtered['pmax24'].resample('AS').max()\n"
          ]
        },
        {
          "output_type": "stream",
          "name": "stdout",
          "text": [
            "  Scatter plot saved to /content/drive/My Drive/Clima_Jalisco/GRAFICOS_PMAX24/pmax24_trend_SAN BERNARDO_14122.png\n",
            "\n",
            "Processing station code: 14123\n",
            "  Coeficiente: [24.48021273]\n",
            "  Intercepto: 25.711407787501173\n"
          ]
        },
        {
          "output_type": "stream",
          "name": "stderr",
          "text": [
            "/tmp/ipython-input-3586071606.py:46: FutureWarning: 'AS' is deprecated and will be removed in a future version, please use 'YS' instead.\n",
            "  pmax24_annual_max = df_filtered['pmax24'].resample('AS').max()\n"
          ]
        },
        {
          "output_type": "stream",
          "name": "stdout",
          "text": [
            "  Scatter plot saved to /content/drive/My Drive/Clima_Jalisco/GRAFICOS_PMAX24/pmax24_trend_SAN DIEGO DE ALEJANDRIA_14123.png\n",
            "\n",
            "Processing station code: 14125\n",
            "  Coeficiente: [30.83441732]\n",
            "  Intercepto: 39.47410131669355\n"
          ]
        },
        {
          "output_type": "stream",
          "name": "stderr",
          "text": [
            "/tmp/ipython-input-3586071606.py:46: FutureWarning: 'AS' is deprecated and will be removed in a future version, please use 'YS' instead.\n",
            "  pmax24_annual_max = df_filtered['pmax24'].resample('AS').max()\n"
          ]
        },
        {
          "output_type": "stream",
          "name": "stdout",
          "text": [
            "  Scatter plot saved to /content/drive/My Drive/Clima_Jalisco/GRAFICOS_PMAX24/pmax24_trend_SAN GREGORIO_14125.png\n",
            "\n",
            "Processing station code: 14126\n",
            "  Coeficiente: [12.56843177]\n",
            "  Intercepto: 42.79965627987398\n"
          ]
        },
        {
          "output_type": "stream",
          "name": "stderr",
          "text": [
            "/tmp/ipython-input-3586071606.py:46: FutureWarning: 'AS' is deprecated and will be removed in a future version, please use 'YS' instead.\n",
            "  pmax24_annual_max = df_filtered['pmax24'].resample('AS').max()\n"
          ]
        },
        {
          "output_type": "stream",
          "name": "stdout",
          "text": [
            "  Scatter plot saved to /content/drive/My Drive/Clima_Jalisco/GRAFICOS_PMAX24/pmax24_trend_SAN JUAN DE LOS LAGOS_14126.png\n",
            "\n",
            "Processing station code: 14127\n",
            "  Coeficiente: [13.24798455]\n",
            "  Intercepto: 33.65003744142547\n"
          ]
        },
        {
          "output_type": "stream",
          "name": "stderr",
          "text": [
            "/tmp/ipython-input-3586071606.py:46: FutureWarning: 'AS' is deprecated and will be removed in a future version, please use 'YS' instead.\n",
            "  pmax24_annual_max = df_filtered['pmax24'].resample('AS').max()\n"
          ]
        },
        {
          "output_type": "stream",
          "name": "stdout",
          "text": [
            "  Scatter plot saved to /content/drive/My Drive/Clima_Jalisco/GRAFICOS_PMAX24/pmax24_trend_SAN JUANICO_14127.png\n",
            "\n",
            "Processing station code: 14128\n",
            "  Coeficiente: [14.0563408]\n",
            "  Intercepto: 43.18353432093495\n"
          ]
        },
        {
          "output_type": "stream",
          "name": "stderr",
          "text": [
            "/tmp/ipython-input-3586071606.py:46: FutureWarning: 'AS' is deprecated and will be removed in a future version, please use 'YS' instead.\n",
            "  pmax24_annual_max = df_filtered['pmax24'].resample('AS').max()\n"
          ]
        },
        {
          "output_type": "stream",
          "name": "stdout",
          "text": [
            "  Scatter plot saved to /content/drive/My Drive/Clima_Jalisco/GRAFICOS_PMAX24/pmax24_trend_SAN JULIAN (DGE)_14128.png\n",
            "\n",
            "Processing station code: 14129\n",
            "  Coeficiente: [23.91745333]\n",
            "  Intercepto: 25.400107121636296\n"
          ]
        },
        {
          "output_type": "stream",
          "name": "stderr",
          "text": [
            "/tmp/ipython-input-3586071606.py:46: FutureWarning: 'AS' is deprecated and will be removed in a future version, please use 'YS' instead.\n",
            "  pmax24_annual_max = df_filtered['pmax24'].resample('AS').max()\n"
          ]
        },
        {
          "output_type": "stream",
          "name": "stdout",
          "text": [
            "  Scatter plot saved to /content/drive/My Drive/Clima_Jalisco/GRAFICOS_PMAX24/pmax24_trend_SAN MARCOS_14129.png\n",
            "\n",
            "Processing station code: 14130\n",
            "  Coeficiente: [13.59632976]\n",
            "  Intercepto: 47.46923085557114\n"
          ]
        },
        {
          "output_type": "stream",
          "name": "stderr",
          "text": [
            "/tmp/ipython-input-3586071606.py:46: FutureWarning: 'AS' is deprecated and will be removed in a future version, please use 'YS' instead.\n",
            "  pmax24_annual_max = df_filtered['pmax24'].resample('AS').max()\n"
          ]
        },
        {
          "output_type": "stream",
          "name": "stdout",
          "text": [
            "  Scatter plot saved to /content/drive/My Drive/Clima_Jalisco/GRAFICOS_PMAX24/pmax24_trend_SAN MARTIN HIDALGO_14130.png\n",
            "\n",
            "Processing station code: 14131\n",
            "  Coeficiente: [12.46315321]\n",
            "  Intercepto: 41.44730830857523\n"
          ]
        },
        {
          "output_type": "stream",
          "name": "stderr",
          "text": [
            "/tmp/ipython-input-3586071606.py:46: FutureWarning: 'AS' is deprecated and will be removed in a future version, please use 'YS' instead.\n",
            "  pmax24_annual_max = df_filtered['pmax24'].resample('AS').max()\n"
          ]
        },
        {
          "output_type": "stream",
          "name": "stdout",
          "text": [
            "  Scatter plot saved to /content/drive/My Drive/Clima_Jalisco/GRAFICOS_PMAX24/pmax24_trend_SAN MIGUEL EL ALTO_14131.png\n",
            "\n",
            "Processing station code: 14132\n",
            "  Coeficiente: [19.13935586]\n",
            "  Intercepto: 44.27002353629928\n"
          ]
        },
        {
          "output_type": "stream",
          "name": "stderr",
          "text": [
            "/tmp/ipython-input-3586071606.py:46: FutureWarning: 'AS' is deprecated and will be removed in a future version, please use 'YS' instead.\n",
            "  pmax24_annual_max = df_filtered['pmax24'].resample('AS').max()\n"
          ]
        },
        {
          "output_type": "stream",
          "name": "stdout",
          "text": [
            "  Scatter plot saved to /content/drive/My Drive/Clima_Jalisco/GRAFICOS_PMAX24/pmax24_trend_TLAQUEPAQUE_14132.png\n",
            "\n",
            "Processing station code: 14133\n",
            "  Coeficiente: [18.6676668]\n",
            "  Intercepto: 46.50025520506988\n"
          ]
        },
        {
          "output_type": "stream",
          "name": "stderr",
          "text": [
            "/tmp/ipython-input-3586071606.py:46: FutureWarning: 'AS' is deprecated and will be removed in a future version, please use 'YS' instead.\n",
            "  pmax24_annual_max = df_filtered['pmax24'].resample('AS').max()\n"
          ]
        },
        {
          "output_type": "stream",
          "name": "stdout",
          "text": [
            "  Scatter plot saved to /content/drive/My Drive/Clima_Jalisco/GRAFICOS_PMAX24/pmax24_trend_SAN SEBASTIAN DEL OESTE_14133.png\n",
            "\n",
            "Processing station code: 14134\n",
            "  Coeficiente: [14.82523959]\n",
            "  Intercepto: 42.61265739501571\n"
          ]
        },
        {
          "output_type": "stream",
          "name": "stderr",
          "text": [
            "/tmp/ipython-input-3586071606.py:46: FutureWarning: 'AS' is deprecated and will be removed in a future version, please use 'YS' instead.\n",
            "  pmax24_annual_max = df_filtered['pmax24'].resample('AS').max()\n"
          ]
        },
        {
          "output_type": "stream",
          "name": "stdout",
          "text": [
            "  Scatter plot saved to /content/drive/My Drive/Clima_Jalisco/GRAFICOS_PMAX24/pmax24_trend_SANTA CLARA_14134.png\n",
            "\n",
            "Processing station code: 14135\n",
            "  Coeficiente: [15.20412781]\n",
            "  Intercepto: 37.553664430780756\n"
          ]
        },
        {
          "output_type": "stream",
          "name": "stderr",
          "text": [
            "/tmp/ipython-input-3586071606.py:46: FutureWarning: 'AS' is deprecated and will be removed in a future version, please use 'YS' instead.\n",
            "  pmax24_annual_max = df_filtered['pmax24'].resample('AS').max()\n"
          ]
        },
        {
          "output_type": "stream",
          "name": "stdout",
          "text": [
            "  Scatter plot saved to /content/drive/My Drive/Clima_Jalisco/GRAFICOS_PMAX24/pmax24_trend_SANTA MARIA DE LOS ANGELES_14135.png\n",
            "\n",
            "Processing station code: 14136\n",
            "  Coeficiente: [21.37680715]\n",
            "  Intercepto: 43.699369618846774\n"
          ]
        },
        {
          "output_type": "stream",
          "name": "stderr",
          "text": [
            "/tmp/ipython-input-3586071606.py:46: FutureWarning: 'AS' is deprecated and will be removed in a future version, please use 'YS' instead.\n",
            "  pmax24_annual_max = df_filtered['pmax24'].resample('AS').max()\n"
          ]
        },
        {
          "output_type": "stream",
          "name": "stdout",
          "text": [
            "  Scatter plot saved to /content/drive/My Drive/Clima_Jalisco/GRAFICOS_PMAX24/pmax24_trend_SANTA ROSA_14136.png\n",
            "\n",
            "Processing station code: 14138\n",
            "  Coeficiente: [46.01508443]\n",
            "  Intercepto: 53.82804751541449\n"
          ]
        },
        {
          "output_type": "stream",
          "name": "stderr",
          "text": [
            "/tmp/ipython-input-3586071606.py:46: FutureWarning: 'AS' is deprecated and will be removed in a future version, please use 'YS' instead.\n",
            "  pmax24_annual_max = df_filtered['pmax24'].resample('AS').max()\n"
          ]
        },
        {
          "output_type": "stream",
          "name": "stdout",
          "text": [
            "  Scatter plot saved to /content/drive/My Drive/Clima_Jalisco/GRAFICOS_PMAX24/pmax24_trend_SEHUAYA_14138.png\n",
            "\n",
            "Processing station code: 14139\n",
            "  Coeficiente: [17.58606423]\n",
            "  Intercepto: 38.084417386230385\n"
          ]
        },
        {
          "output_type": "stream",
          "name": "stderr",
          "text": [
            "/tmp/ipython-input-3586071606.py:46: FutureWarning: 'AS' is deprecated and will be removed in a future version, please use 'YS' instead.\n",
            "  pmax24_annual_max = df_filtered['pmax24'].resample('AS').max()\n"
          ]
        },
        {
          "output_type": "stream",
          "name": "stdout",
          "text": [
            "  Scatter plot saved to /content/drive/My Drive/Clima_Jalisco/GRAFICOS_PMAX24/pmax24_trend_TACOTAN_14139.png\n",
            "\n",
            "Processing station code: 14140\n",
            "  Coeficiente: [31.21861311]\n",
            "  Intercepto: 37.390017224788224\n"
          ]
        },
        {
          "output_type": "stream",
          "name": "stderr",
          "text": [
            "/tmp/ipython-input-3586071606.py:46: FutureWarning: 'AS' is deprecated and will be removed in a future version, please use 'YS' instead.\n",
            "  pmax24_annual_max = df_filtered['pmax24'].resample('AS').max()\n"
          ]
        },
        {
          "output_type": "stream",
          "name": "stdout",
          "text": [
            "  Scatter plot saved to /content/drive/My Drive/Clima_Jalisco/GRAFICOS_PMAX24/pmax24_trend_TALPA DE ALLENDE_14140.png\n",
            "\n",
            "Processing station code: 14141\n",
            "  Coeficiente: [25.81420121]\n",
            "  Intercepto: 42.59848516424745\n"
          ]
        },
        {
          "output_type": "stream",
          "name": "stderr",
          "text": [
            "/tmp/ipython-input-3586071606.py:46: FutureWarning: 'AS' is deprecated and will be removed in a future version, please use 'YS' instead.\n",
            "  pmax24_annual_max = df_filtered['pmax24'].resample('AS').max()\n"
          ]
        },
        {
          "output_type": "stream",
          "name": "stdout",
          "text": [
            "  Scatter plot saved to /content/drive/My Drive/Clima_Jalisco/GRAFICOS_PMAX24/pmax24_trend_INGENIO TAMAZULA_14141.png\n",
            "\n",
            "Processing station code: 14142\n",
            "  Coeficiente: [24.70194738]\n",
            "  Intercepto: 42.114270891695384\n"
          ]
        },
        {
          "output_type": "stream",
          "name": "stderr",
          "text": [
            "/tmp/ipython-input-3586071606.py:46: FutureWarning: 'AS' is deprecated and will be removed in a future version, please use 'YS' instead.\n",
            "  pmax24_annual_max = df_filtered['pmax24'].resample('AS').max()\n"
          ]
        },
        {
          "output_type": "stream",
          "name": "stdout",
          "text": [
            "  Scatter plot saved to /content/drive/My Drive/Clima_Jalisco/GRAFICOS_PMAX24/pmax24_trend_TAPALPA (SMN)_14142.png\n",
            "\n",
            "Processing station code: 14143\n",
            "  Coeficiente: [17.26267352]\n",
            "  Intercepto: 46.82795377466694\n"
          ]
        },
        {
          "output_type": "stream",
          "name": "stderr",
          "text": [
            "/tmp/ipython-input-3586071606.py:46: FutureWarning: 'AS' is deprecated and will be removed in a future version, please use 'YS' instead.\n",
            "  pmax24_annual_max = df_filtered['pmax24'].resample('AS').max()\n"
          ]
        },
        {
          "output_type": "stream",
          "name": "stdout",
          "text": [
            "  Scatter plot saved to /content/drive/My Drive/Clima_Jalisco/GRAFICOS_PMAX24/pmax24_trend_TECOLOTLAN (DGE)_14143.png\n",
            "\n",
            "Processing station code: 14144\n",
            "  Coeficiente: [16.81425434]\n",
            "  Intercepto: 35.54475337142706\n"
          ]
        },
        {
          "output_type": "stream",
          "name": "stderr",
          "text": [
            "/tmp/ipython-input-3586071606.py:46: FutureWarning: 'AS' is deprecated and will be removed in a future version, please use 'YS' instead.\n",
            "  pmax24_annual_max = df_filtered['pmax24'].resample('AS').max()\n"
          ]
        },
        {
          "output_type": "stream",
          "name": "stdout",
          "text": [
            "  Scatter plot saved to /content/drive/My Drive/Clima_Jalisco/GRAFICOS_PMAX24/pmax24_trend_TENASCO_14144.png\n",
            "\n",
            "Processing station code: 14145\n",
            "  Coeficiente: [16.4622338]\n",
            "  Intercepto: 30.286863188857147\n"
          ]
        },
        {
          "output_type": "stream",
          "name": "stderr",
          "text": [
            "/tmp/ipython-input-3586071606.py:46: FutureWarning: 'AS' is deprecated and will be removed in a future version, please use 'YS' instead.\n",
            "  pmax24_annual_max = df_filtered['pmax24'].resample('AS').max()\n"
          ]
        },
        {
          "output_type": "stream",
          "name": "stdout",
          "text": [
            "  Scatter plot saved to /content/drive/My Drive/Clima_Jalisco/GRAFICOS_PMAX24/pmax24_trend_TEOCALTICHE (DGE)_14145.png\n",
            "\n",
            "Processing station code: 14146\n",
            "  Coeficiente: [24.0179813]\n",
            "  Intercepto: 27.939234167066516\n"
          ]
        },
        {
          "output_type": "stream",
          "name": "stderr",
          "text": [
            "/tmp/ipython-input-3586071606.py:46: FutureWarning: 'AS' is deprecated and will be removed in a future version, please use 'YS' instead.\n",
            "  pmax24_annual_max = df_filtered['pmax24'].resample('AS').max()\n"
          ]
        },
        {
          "output_type": "stream",
          "name": "stdout",
          "text": [
            "  Scatter plot saved to /content/drive/My Drive/Clima_Jalisco/GRAFICOS_PMAX24/pmax24_trend_TEOCUITATLAN_14146.png\n",
            "\n",
            "Processing station code: 14147\n",
            "  Coeficiente: [14.03181285]\n",
            "  Intercepto: 46.478173149467985\n"
          ]
        },
        {
          "output_type": "stream",
          "name": "stderr",
          "text": [
            "/tmp/ipython-input-3586071606.py:46: FutureWarning: 'AS' is deprecated and will be removed in a future version, please use 'YS' instead.\n",
            "  pmax24_annual_max = df_filtered['pmax24'].resample('AS').max()\n"
          ]
        },
        {
          "output_type": "stream",
          "name": "stdout",
          "text": [
            "  Scatter plot saved to /content/drive/My Drive/Clima_Jalisco/GRAFICOS_PMAX24/pmax24_trend_TEPATITLAN_14147.png\n",
            "\n",
            "Processing station code: 14148\n",
            "  Coeficiente: [47.87495194]\n",
            "  Intercepto: 64.9751353134842\n"
          ]
        },
        {
          "output_type": "stream",
          "name": "stderr",
          "text": [
            "/tmp/ipython-input-3586071606.py:46: FutureWarning: 'AS' is deprecated and will be removed in a future version, please use 'YS' instead.\n",
            "  pmax24_annual_max = df_filtered['pmax24'].resample('AS').max()\n"
          ]
        },
        {
          "output_type": "stream",
          "name": "stdout",
          "text": [
            "  Scatter plot saved to /content/drive/My Drive/Clima_Jalisco/GRAFICOS_PMAX24/pmax24_trend_TECOMATES_14148.png\n",
            "\n",
            "Processing station code: 14151\n",
            "  Coeficiente: [21.01142691]\n",
            "  Intercepto: 35.643183217825296\n"
          ]
        },
        {
          "output_type": "stream",
          "name": "stderr",
          "text": [
            "/tmp/ipython-input-3586071606.py:46: FutureWarning: 'AS' is deprecated and will be removed in a future version, please use 'YS' instead.\n",
            "  pmax24_annual_max = df_filtered['pmax24'].resample('AS').max()\n"
          ]
        },
        {
          "output_type": "stream",
          "name": "stdout",
          "text": [
            "  Scatter plot saved to /content/drive/My Drive/Clima_Jalisco/GRAFICOS_PMAX24/pmax24_trend_TOLIMAN (SMN)_14151.png\n",
            "\n",
            "Processing station code: 14152\n",
            "  Coeficiente: [38.45305738]\n",
            "  Intercepto: 57.6661444565562\n"
          ]
        },
        {
          "output_type": "stream",
          "name": "stderr",
          "text": [
            "/tmp/ipython-input-3586071606.py:46: FutureWarning: 'AS' is deprecated and will be removed in a future version, please use 'YS' instead.\n",
            "  pmax24_annual_max = df_filtered['pmax24'].resample('AS').max()\n"
          ]
        },
        {
          "output_type": "stream",
          "name": "stdout",
          "text": [
            "  Scatter plot saved to /content/drive/My Drive/Clima_Jalisco/GRAFICOS_PMAX24/pmax24_trend_TOMATLAN_14152.png\n",
            "\n",
            "Processing station code: 14153\n",
            "  Coeficiente: [20.99083393]\n",
            "  Intercepto: 35.78293643627565\n"
          ]
        },
        {
          "output_type": "stream",
          "name": "stderr",
          "text": [
            "/tmp/ipython-input-3586071606.py:46: FutureWarning: 'AS' is deprecated and will be removed in a future version, please use 'YS' instead.\n",
            "  pmax24_annual_max = df_filtered['pmax24'].resample('AS').max()\n"
          ]
        },
        {
          "output_type": "stream",
          "name": "stdout",
          "text": [
            "  Scatter plot saved to /content/drive/My Drive/Clima_Jalisco/GRAFICOS_PMAX24/pmax24_trend_TOTATICHE_14153.png\n",
            "\n",
            "Processing station code: 14154\n",
            "  Coeficiente: [16.15064054]\n",
            "  Intercepto: 37.76797210295079\n"
          ]
        },
        {
          "output_type": "stream",
          "name": "stderr",
          "text": [
            "/tmp/ipython-input-3586071606.py:46: FutureWarning: 'AS' is deprecated and will be removed in a future version, please use 'YS' instead.\n",
            "  pmax24_annual_max = df_filtered['pmax24'].resample('AS').max()\n"
          ]
        },
        {
          "output_type": "stream",
          "name": "stdout",
          "text": [
            "  Scatter plot saved to /content/drive/My Drive/Clima_Jalisco/GRAFICOS_PMAX24/pmax24_trend_TOTOTLAN_14154.png\n",
            "\n",
            "Processing station code: 14155\n",
            "  Coeficiente: [19.54560155]\n",
            "  Intercepto: 49.86034428800552\n"
          ]
        },
        {
          "output_type": "stream",
          "name": "stderr",
          "text": [
            "/tmp/ipython-input-3586071606.py:46: FutureWarning: 'AS' is deprecated and will be removed in a future version, please use 'YS' instead.\n",
            "  pmax24_annual_max = df_filtered['pmax24'].resample('AS').max()\n"
          ]
        },
        {
          "output_type": "stream",
          "name": "stdout",
          "text": [
            "  Scatter plot saved to /content/drive/My Drive/Clima_Jalisco/GRAFICOS_PMAX24/pmax24_trend_TUXCACUESCO_14155.png\n",
            "\n",
            "Processing station code: 14156\n",
            "  Coeficiente: [16.07732862]\n",
            "  Intercepto: 37.74051663059442\n"
          ]
        },
        {
          "output_type": "stream",
          "name": "stderr",
          "text": [
            "/tmp/ipython-input-3586071606.py:46: FutureWarning: 'AS' is deprecated and will be removed in a future version, please use 'YS' instead.\n",
            "  pmax24_annual_max = df_filtered['pmax24'].resample('AS').max()\n"
          ]
        },
        {
          "output_type": "stream",
          "name": "stdout",
          "text": [
            "  Scatter plot saved to /content/drive/My Drive/Clima_Jalisco/GRAFICOS_PMAX24/pmax24_trend_TUXCUECA_14156.png\n",
            "\n",
            "Processing station code: 14157\n",
            "  Coeficiente: [19.46188114]\n",
            "  Intercepto: 40.03842840926541\n"
          ]
        },
        {
          "output_type": "stream",
          "name": "stderr",
          "text": [
            "/tmp/ipython-input-3586071606.py:46: FutureWarning: 'AS' is deprecated and will be removed in a future version, please use 'YS' instead.\n",
            "  pmax24_annual_max = df_filtered['pmax24'].resample('AS').max()\n"
          ]
        },
        {
          "output_type": "stream",
          "name": "stdout",
          "text": [
            "  Scatter plot saved to /content/drive/My Drive/Clima_Jalisco/GRAFICOS_PMAX24/pmax24_trend_UNION DE SAN ANTONIO_14157.png\n",
            "\n",
            "Processing station code: 14158\n",
            "  Coeficiente: [22.3886245]\n",
            "  Intercepto: 39.14436908242305\n"
          ]
        },
        {
          "output_type": "stream",
          "name": "stderr",
          "text": [
            "/tmp/ipython-input-3586071606.py:46: FutureWarning: 'AS' is deprecated and will be removed in a future version, please use 'YS' instead.\n",
            "  pmax24_annual_max = df_filtered['pmax24'].resample('AS').max()\n"
          ]
        },
        {
          "output_type": "stream",
          "name": "stdout",
          "text": [
            "  Scatter plot saved to /content/drive/My Drive/Clima_Jalisco/GRAFICOS_PMAX24/pmax24_trend_UNION DE TULA_14158.png\n",
            "\n",
            "Processing station code: 14159\n",
            "  Coeficiente: [15.3116847]\n",
            "  Intercepto: 43.2416047578683\n"
          ]
        },
        {
          "output_type": "stream",
          "name": "stderr",
          "text": [
            "/tmp/ipython-input-3586071606.py:46: FutureWarning: 'AS' is deprecated and will be removed in a future version, please use 'YS' instead.\n",
            "  pmax24_annual_max = df_filtered['pmax24'].resample('AS').max()\n"
          ]
        },
        {
          "output_type": "stream",
          "name": "stdout",
          "text": [
            "  Scatter plot saved to /content/drive/My Drive/Clima_Jalisco/GRAFICOS_PMAX24/pmax24_trend_VALLE DE GUADALUPE_14159.png\n",
            "\n",
            "Processing station code: 14160\n",
            "  Coeficiente: [34.42244409]\n",
            "  Intercepto: 28.283503059994445\n"
          ]
        },
        {
          "output_type": "stream",
          "name": "stderr",
          "text": [
            "/tmp/ipython-input-3586071606.py:46: FutureWarning: 'AS' is deprecated and will be removed in a future version, please use 'YS' instead.\n",
            "  pmax24_annual_max = df_filtered['pmax24'].resample('AS').max()\n"
          ]
        },
        {
          "output_type": "stream",
          "name": "stdout",
          "text": [
            "  Scatter plot saved to /content/drive/My Drive/Clima_Jalisco/GRAFICOS_PMAX24/pmax24_trend_VALLE DE JUAREZ (DGE)_14160.png\n",
            "\n",
            "Processing station code: 14162\n",
            "  Coeficiente: [12.61805637]\n",
            "  Intercepto: 48.25427755326747\n"
          ]
        },
        {
          "output_type": "stream",
          "name": "stderr",
          "text": [
            "/tmp/ipython-input-3586071606.py:46: FutureWarning: 'AS' is deprecated and will be removed in a future version, please use 'YS' instead.\n",
            "  pmax24_annual_max = df_filtered['pmax24'].resample('AS').max()\n"
          ]
        },
        {
          "output_type": "stream",
          "name": "stdout",
          "text": [
            "  Scatter plot saved to /content/drive/My Drive/Clima_Jalisco/GRAFICOS_PMAX24/pmax24_trend_PRESA SANTA ROSA (CFE)_14162.png\n",
            "\n",
            "Processing station code: 14163\n",
            "  Coeficiente: [11.05946613]\n",
            "  Intercepto: 37.90486505835569\n"
          ]
        },
        {
          "output_type": "stream",
          "name": "stderr",
          "text": [
            "/tmp/ipython-input-3586071606.py:46: FutureWarning: 'AS' is deprecated and will be removed in a future version, please use 'YS' instead.\n",
            "  pmax24_annual_max = df_filtered['pmax24'].resample('AS').max()\n"
          ]
        },
        {
          "output_type": "stream",
          "name": "stdout",
          "text": [
            "  Scatter plot saved to /content/drive/My Drive/Clima_Jalisco/GRAFICOS_PMAX24/pmax24_trend_VILLA CORONA_14163.png\n",
            "\n",
            "Processing station code: 14164\n",
            "  Coeficiente: [12.62504329]\n",
            "  Intercepto: 41.967575560773085\n"
          ]
        },
        {
          "output_type": "stream",
          "name": "stderr",
          "text": [
            "/tmp/ipython-input-3586071606.py:46: FutureWarning: 'AS' is deprecated and will be removed in a future version, please use 'YS' instead.\n",
            "  pmax24_annual_max = df_filtered['pmax24'].resample('AS').max()\n"
          ]
        },
        {
          "output_type": "stream",
          "name": "stdout",
          "text": [
            "  Scatter plot saved to /content/drive/My Drive/Clima_Jalisco/GRAFICOS_PMAX24/pmax24_trend_VILLA GUERRERO_14164.png\n",
            "\n",
            "Processing station code: 14165\n",
            "  Coeficiente: [14.92267543]\n",
            "  Intercepto: 39.81475047608919\n"
          ]
        },
        {
          "output_type": "stream",
          "name": "stderr",
          "text": [
            "/tmp/ipython-input-3586071606.py:46: FutureWarning: 'AS' is deprecated and will be removed in a future version, please use 'YS' instead.\n",
            "  pmax24_annual_max = df_filtered['pmax24'].resample('AS').max()\n"
          ]
        },
        {
          "output_type": "stream",
          "name": "stdout",
          "text": [
            "  Scatter plot saved to /content/drive/My Drive/Clima_Jalisco/GRAFICOS_PMAX24/pmax24_trend_VILLA OBREGON_14165.png\n",
            "\n",
            "Processing station code: 14167\n",
            "  Coeficiente: [18.96248152]\n",
            "  Intercepto: 33.535240612919026\n"
          ]
        },
        {
          "output_type": "stream",
          "name": "stderr",
          "text": [
            "/tmp/ipython-input-3586071606.py:46: FutureWarning: 'AS' is deprecated and will be removed in a future version, please use 'YS' instead.\n",
            "  pmax24_annual_max = df_filtered['pmax24'].resample('AS').max()\n"
          ]
        },
        {
          "output_type": "stream",
          "name": "stdout",
          "text": [
            "  Scatter plot saved to /content/drive/My Drive/Clima_Jalisco/GRAFICOS_PMAX24/pmax24_trend_YAHUALICA DE GONZALEZ GALLO (SMN)_14167.png\n",
            "\n",
            "Processing station code: 14168\n",
            "  Coeficiente: [17.17469365]\n",
            "  Intercepto: 20.616790320813166\n"
          ]
        },
        {
          "output_type": "stream",
          "name": "stderr",
          "text": [
            "/tmp/ipython-input-3586071606.py:46: FutureWarning: 'AS' is deprecated and will be removed in a future version, please use 'YS' instead.\n",
            "  pmax24_annual_max = df_filtered['pmax24'].resample('AS').max()\n"
          ]
        },
        {
          "output_type": "stream",
          "name": "stdout",
          "text": [
            "  Scatter plot saved to /content/drive/My Drive/Clima_Jalisco/GRAFICOS_PMAX24/pmax24_trend_ZACOALCO DE TORRES_14168.png\n",
            "\n",
            "Processing station code: 14169\n",
            "  Coeficiente: [15.00948486]\n",
            "  Intercepto: 48.77148108033653\n"
          ]
        },
        {
          "output_type": "stream",
          "name": "stderr",
          "text": [
            "/tmp/ipython-input-3586071606.py:46: FutureWarning: 'AS' is deprecated and will be removed in a future version, please use 'YS' instead.\n",
            "  pmax24_annual_max = df_filtered['pmax24'].resample('AS').max()\n"
          ]
        },
        {
          "output_type": "stream",
          "name": "stdout",
          "text": [
            "  Scatter plot saved to /content/drive/My Drive/Clima_Jalisco/GRAFICOS_PMAX24/pmax24_trend_ZAPOPAN_14169.png\n",
            "\n",
            "Processing station code: 14170\n",
            "  Coeficiente: [27.12679471]\n",
            "  Intercepto: 32.60608503949182\n"
          ]
        },
        {
          "output_type": "stream",
          "name": "stderr",
          "text": [
            "/tmp/ipython-input-3586071606.py:46: FutureWarning: 'AS' is deprecated and will be removed in a future version, please use 'YS' instead.\n",
            "  pmax24_annual_max = df_filtered['pmax24'].resample('AS').max()\n"
          ]
        },
        {
          "output_type": "stream",
          "name": "stdout",
          "text": [
            "  Scatter plot saved to /content/drive/My Drive/Clima_Jalisco/GRAFICOS_PMAX24/pmax24_trend_ZAPOTILTIC_14170.png\n",
            "\n",
            "Processing station code: 14171\n",
            "  Coeficiente: [19.00489721]\n",
            "  Intercepto: 39.5834434947068\n"
          ]
        },
        {
          "output_type": "stream",
          "name": "stderr",
          "text": [
            "/tmp/ipython-input-3586071606.py:46: FutureWarning: 'AS' is deprecated and will be removed in a future version, please use 'YS' instead.\n",
            "  pmax24_annual_max = df_filtered['pmax24'].resample('AS').max()\n"
          ]
        },
        {
          "output_type": "stream",
          "name": "stdout",
          "text": [
            "  Scatter plot saved to /content/drive/My Drive/Clima_Jalisco/GRAFICOS_PMAX24/pmax24_trend_ZAPOTLANEJO (SMN)_14171.png\n",
            "\n",
            "Processing station code: 14174\n",
            "  Coeficiente: [45.21213577]\n",
            "  Intercepto: 47.46047467219978\n"
          ]
        },
        {
          "output_type": "stream",
          "name": "stderr",
          "text": [
            "/tmp/ipython-input-3586071606.py:46: FutureWarning: 'AS' is deprecated and will be removed in a future version, please use 'YS' instead.\n",
            "  pmax24_annual_max = df_filtered['pmax24'].resample('AS').max()\n"
          ]
        },
        {
          "output_type": "stream",
          "name": "stdout",
          "text": [
            "  Scatter plot saved to /content/drive/My Drive/Clima_Jalisco/GRAFICOS_PMAX24/pmax24_trend_CIHUATLAN (SMN)_14174.png\n",
            "\n",
            "Processing station code: 14175\n",
            "  Coeficiente: [9.28503487]\n",
            "  Intercepto: 28.77804726883456\n"
          ]
        },
        {
          "output_type": "stream",
          "name": "stderr",
          "text": [
            "/tmp/ipython-input-3586071606.py:46: FutureWarning: 'AS' is deprecated and will be removed in a future version, please use 'YS' instead.\n",
            "  pmax24_annual_max = df_filtered['pmax24'].resample('AS').max()\n"
          ]
        },
        {
          "output_type": "stream",
          "name": "stdout",
          "text": [
            "  Scatter plot saved to /content/drive/My Drive/Clima_Jalisco/GRAFICOS_PMAX24/pmax24_trend_COLOTLAN (DGE)_14175.png\n",
            "\n",
            "Processing station code: 14176\n",
            "  Coeficiente: [10.40455426]\n",
            "  Intercepto: 32.64195893274021\n"
          ]
        },
        {
          "output_type": "stream",
          "name": "stderr",
          "text": [
            "/tmp/ipython-input-3586071606.py:46: FutureWarning: 'AS' is deprecated and will be removed in a future version, please use 'YS' instead.\n",
            "  pmax24_annual_max = df_filtered['pmax24'].resample('AS').max()\n"
          ]
        },
        {
          "output_type": "stream",
          "name": "stdout",
          "text": [
            "  Scatter plot saved to /content/drive/My Drive/Clima_Jalisco/GRAFICOS_PMAX24/pmax24_trend_HUEJUQUILLA EL ALTO (SMN)_14176.png\n",
            "\n",
            "Processing station code: 14177\n",
            "  Coeficiente: [23.31452897]\n",
            "  Intercepto: 41.2495557237916\n"
          ]
        },
        {
          "output_type": "stream",
          "name": "stderr",
          "text": [
            "/tmp/ipython-input-3586071606.py:46: FutureWarning: 'AS' is deprecated and will be removed in a future version, please use 'YS' instead.\n",
            "  pmax24_annual_max = df_filtered['pmax24'].resample('AS').max()\n"
          ]
        },
        {
          "output_type": "stream",
          "name": "stdout",
          "text": [
            "  Scatter plot saved to /content/drive/My Drive/Clima_Jalisco/GRAFICOS_PMAX24/pmax24_trend_LOS OLIVOS_14177.png\n",
            "\n",
            "Processing station code: 14178\n",
            "  Coeficiente: [17.9585313]\n",
            "  Intercepto: 38.26491705870606\n"
          ]
        },
        {
          "output_type": "stream",
          "name": "stderr",
          "text": [
            "/tmp/ipython-input-3586071606.py:46: FutureWarning: 'AS' is deprecated and will be removed in a future version, please use 'YS' instead.\n",
            "  pmax24_annual_max = df_filtered['pmax24'].resample('AS').max()\n"
          ]
        },
        {
          "output_type": "stream",
          "name": "stdout",
          "text": [
            "  Scatter plot saved to /content/drive/My Drive/Clima_Jalisco/GRAFICOS_PMAX24/pmax24_trend_MASCOTA (DGE)_14178.png\n",
            "\n",
            "Processing station code: 14179\n",
            "  Coeficiente: [26.53957573]\n",
            "  Intercepto: 31.72046872088071\n"
          ]
        },
        {
          "output_type": "stream",
          "name": "stderr",
          "text": [
            "/tmp/ipython-input-3586071606.py:46: FutureWarning: 'AS' is deprecated and will be removed in a future version, please use 'YS' instead.\n",
            "  pmax24_annual_max = df_filtered['pmax24'].resample('AS').max()\n"
          ]
        },
        {
          "output_type": "stream",
          "name": "stdout",
          "text": [
            "  Scatter plot saved to /content/drive/My Drive/Clima_Jalisco/GRAFICOS_PMAX24/pmax24_trend_OJUELOS DE JALISCO (DGE)_14179.png\n",
            "\n",
            "Processing station code: 14180\n",
            "  Coeficiente: [28.12311954]\n",
            "  Intercepto: 26.261500797727212\n"
          ]
        },
        {
          "output_type": "stream",
          "name": "stderr",
          "text": [
            "/tmp/ipython-input-3586071606.py:46: FutureWarning: 'AS' is deprecated and will be removed in a future version, please use 'YS' instead.\n",
            "  pmax24_annual_max = df_filtered['pmax24'].resample('AS').max()\n"
          ]
        },
        {
          "output_type": "stream",
          "name": "stdout",
          "text": [
            "  Scatter plot saved to /content/drive/My Drive/Clima_Jalisco/GRAFICOS_PMAX24/pmax24_trend_QUITUPAN_14180.png\n",
            "\n",
            "Processing station code: 14184\n",
            "  Coeficiente: [25.15568263]\n",
            "  Intercepto: 35.53681645297333\n"
          ]
        },
        {
          "output_type": "stream",
          "name": "stderr",
          "text": [
            "/tmp/ipython-input-3586071606.py:46: FutureWarning: 'AS' is deprecated and will be removed in a future version, please use 'YS' instead.\n",
            "  pmax24_annual_max = df_filtered['pmax24'].resample('AS').max()\n"
          ]
        },
        {
          "output_type": "stream",
          "name": "stdout",
          "text": [
            "  Scatter plot saved to /content/drive/My Drive/Clima_Jalisco/GRAFICOS_PMAX24/pmax24_trend_TAPALPA (DGE)_14184.png\n",
            "\n",
            "Processing station code: 14185\n",
            "  Coeficiente: [16.03502926]\n",
            "  Intercepto: 42.01442438670395\n"
          ]
        },
        {
          "output_type": "stream",
          "name": "stderr",
          "text": [
            "/tmp/ipython-input-3586071606.py:46: FutureWarning: 'AS' is deprecated and will be removed in a future version, please use 'YS' instead.\n",
            "  pmax24_annual_max = df_filtered['pmax24'].resample('AS').max()\n"
          ]
        },
        {
          "output_type": "stream",
          "name": "stdout",
          "text": [
            "  Scatter plot saved to /content/drive/My Drive/Clima_Jalisco/GRAFICOS_PMAX24/pmax24_trend_TECOLOTLAN (SMN)_14185.png\n",
            "\n",
            "Processing station code: 14186\n",
            "  Coeficiente: [8.78784958]\n",
            "  Intercepto: 33.094957671835665\n"
          ]
        },
        {
          "output_type": "stream",
          "name": "stderr",
          "text": [
            "/tmp/ipython-input-3586071606.py:46: FutureWarning: 'AS' is deprecated and will be removed in a future version, please use 'YS' instead.\n",
            "  pmax24_annual_max = df_filtered['pmax24'].resample('AS').max()\n"
          ]
        },
        {
          "output_type": "stream",
          "name": "stdout",
          "text": [
            "  Scatter plot saved to /content/drive/My Drive/Clima_Jalisco/GRAFICOS_PMAX24/pmax24_trend_TEOCALTICHE (SMN)_14186.png\n",
            "\n",
            "Processing station code: 14187\n",
            "  Coeficiente: [22.34177467]\n",
            "  Intercepto: 39.12930839836149\n"
          ]
        },
        {
          "output_type": "stream",
          "name": "stderr",
          "text": [
            "/tmp/ipython-input-3586071606.py:46: FutureWarning: 'AS' is deprecated and will be removed in a future version, please use 'YS' instead.\n",
            "  pmax24_annual_max = df_filtered['pmax24'].resample('AS').max()\n"
          ]
        },
        {
          "output_type": "stream",
          "name": "stdout",
          "text": [
            "  Scatter plot saved to /content/drive/My Drive/Clima_Jalisco/GRAFICOS_PMAX24/pmax24_trend_TEQUILA_14187.png\n",
            "\n",
            "Processing station code: 14188\n",
            "  Coeficiente: [10.09298098]\n",
            "  Intercepto: 38.6186042342043\n"
          ]
        },
        {
          "output_type": "stream",
          "name": "stderr",
          "text": [
            "/tmp/ipython-input-3586071606.py:46: FutureWarning: 'AS' is deprecated and will be removed in a future version, please use 'YS' instead.\n",
            "  pmax24_annual_max = df_filtered['pmax24'].resample('AS').max()\n"
          ]
        },
        {
          "output_type": "stream",
          "name": "stdout",
          "text": [
            "  Scatter plot saved to /content/drive/My Drive/Clima_Jalisco/GRAFICOS_PMAX24/pmax24_trend_TEUCHITLAN_14188.png\n",
            "\n",
            "Processing station code: 14189\n",
            "  Coeficiente: [27.56803256]\n",
            "  Intercepto: 34.77617391876776\n"
          ]
        },
        {
          "output_type": "stream",
          "name": "stderr",
          "text": [
            "/tmp/ipython-input-3586071606.py:46: FutureWarning: 'AS' is deprecated and will be removed in a future version, please use 'YS' instead.\n",
            "  pmax24_annual_max = df_filtered['pmax24'].resample('AS').max()\n"
          ]
        },
        {
          "output_type": "stream",
          "name": "stdout",
          "text": [
            "  Scatter plot saved to /content/drive/My Drive/Clima_Jalisco/GRAFICOS_PMAX24/pmax24_trend_TIZAPAN EL ALTO (DGE)_14189.png\n",
            "\n",
            "Processing station code: 14190\n",
            "  Coeficiente: [20.86365541]\n",
            "  Intercepto: 34.80048424701614\n"
          ]
        },
        {
          "output_type": "stream",
          "name": "stderr",
          "text": [
            "/tmp/ipython-input-3586071606.py:46: FutureWarning: 'AS' is deprecated and will be removed in a future version, please use 'YS' instead.\n",
            "  pmax24_annual_max = df_filtered['pmax24'].resample('AS').max()\n"
          ]
        },
        {
          "output_type": "stream",
          "name": "stdout",
          "text": [
            "  Scatter plot saved to /content/drive/My Drive/Clima_Jalisco/GRAFICOS_PMAX24/pmax24_trend_TOLIMAN (DGE)_14190.png\n",
            "\n",
            "Processing station code: 14191\n",
            "  Coeficiente: [39.43519369]\n",
            "  Intercepto: 26.421836807053133\n"
          ]
        },
        {
          "output_type": "stream",
          "name": "stderr",
          "text": [
            "/tmp/ipython-input-3586071606.py:46: FutureWarning: 'AS' is deprecated and will be removed in a future version, please use 'YS' instead.\n",
            "  pmax24_annual_max = df_filtered['pmax24'].resample('AS').max()\n"
          ]
        },
        {
          "output_type": "stream",
          "name": "stdout",
          "text": [
            "  Scatter plot saved to /content/drive/My Drive/Clima_Jalisco/GRAFICOS_PMAX24/pmax24_trend_VALLE DE JUAREZ (SMN)_14191.png\n",
            "\n",
            "Processing station code: 14195\n",
            "  Coeficiente: [17.05959578]\n",
            "  Intercepto: 42.336083466446055\n"
          ]
        },
        {
          "output_type": "stream",
          "name": "stderr",
          "text": [
            "/tmp/ipython-input-3586071606.py:46: FutureWarning: 'AS' is deprecated and will be removed in a future version, please use 'YS' instead.\n",
            "  pmax24_annual_max = df_filtered['pmax24'].resample('AS').max()\n"
          ]
        },
        {
          "output_type": "stream",
          "name": "stdout",
          "text": [
            "  Scatter plot saved to /content/drive/My Drive/Clima_Jalisco/GRAFICOS_PMAX24/pmax24_trend_ANTONIO ESCOBEDO (DGE)_14195.png\n",
            "\n",
            "Processing station code: 14197\n",
            "  Coeficiente: [22.49035342]\n",
            "  Intercepto: 36.69567748203933\n"
          ]
        },
        {
          "output_type": "stream",
          "name": "stderr",
          "text": [
            "/tmp/ipython-input-3586071606.py:46: FutureWarning: 'AS' is deprecated and will be removed in a future version, please use 'YS' instead.\n",
            "  pmax24_annual_max = df_filtered['pmax24'].resample('AS').max()\n"
          ]
        },
        {
          "output_type": "stream",
          "name": "stdout",
          "text": [
            "  Scatter plot saved to /content/drive/My Drive/Clima_Jalisco/GRAFICOS_PMAX24/pmax24_trend_PRESA TRIGOMIL_14197.png\n",
            "\n",
            "Processing station code: 14198\n",
            "  Coeficiente: [51.11427731]\n",
            "  Intercepto: 59.065685304846056\n"
          ]
        },
        {
          "output_type": "stream",
          "name": "stderr",
          "text": [
            "/tmp/ipython-input-3586071606.py:46: FutureWarning: 'AS' is deprecated and will be removed in a future version, please use 'YS' instead.\n",
            "  pmax24_annual_max = df_filtered['pmax24'].resample('AS').max()\n"
          ]
        },
        {
          "output_type": "stream",
          "name": "stdout",
          "text": [
            "  Scatter plot saved to /content/drive/My Drive/Clima_Jalisco/GRAFICOS_PMAX24/pmax24_trend_LAS COMPUERTAS_14198.png\n",
            "\n",
            "Processing station code: 14199\n",
            "  Coeficiente: [13.15706979]\n",
            "  Intercepto: 41.34613364594703\n"
          ]
        },
        {
          "output_type": "stream",
          "name": "stderr",
          "text": [
            "/tmp/ipython-input-3586071606.py:46: FutureWarning: 'AS' is deprecated and will be removed in a future version, please use 'YS' instead.\n",
            "  pmax24_annual_max = df_filtered['pmax24'].resample('AS').max()\n"
          ]
        },
        {
          "output_type": "stream",
          "name": "stdout",
          "text": [
            "  Scatter plot saved to /content/drive/My Drive/Clima_Jalisco/GRAFICOS_PMAX24/pmax24_trend_QUITZEO_14199.png\n",
            "\n",
            "Processing station code: 14200\n",
            "  Coeficiente: [11.93194068]\n",
            "  Intercepto: 46.227969451662275\n"
          ]
        },
        {
          "output_type": "stream",
          "name": "stderr",
          "text": [
            "/tmp/ipython-input-3586071606.py:46: FutureWarning: 'AS' is deprecated and will be removed in a future version, please use 'YS' instead.\n",
            "  pmax24_annual_max = df_filtered['pmax24'].resample('AS').max()\n"
          ]
        },
        {
          "output_type": "stream",
          "name": "stdout",
          "text": [
            "  Scatter plot saved to /content/drive/My Drive/Clima_Jalisco/GRAFICOS_PMAX24/pmax24_trend_NOMBRE    : TOLUQUILLA -CRAE-_14200.png\n",
            "\n",
            "Processing station code: 14202\n",
            "  Coeficiente: [12.2608818]\n",
            "  Intercepto: 41.26577567368129\n"
          ]
        },
        {
          "output_type": "stream",
          "name": "stderr",
          "text": [
            "/tmp/ipython-input-3586071606.py:46: FutureWarning: 'AS' is deprecated and will be removed in a future version, please use 'YS' instead.\n",
            "  pmax24_annual_max = df_filtered['pmax24'].resample('AS').max()\n"
          ]
        },
        {
          "output_type": "stream",
          "name": "stdout",
          "text": [
            "  Scatter plot saved to /content/drive/My Drive/Clima_Jalisco/GRAFICOS_PMAX24/pmax24_trend_MEDRANO_14202.png\n",
            "\n",
            "Processing station code: 14266\n",
            "  Coeficiente: [21.44633795]\n",
            "  Intercepto: 31.90378534642783\n"
          ]
        },
        {
          "output_type": "stream",
          "name": "stderr",
          "text": [
            "/tmp/ipython-input-3586071606.py:46: FutureWarning: 'AS' is deprecated and will be removed in a future version, please use 'YS' instead.\n",
            "  pmax24_annual_max = df_filtered['pmax24'].resample('AS').max()\n"
          ]
        },
        {
          "output_type": "stream",
          "name": "stdout",
          "text": [
            "  Scatter plot saved to /content/drive/My Drive/Clima_Jalisco/GRAFICOS_PMAX24/pmax24_trend_SAN GASPAR DE LOS REYES_14266.png\n",
            "\n",
            "Processing station code: 14269\n",
            "  Coeficiente: [14.48560581]\n",
            "  Intercepto: 39.50288557134644\n"
          ]
        },
        {
          "output_type": "stream",
          "name": "stderr",
          "text": [
            "/tmp/ipython-input-3586071606.py:46: FutureWarning: 'AS' is deprecated and will be removed in a future version, please use 'YS' instead.\n",
            "  pmax24_annual_max = df_filtered['pmax24'].resample('AS').max()\n"
          ]
        },
        {
          "output_type": "stream",
          "name": "stdout",
          "text": [
            "  Scatter plot saved to /content/drive/My Drive/Clima_Jalisco/GRAFICOS_PMAX24/pmax24_trend_AHUALULCO DE MERCADO (SMN)_14269.png\n",
            "\n",
            "Processing station code: 14271\n",
            "  Coeficiente: [36.10432779]\n",
            "  Intercepto: 81.10131660083752\n"
          ]
        },
        {
          "output_type": "stream",
          "name": "stderr",
          "text": [
            "/tmp/ipython-input-3586071606.py:46: FutureWarning: 'AS' is deprecated and will be removed in a future version, please use 'YS' instead.\n",
            "  pmax24_annual_max = df_filtered['pmax24'].resample('AS').max()\n"
          ]
        },
        {
          "output_type": "stream",
          "name": "stdout",
          "text": [
            "  Scatter plot saved to /content/drive/My Drive/Clima_Jalisco/GRAFICOS_PMAX24/pmax24_trend_LA CUMBRE DE GUADALUPE_14271.png\n",
            "\n",
            "Processing station code: 14294\n",
            "  Coeficiente: [18.86303552]\n",
            "  Intercepto: 31.48618682410043\n"
          ]
        },
        {
          "output_type": "stream",
          "name": "stderr",
          "text": [
            "/tmp/ipython-input-3586071606.py:46: FutureWarning: 'AS' is deprecated and will be removed in a future version, please use 'YS' instead.\n",
            "  pmax24_annual_max = df_filtered['pmax24'].resample('AS').max()\n"
          ]
        },
        {
          "output_type": "stream",
          "name": "stdout",
          "text": [
            "  Scatter plot saved to /content/drive/My Drive/Clima_Jalisco/GRAFICOS_PMAX24/pmax24_trend_TLAJOMULCO DE ZUÑIGA_14294.png\n",
            "\n",
            "Processing station code: 14296\n",
            "  Coeficiente: [50.64525219]\n",
            "  Intercepto: 51.208917219093244\n"
          ]
        },
        {
          "output_type": "stream",
          "name": "stderr",
          "text": [
            "/tmp/ipython-input-3586071606.py:46: FutureWarning: 'AS' is deprecated and will be removed in a future version, please use 'YS' instead.\n",
            "  pmax24_annual_max = df_filtered['pmax24'].resample('AS').max()\n"
          ]
        },
        {
          "output_type": "stream",
          "name": "stdout",
          "text": [
            "  Scatter plot saved to /content/drive/My Drive/Clima_Jalisco/GRAFICOS_PMAX24/pmax24_trend_CAMPO EXPERIMENTAL LA HUERTA_14296.png\n",
            "\n",
            "Processing station code: 14297\n",
            "  Coeficiente: [16.67909839]\n",
            "  Intercepto: 44.84995331021261\n"
          ]
        },
        {
          "output_type": "stream",
          "name": "stderr",
          "text": [
            "/tmp/ipython-input-3586071606.py:46: FutureWarning: 'AS' is deprecated and will be removed in a future version, please use 'YS' instead.\n",
            "  pmax24_annual_max = df_filtered['pmax24'].resample('AS').max()\n"
          ]
        },
        {
          "output_type": "stream",
          "name": "stdout",
          "text": [
            "  Scatter plot saved to /content/drive/My Drive/Clima_Jalisco/GRAFICOS_PMAX24/pmax24_trend_GUACHINANGO (SMN)_14297.png\n",
            "\n",
            "Processing station code: 14301\n",
            "  Coeficiente: [16.33976065]\n",
            "  Intercepto: 50.948786409069186\n"
          ]
        },
        {
          "output_type": "stream",
          "name": "stderr",
          "text": [
            "/tmp/ipython-input-3586071606.py:46: FutureWarning: 'AS' is deprecated and will be removed in a future version, please use 'YS' instead.\n",
            "  pmax24_annual_max = df_filtered['pmax24'].resample('AS').max()\n"
          ]
        },
        {
          "output_type": "stream",
          "name": "stdout",
          "text": [
            "  Scatter plot saved to /content/drive/My Drive/Clima_Jalisco/GRAFICOS_PMAX24/pmax24_trend_TENAMAXTLAN_14301.png\n",
            "\n",
            "Processing station code: 14304\n",
            "  Coeficiente: [9.80214039]\n",
            "  Intercepto: 29.31980675348303\n"
          ]
        },
        {
          "output_type": "stream",
          "name": "stderr",
          "text": [
            "/tmp/ipython-input-3586071606.py:46: FutureWarning: 'AS' is deprecated and will be removed in a future version, please use 'YS' instead.\n",
            "  pmax24_annual_max = df_filtered['pmax24'].resample('AS').max()\n"
          ]
        },
        {
          "output_type": "stream",
          "name": "stdout",
          "text": [
            "  Scatter plot saved to /content/drive/My Drive/Clima_Jalisco/GRAFICOS_PMAX24/pmax24_trend_LAGOS DE MORENO (SMN)_14304.png\n",
            "\n",
            "Processing station code: 14306\n",
            "  Coeficiente: [6.96680347]\n",
            "  Intercepto: 13.510631587994306\n"
          ]
        },
        {
          "output_type": "stream",
          "name": "stderr",
          "text": [
            "/tmp/ipython-input-3586071606.py:46: FutureWarning: 'AS' is deprecated and will be removed in a future version, please use 'YS' instead.\n",
            "  pmax24_annual_max = df_filtered['pmax24'].resample('AS').max()\n"
          ]
        },
        {
          "output_type": "stream",
          "name": "stdout",
          "text": [
            "  Scatter plot saved to /content/drive/My Drive/Clima_Jalisco/GRAFICOS_PMAX24/pmax24_trend_TENZOMPA_14306.png\n",
            "\n",
            "Processing station code: 14307\n",
            "  Coeficiente: [13.98870927]\n",
            "  Intercepto: 43.14174121795169\n"
          ]
        },
        {
          "output_type": "stream",
          "name": "stderr",
          "text": [
            "/tmp/ipython-input-3586071606.py:46: FutureWarning: 'AS' is deprecated and will be removed in a future version, please use 'YS' instead.\n",
            "  pmax24_annual_max = df_filtered['pmax24'].resample('AS').max()\n"
          ]
        },
        {
          "output_type": "stream",
          "name": "stdout",
          "text": [
            "  Scatter plot saved to /content/drive/My Drive/Clima_Jalisco/GRAFICOS_PMAX24/pmax24_trend_ACATIC (DGE)_14307.png\n",
            "\n",
            "Processing station code: 14308\n",
            "  Coeficiente: [9.88616459]\n",
            "  Intercepto: 39.60143123516643\n"
          ]
        },
        {
          "output_type": "stream",
          "name": "stderr",
          "text": [
            "/tmp/ipython-input-3586071606.py:46: FutureWarning: 'AS' is deprecated and will be removed in a future version, please use 'YS' instead.\n",
            "  pmax24_annual_max = df_filtered['pmax24'].resample('AS').max()\n"
          ]
        },
        {
          "output_type": "stream",
          "name": "stdout",
          "text": [
            "  Scatter plot saved to /content/drive/My Drive/Clima_Jalisco/GRAFICOS_PMAX24/pmax24_trend_ARANDAS_14308.png\n",
            "\n",
            "Processing station code: 14309\n",
            "  Coeficiente: [17.85596962]\n",
            "  Intercepto: 34.247740786305215\n"
          ]
        },
        {
          "output_type": "stream",
          "name": "stderr",
          "text": [
            "/tmp/ipython-input-3586071606.py:46: FutureWarning: 'AS' is deprecated and will be removed in a future version, please use 'YS' instead.\n",
            "  pmax24_annual_max = df_filtered['pmax24'].resample('AS').max()\n"
          ]
        },
        {
          "output_type": "stream",
          "name": "stdout",
          "text": [
            "  Scatter plot saved to /content/drive/My Drive/Clima_Jalisco/GRAFICOS_PMAX24/pmax24_trend_ATENGO (DGE)_14309.png\n",
            "\n",
            "Processing station code: 14310\n",
            "  Coeficiente: [18.91079844]\n",
            "  Intercepto: 31.062593870695164\n"
          ]
        },
        {
          "output_type": "stream",
          "name": "stderr",
          "text": [
            "/tmp/ipython-input-3586071606.py:46: FutureWarning: 'AS' is deprecated and will be removed in a future version, please use 'YS' instead.\n",
            "  pmax24_annual_max = df_filtered['pmax24'].resample('AS').max()\n"
          ]
        },
        {
          "output_type": "stream",
          "name": "stdout",
          "text": [
            "  Scatter plot saved to /content/drive/My Drive/Clima_Jalisco/GRAFICOS_PMAX24/pmax24_trend_AYUTLA_14310.png\n",
            "\n",
            "Processing station code: 14311\n",
            "  Coeficiente: [22.53289042]\n",
            "  Intercepto: 38.52376400274106\n"
          ]
        },
        {
          "output_type": "stream",
          "name": "stderr",
          "text": [
            "/tmp/ipython-input-3586071606.py:46: FutureWarning: 'AS' is deprecated and will be removed in a future version, please use 'YS' instead.\n",
            "  pmax24_annual_max = df_filtered['pmax24'].resample('AS').max()\n"
          ]
        },
        {
          "output_type": "stream",
          "name": "stdout",
          "text": [
            "  Scatter plot saved to /content/drive/My Drive/Clima_Jalisco/GRAFICOS_PMAX24/pmax24_trend_CANOAS_14311.png\n",
            "\n",
            "Processing station code: 14312\n",
            "  Coeficiente: [14.32920867]\n",
            "  Intercepto: 39.04623827262907\n"
          ]
        },
        {
          "output_type": "stream",
          "name": "stderr",
          "text": [
            "/tmp/ipython-input-3586071606.py:46: FutureWarning: 'AS' is deprecated and will be removed in a future version, please use 'YS' instead.\n",
            "  pmax24_annual_max = df_filtered['pmax24'].resample('AS').max()\n"
          ]
        },
        {
          "output_type": "stream",
          "name": "stdout",
          "text": [
            "  Scatter plot saved to /content/drive/My Drive/Clima_Jalisco/GRAFICOS_PMAX24/pmax24_trend_CUAUTLA_14312.png\n",
            "\n",
            "Processing station code: 14313\n",
            "  Coeficiente: [12.12237057]\n",
            "  Intercepto: 37.17641627662542\n"
          ]
        },
        {
          "output_type": "stream",
          "name": "stderr",
          "text": [
            "/tmp/ipython-input-3586071606.py:46: FutureWarning: 'AS' is deprecated and will be removed in a future version, please use 'YS' instead.\n",
            "  pmax24_annual_max = df_filtered['pmax24'].resample('AS').max()\n"
          ]
        },
        {
          "output_type": "stream",
          "name": "stdout",
          "text": [
            "  Scatter plot saved to /content/drive/My Drive/Clima_Jalisco/GRAFICOS_PMAX24/pmax24_trend_DEGOLLADO (DGE)_14313.png\n",
            "\n",
            "Processing station code: 14314\n",
            "  Coeficiente: [11.44001558]\n",
            "  Intercepto: 45.910945275443225\n"
          ]
        },
        {
          "output_type": "stream",
          "name": "stderr",
          "text": [
            "/tmp/ipython-input-3586071606.py:46: FutureWarning: 'AS' is deprecated and will be removed in a future version, please use 'YS' instead.\n",
            "  pmax24_annual_max = df_filtered['pmax24'].resample('AS').max()\n"
          ]
        },
        {
          "output_type": "stream",
          "name": "stdout",
          "text": [
            "  Scatter plot saved to /content/drive/My Drive/Clima_Jalisco/GRAFICOS_PMAX24/pmax24_trend_ETZATLAN (DGE)_14314.png\n",
            "\n",
            "Processing station code: 14315\n",
            "  Coeficiente: [20.3885206]\n",
            "  Intercepto: 35.82957670322021\n"
          ]
        },
        {
          "output_type": "stream",
          "name": "stderr",
          "text": [
            "/tmp/ipython-input-3586071606.py:46: FutureWarning: 'AS' is deprecated and will be removed in a future version, please use 'YS' instead.\n",
            "  pmax24_annual_max = df_filtered['pmax24'].resample('AS').max()\n"
          ]
        },
        {
          "output_type": "stream",
          "name": "stdout",
          "text": [
            "  Scatter plot saved to /content/drive/My Drive/Clima_Jalisco/GRAFICOS_PMAX24/pmax24_trend_GOMEZ FARIAS_14315.png\n",
            "\n",
            "Processing station code: 14316\n",
            "  Coeficiente: [13.36723179]\n",
            "  Intercepto: 46.63787525218011\n"
          ]
        },
        {
          "output_type": "stream",
          "name": "stderr",
          "text": [
            "/tmp/ipython-input-3586071606.py:46: FutureWarning: 'AS' is deprecated and will be removed in a future version, please use 'YS' instead.\n",
            "  pmax24_annual_max = df_filtered['pmax24'].resample('AS').max()\n"
          ]
        },
        {
          "output_type": "stream",
          "name": "stdout",
          "text": [
            "  Scatter plot saved to /content/drive/My Drive/Clima_Jalisco/GRAFICOS_PMAX24/pmax24_trend_GUACHINANGO (DGE)_14316.png\n",
            "\n",
            "Processing station code: 14317\n",
            "  Coeficiente: [22.92254275]\n",
            "  Intercepto: 39.4611125549932\n"
          ]
        },
        {
          "output_type": "stream",
          "name": "stderr",
          "text": [
            "/tmp/ipython-input-3586071606.py:46: FutureWarning: 'AS' is deprecated and will be removed in a future version, please use 'YS' instead.\n",
            "  pmax24_annual_max = df_filtered['pmax24'].resample('AS').max()\n"
          ]
        },
        {
          "output_type": "stream",
          "name": "stdout",
          "text": [
            "  Scatter plot saved to /content/drive/My Drive/Clima_Jalisco/GRAFICOS_PMAX24/pmax24_trend_MIXTLAN_14317.png\n",
            "\n",
            "Processing station code: 14319\n",
            "  Coeficiente: [15.05753955]\n",
            "  Intercepto: 41.687608253545974\n"
          ]
        },
        {
          "output_type": "stream",
          "name": "stderr",
          "text": [
            "/tmp/ipython-input-3586071606.py:46: FutureWarning: 'AS' is deprecated and will be removed in a future version, please use 'YS' instead.\n",
            "  pmax24_annual_max = df_filtered['pmax24'].resample('AS').max()\n"
          ]
        },
        {
          "output_type": "stream",
          "name": "stdout",
          "text": [
            "  Scatter plot saved to /content/drive/My Drive/Clima_Jalisco/GRAFICOS_PMAX24/pmax24_trend_SAN JUAN DE LOS POTREROS_14319.png\n",
            "\n",
            "Processing station code: 14320\n",
            "  Coeficiente: [12.68786695]\n",
            "  Intercepto: 36.67175825369731\n"
          ]
        },
        {
          "output_type": "stream",
          "name": "stderr",
          "text": [
            "/tmp/ipython-input-3586071606.py:46: FutureWarning: 'AS' is deprecated and will be removed in a future version, please use 'YS' instead.\n",
            "  pmax24_annual_max = df_filtered['pmax24'].resample('AS').max()\n"
          ]
        },
        {
          "output_type": "stream",
          "name": "stdout",
          "text": [
            "  Scatter plot saved to /content/drive/My Drive/Clima_Jalisco/GRAFICOS_PMAX24/pmax24_trend_LA SAUCEDA_14320.png\n",
            "\n",
            "Processing station code: 14322\n",
            "  Coeficiente: [28.5169463]\n",
            "  Intercepto: 38.95706737550168\n"
          ]
        },
        {
          "output_type": "stream",
          "name": "stderr",
          "text": [
            "/tmp/ipython-input-3586071606.py:46: FutureWarning: 'AS' is deprecated and will be removed in a future version, please use 'YS' instead.\n",
            "  pmax24_annual_max = df_filtered['pmax24'].resample('AS').max()\n"
          ]
        },
        {
          "output_type": "stream",
          "name": "stdout",
          "text": [
            "  Scatter plot saved to /content/drive/My Drive/Clima_Jalisco/GRAFICOS_PMAX24/pmax24_trend_TECALITLAN_14322.png\n",
            "\n",
            "Processing station code: 14323\n",
            "  Coeficiente: [16.68515828]\n",
            "  Intercepto: 28.919696092076226\n"
          ]
        },
        {
          "output_type": "stream",
          "name": "stderr",
          "text": [
            "/tmp/ipython-input-3586071606.py:46: FutureWarning: 'AS' is deprecated and will be removed in a future version, please use 'YS' instead.\n",
            "  pmax24_annual_max = df_filtered['pmax24'].resample('AS').max()\n"
          ]
        },
        {
          "output_type": "stream",
          "name": "stdout",
          "text": [
            "  Scatter plot saved to /content/drive/My Drive/Clima_Jalisco/GRAFICOS_PMAX24/pmax24_trend_TECHALUTA_14323.png\n",
            "\n",
            "Processing station code: 14324\n",
            "  Coeficiente: [20.69189257]\n",
            "  Intercepto: 31.02524271691502\n"
          ]
        },
        {
          "output_type": "stream",
          "name": "stderr",
          "text": [
            "/tmp/ipython-input-3586071606.py:46: FutureWarning: 'AS' is deprecated and will be removed in a future version, please use 'YS' instead.\n",
            "  pmax24_annual_max = df_filtered['pmax24'].resample('AS').max()\n"
          ]
        },
        {
          "output_type": "stream",
          "name": "stdout",
          "text": [
            "  Scatter plot saved to /content/drive/My Drive/Clima_Jalisco/GRAFICOS_PMAX24/pmax24_trend_TEMASTIAN_14324.png\n",
            "\n",
            "Processing station code: 14325\n",
            "  Coeficiente: [29.02410085]\n",
            "  Intercepto: 35.05059425596125\n"
          ]
        },
        {
          "output_type": "stream",
          "name": "stderr",
          "text": [
            "/tmp/ipython-input-3586071606.py:46: FutureWarning: 'AS' is deprecated and will be removed in a future version, please use 'YS' instead.\n",
            "  pmax24_annual_max = df_filtered['pmax24'].resample('AS').max()\n"
          ]
        },
        {
          "output_type": "stream",
          "name": "stdout",
          "text": [
            "  Scatter plot saved to /content/drive/My Drive/Clima_Jalisco/GRAFICOS_PMAX24/pmax24_trend_TONILA_14325.png\n",
            "\n",
            "Processing station code: 14326\n",
            "  Coeficiente: [22.3449004]\n",
            "  Intercepto: 36.659643474722\n"
          ]
        },
        {
          "output_type": "stream",
          "name": "stderr",
          "text": [
            "/tmp/ipython-input-3586071606.py:46: FutureWarning: 'AS' is deprecated and will be removed in a future version, please use 'YS' instead.\n",
            "  pmax24_annual_max = df_filtered['pmax24'].resample('AS').max()\n"
          ]
        },
        {
          "output_type": "stream",
          "name": "stdout",
          "text": [
            "  Scatter plot saved to /content/drive/My Drive/Clima_Jalisco/GRAFICOS_PMAX24/pmax24_trend_TOTUATE_14326.png\n",
            "\n",
            "Processing station code: 14327\n",
            "  Coeficiente: [9.31635013]\n",
            "  Intercepto: 31.20800902583243\n"
          ]
        },
        {
          "output_type": "stream",
          "name": "stderr",
          "text": [
            "/tmp/ipython-input-3586071606.py:46: FutureWarning: 'AS' is deprecated and will be removed in a future version, please use 'YS' instead.\n",
            "  pmax24_annual_max = df_filtered['pmax24'].resample('AS').max()\n"
          ]
        },
        {
          "output_type": "stream",
          "name": "stdout",
          "text": [
            "  Scatter plot saved to /content/drive/My Drive/Clima_Jalisco/GRAFICOS_PMAX24/pmax24_trend_SAN MARTIN DE BOLAÑOS_14327.png\n",
            "\n",
            "Processing station code: 14329\n",
            "  Coeficiente: [15.52231769]\n",
            "  Intercepto: 46.19956124289494\n"
          ]
        },
        {
          "output_type": "stream",
          "name": "stderr",
          "text": [
            "/tmp/ipython-input-3586071606.py:46: FutureWarning: 'AS' is deprecated and will be removed in a future version, please use 'YS' instead.\n",
            "  pmax24_annual_max = df_filtered['pmax24'].resample('AS').max()\n"
          ]
        },
        {
          "output_type": "stream",
          "name": "stdout",
          "text": [
            "  Scatter plot saved to /content/drive/My Drive/Clima_Jalisco/GRAFICOS_PMAX24/pmax24_trend_LA EXPERIENCIA_14329.png\n",
            "\n",
            "Processing station code: 14330\n",
            "  Coeficiente: [15.72724031]\n",
            "  Intercepto: 29.278550786724487\n"
          ]
        },
        {
          "output_type": "stream",
          "name": "stderr",
          "text": [
            "/tmp/ipython-input-3586071606.py:46: FutureWarning: 'AS' is deprecated and will be removed in a future version, please use 'YS' instead.\n",
            "  pmax24_annual_max = df_filtered['pmax24'].resample('AS').max()\n"
          ]
        },
        {
          "output_type": "stream",
          "name": "stdout",
          "text": [
            "  Scatter plot saved to /content/drive/My Drive/Clima_Jalisco/GRAFICOS_PMAX24/pmax24_trend_LOS SAUCES CHICOS_14330.png\n",
            "\n",
            "Processing station code: 14331\n",
            "  Coeficiente: [16.01538679]\n",
            "  Intercepto: 34.977710292690396\n"
          ]
        },
        {
          "output_type": "stream",
          "name": "stderr",
          "text": [
            "/tmp/ipython-input-3586071606.py:46: FutureWarning: 'AS' is deprecated and will be removed in a future version, please use 'YS' instead.\n",
            "  pmax24_annual_max = df_filtered['pmax24'].resample('AS').max()\n"
          ]
        },
        {
          "output_type": "stream",
          "name": "stdout",
          "text": [
            "  Scatter plot saved to /content/drive/My Drive/Clima_Jalisco/GRAFICOS_PMAX24/pmax24_trend_EL ZAPOTE_14331.png\n",
            "\n",
            "Processing station code: 14333\n",
            "  Coeficiente: [11.50665185]\n",
            "  Intercepto: 34.264804171335136\n"
          ]
        },
        {
          "output_type": "stream",
          "name": "stderr",
          "text": [
            "/tmp/ipython-input-3586071606.py:46: FutureWarning: 'AS' is deprecated and will be removed in a future version, please use 'YS' instead.\n",
            "  pmax24_annual_max = df_filtered['pmax24'].resample('AS').max()\n"
          ]
        },
        {
          "output_type": "stream",
          "name": "stdout",
          "text": [
            "  Scatter plot saved to /content/drive/My Drive/Clima_Jalisco/GRAFICOS_PMAX24/pmax24_trend_AHUALULCO DE MERCADO (DGE)_14333.png\n",
            "\n",
            "Processing station code: 14336\n",
            "  Coeficiente: [34.01690093]\n",
            "  Intercepto: 42.20361954488919\n"
          ]
        },
        {
          "output_type": "stream",
          "name": "stderr",
          "text": [
            "/tmp/ipython-input-3586071606.py:46: FutureWarning: 'AS' is deprecated and will be removed in a future version, please use 'YS' instead.\n",
            "  pmax24_annual_max = df_filtered['pmax24'].resample('AS').max()\n"
          ]
        },
        {
          "output_type": "stream",
          "name": "stdout",
          "text": [
            "  Scatter plot saved to /content/drive/My Drive/Clima_Jalisco/GRAFICOS_PMAX24/pmax24_trend_EL GUAYABO_14336.png\n",
            "\n",
            "Processing station code: 14337\n",
            "  Coeficiente: [15.70011512]\n",
            "  Intercepto: 39.500125390495135\n"
          ]
        },
        {
          "output_type": "stream",
          "name": "stderr",
          "text": [
            "/tmp/ipython-input-3586071606.py:46: FutureWarning: 'AS' is deprecated and will be removed in a future version, please use 'YS' instead.\n",
            "  pmax24_annual_max = df_filtered['pmax24'].resample('AS').max()\n"
          ]
        },
        {
          "output_type": "stream",
          "name": "stdout",
          "text": [
            "  Scatter plot saved to /content/drive/My Drive/Clima_Jalisco/GRAFICOS_PMAX24/pmax24_trend_APOZOL_14337.png\n",
            "\n",
            "Processing station code: 14338\n",
            "  Coeficiente: [16.54142861]\n",
            "  Intercepto: 37.13089789063209\n"
          ]
        },
        {
          "output_type": "stream",
          "name": "stderr",
          "text": [
            "/tmp/ipython-input-3586071606.py:46: FutureWarning: 'AS' is deprecated and will be removed in a future version, please use 'YS' instead.\n",
            "  pmax24_annual_max = df_filtered['pmax24'].resample('AS').max()\n"
          ]
        },
        {
          "output_type": "stream",
          "name": "stdout",
          "text": [
            "  Scatter plot saved to /content/drive/My Drive/Clima_Jalisco/GRAFICOS_PMAX24/pmax24_trend_EL ARENAL (DGE)_14338.png\n",
            "\n",
            "Processing station code: 14339\n",
            "  Coeficiente: [47.72476598]\n",
            "  Intercepto: 98.53475233942831\n"
          ]
        },
        {
          "output_type": "stream",
          "name": "stderr",
          "text": [
            "/tmp/ipython-input-3586071606.py:46: FutureWarning: 'AS' is deprecated and will be removed in a future version, please use 'YS' instead.\n",
            "  pmax24_annual_max = df_filtered['pmax24'].resample('AS').max()\n"
          ]
        },
        {
          "output_type": "stream",
          "name": "stdout",
          "text": [
            "  Scatter plot saved to /content/drive/My Drive/Clima_Jalisco/GRAFICOS_PMAX24/pmax24_trend_EL CUALE_14339.png\n",
            "\n",
            "Processing station code: 14343\n",
            "  Coeficiente: [21.17724536]\n",
            "  Intercepto: 42.624126737559635\n"
          ]
        },
        {
          "output_type": "stream",
          "name": "stderr",
          "text": [
            "/tmp/ipython-input-3586071606.py:46: FutureWarning: 'AS' is deprecated and will be removed in a future version, please use 'YS' instead.\n",
            "  pmax24_annual_max = df_filtered['pmax24'].resample('AS').max()\n"
          ]
        },
        {
          "output_type": "stream",
          "name": "stdout",
          "text": [
            "  Scatter plot saved to /content/drive/My Drive/Clima_Jalisco/GRAFICOS_PMAX24/pmax24_trend_PRESA BASILIO VADILLO_14343.png\n",
            "\n",
            "Processing station code: 14345\n",
            "  Coeficiente: [15.88309166]\n",
            "  Intercepto: 34.31572162013302\n"
          ]
        },
        {
          "output_type": "stream",
          "name": "stderr",
          "text": [
            "/tmp/ipython-input-3586071606.py:46: FutureWarning: 'AS' is deprecated and will be removed in a future version, please use 'YS' instead.\n",
            "  pmax24_annual_max = df_filtered['pmax24'].resample('AS').max()\n"
          ]
        },
        {
          "output_type": "stream",
          "name": "stdout",
          "text": [
            "  Scatter plot saved to /content/drive/My Drive/Clima_Jalisco/GRAFICOS_PMAX24/pmax24_trend_AHUETITA_14345.png\n",
            "\n",
            "Processing station code: 14346\n",
            "  Coeficiente: [11.78778336]\n",
            "  Intercepto: 31.359581467136323\n"
          ]
        },
        {
          "output_type": "stream",
          "name": "stderr",
          "text": [
            "/tmp/ipython-input-3586071606.py:46: FutureWarning: 'AS' is deprecated and will be removed in a future version, please use 'YS' instead.\n",
            "  pmax24_annual_max = df_filtered['pmax24'].resample('AS').max()\n"
          ]
        },
        {
          "output_type": "stream",
          "name": "stdout",
          "text": [
            "  Scatter plot saved to /content/drive/My Drive/Clima_Jalisco/GRAFICOS_PMAX24/pmax24_trend_BOCAS_14346.png\n",
            "\n",
            "Processing station code: 14347\n",
            "  Coeficiente: [12.71747844]\n",
            "  Intercepto: 36.78779874298522\n"
          ]
        },
        {
          "output_type": "stream",
          "name": "stderr",
          "text": [
            "/tmp/ipython-input-3586071606.py:46: FutureWarning: 'AS' is deprecated and will be removed in a future version, please use 'YS' instead.\n",
            "  pmax24_annual_max = df_filtered['pmax24'].resample('AS').max()\n"
          ]
        },
        {
          "output_type": "stream",
          "name": "stdout",
          "text": [
            "  Scatter plot saved to /content/drive/My Drive/Clima_Jalisco/GRAFICOS_PMAX24/pmax24_trend_JALISCO DEL REFUGIO_14347.png\n",
            "\n",
            "Processing station code: 14348\n",
            "  Coeficiente: [45.9302755]\n",
            "  Intercepto: 32.413842436222076\n"
          ]
        },
        {
          "output_type": "stream",
          "name": "stderr",
          "text": [
            "/tmp/ipython-input-3586071606.py:46: FutureWarning: 'AS' is deprecated and will be removed in a future version, please use 'YS' instead.\n",
            "  pmax24_annual_max = df_filtered['pmax24'].resample('AS').max()\n"
          ]
        },
        {
          "output_type": "stream",
          "name": "stdout",
          "text": [
            "  Scatter plot saved to /content/drive/My Drive/Clima_Jalisco/GRAFICOS_PMAX24/pmax24_trend_JILOTLAN_14348.png\n",
            "\n",
            "Processing station code: 14349\n",
            "  Coeficiente: [19.85218649]\n",
            "  Intercepto: 34.948483905581675\n"
          ]
        },
        {
          "output_type": "stream",
          "name": "stderr",
          "text": [
            "/tmp/ipython-input-3586071606.py:46: FutureWarning: 'AS' is deprecated and will be removed in a future version, please use 'YS' instead.\n",
            "  pmax24_annual_max = df_filtered['pmax24'].resample('AS').max()\n"
          ]
        },
        {
          "output_type": "stream",
          "name": "stdout",
          "text": [
            "  Scatter plot saved to /content/drive/My Drive/Clima_Jalisco/GRAFICOS_PMAX24/pmax24_trend_EL RODEO_14349.png\n",
            "\n",
            "Processing station code: 14350\n",
            "  Coeficiente: [25.13869523]\n",
            "  Intercepto: 47.95088889021232\n"
          ]
        },
        {
          "output_type": "stream",
          "name": "stderr",
          "text": [
            "/tmp/ipython-input-3586071606.py:46: FutureWarning: 'AS' is deprecated and will be removed in a future version, please use 'YS' instead.\n",
            "  pmax24_annual_max = df_filtered['pmax24'].resample('AS').max()\n"
          ]
        },
        {
          "output_type": "stream",
          "name": "stdout",
          "text": [
            "  Scatter plot saved to /content/drive/My Drive/Clima_Jalisco/GRAFICOS_PMAX24/pmax24_trend_EL ROSARIO_14350.png\n",
            "\n",
            "Processing station code: 14351\n",
            "  Coeficiente: [22.05415145]\n",
            "  Intercepto: 42.289646978416854\n"
          ]
        },
        {
          "output_type": "stream",
          "name": "stderr",
          "text": [
            "/tmp/ipython-input-3586071606.py:46: FutureWarning: 'AS' is deprecated and will be removed in a future version, please use 'YS' instead.\n",
            "  pmax24_annual_max = df_filtered['pmax24'].resample('AS').max()\n"
          ]
        },
        {
          "output_type": "stream",
          "name": "stdout",
          "text": [
            "  Scatter plot saved to /content/drive/My Drive/Clima_Jalisco/GRAFICOS_PMAX24/pmax24_trend_TALA_14351.png\n",
            "\n",
            "Processing station code: 14352\n",
            "  Coeficiente: [25.22979422]\n",
            "  Intercepto: 32.79239375008461\n"
          ]
        },
        {
          "output_type": "stream",
          "name": "stderr",
          "text": [
            "/tmp/ipython-input-3586071606.py:46: FutureWarning: 'AS' is deprecated and will be removed in a future version, please use 'YS' instead.\n",
            "  pmax24_annual_max = df_filtered['pmax24'].resample('AS').max()\n"
          ]
        },
        {
          "output_type": "stream",
          "name": "stdout",
          "text": [
            "  Scatter plot saved to /content/drive/My Drive/Clima_Jalisco/GRAFICOS_PMAX24/pmax24_trend_ZAPOTITLAN_14352.png\n",
            "\n",
            "Processing station code: 14355\n",
            "  Coeficiente: [16.76757731]\n",
            "  Intercepto: 43.16952694248789\n"
          ]
        },
        {
          "output_type": "stream",
          "name": "stderr",
          "text": [
            "/tmp/ipython-input-3586071606.py:46: FutureWarning: 'AS' is deprecated and will be removed in a future version, please use 'YS' instead.\n",
            "  pmax24_annual_max = df_filtered['pmax24'].resample('AS').max()\n"
          ]
        },
        {
          "output_type": "stream",
          "name": "stdout",
          "text": [
            "  Scatter plot saved to /content/drive/My Drive/Clima_Jalisco/GRAFICOS_PMAX24/pmax24_trend_LA BARCA_14355.png\n",
            "\n",
            "Processing station code: 14360\n",
            "  Coeficiente: [10.64471245]\n",
            "  Intercepto: 38.59603868684681\n"
          ]
        },
        {
          "output_type": "stream",
          "name": "stderr",
          "text": [
            "/tmp/ipython-input-3586071606.py:46: FutureWarning: 'AS' is deprecated and will be removed in a future version, please use 'YS' instead.\n",
            "  pmax24_annual_max = df_filtered['pmax24'].resample('AS').max()\n"
          ]
        },
        {
          "output_type": "stream",
          "name": "stdout",
          "text": [
            "  Scatter plot saved to /content/drive/My Drive/Clima_Jalisco/GRAFICOS_PMAX24/pmax24_trend_LAS LAGUNAS_14360.png\n",
            "\n",
            "Processing station code: 14362\n",
            "  Coeficiente: [12.30136808]\n",
            "  Intercepto: 44.340273725184275\n"
          ]
        },
        {
          "output_type": "stream",
          "name": "stderr",
          "text": [
            "/tmp/ipython-input-3586071606.py:46: FutureWarning: 'AS' is deprecated and will be removed in a future version, please use 'YS' instead.\n",
            "  pmax24_annual_max = df_filtered['pmax24'].resample('AS').max()\n"
          ]
        },
        {
          "output_type": "stream",
          "name": "stdout",
          "text": [
            "  Scatter plot saved to /content/drive/My Drive/Clima_Jalisco/GRAFICOS_PMAX24/pmax24_trend_SAN LUCAS EVANGELISTA_14362.png\n",
            "\n",
            "Processing station code: 14363\n",
            "  Coeficiente: [13.08256184]\n",
            "  Intercepto: 26.28204765091468\n"
          ]
        },
        {
          "output_type": "stream",
          "name": "stderr",
          "text": [
            "/tmp/ipython-input-3586071606.py:46: FutureWarning: 'AS' is deprecated and will be removed in a future version, please use 'YS' instead.\n",
            "  pmax24_annual_max = df_filtered['pmax24'].resample('AS').max()\n"
          ]
        },
        {
          "output_type": "stream",
          "name": "stdout",
          "text": [
            "  Scatter plot saved to /content/drive/My Drive/Clima_Jalisco/GRAFICOS_PMAX24/pmax24_trend_TACUBAYA_14363.png\n",
            "\n",
            "Processing station code: 14365\n",
            "  Coeficiente: [9.29464645]\n",
            "  Intercepto: 29.495494311869546\n"
          ]
        },
        {
          "output_type": "stream",
          "name": "stderr",
          "text": [
            "/tmp/ipython-input-3586071606.py:46: FutureWarning: 'AS' is deprecated and will be removed in a future version, please use 'YS' instead.\n",
            "  pmax24_annual_max = df_filtered['pmax24'].resample('AS').max()\n"
          ]
        },
        {
          "output_type": "stream",
          "name": "stdout",
          "text": [
            "  Scatter plot saved to /content/drive/My Drive/Clima_Jalisco/GRAFICOS_PMAX24/pmax24_trend_TEOCALTITAN DE GUADALUPE_14365.png\n",
            "\n",
            "Processing station code: 14367\n",
            "  Coeficiente: [18.11976309]\n",
            "  Intercepto: 35.83914908945272\n"
          ]
        },
        {
          "output_type": "stream",
          "name": "stderr",
          "text": [
            "/tmp/ipython-input-3586071606.py:46: FutureWarning: 'AS' is deprecated and will be removed in a future version, please use 'YS' instead.\n",
            "  pmax24_annual_max = df_filtered['pmax24'].resample('AS').max()\n"
          ]
        },
        {
          "output_type": "stream",
          "name": "stdout",
          "text": [
            "  Scatter plot saved to /content/drive/My Drive/Clima_Jalisco/GRAFICOS_PMAX24/pmax24_trend_TLACUITAPAN_14367.png\n",
            "\n",
            "Processing station code: 14368\n",
            "  Coeficiente: [23.91426722]\n",
            "  Intercepto: 27.080941079516812\n"
          ]
        },
        {
          "output_type": "stream",
          "name": "stderr",
          "text": [
            "/tmp/ipython-input-3586071606.py:46: FutureWarning: 'AS' is deprecated and will be removed in a future version, please use 'YS' instead.\n",
            "  pmax24_annual_max = df_filtered['pmax24'].resample('AS').max()\n"
          ]
        },
        {
          "output_type": "stream",
          "name": "stdout",
          "text": [
            "  Scatter plot saved to /content/drive/My Drive/Clima_Jalisco/GRAFICOS_PMAX24/pmax24_trend_USMAJAC_14368.png\n",
            "\n",
            "Processing station code: 14369\n",
            "  Coeficiente: [16.14570754]\n",
            "  Intercepto: 43.57048171711518\n"
          ]
        },
        {
          "output_type": "stream",
          "name": "stderr",
          "text": [
            "/tmp/ipython-input-3586071606.py:46: FutureWarning: 'AS' is deprecated and will be removed in a future version, please use 'YS' instead.\n",
            "  pmax24_annual_max = df_filtered['pmax24'].resample('AS').max()\n"
          ]
        },
        {
          "output_type": "stream",
          "name": "stdout",
          "text": [
            "  Scatter plot saved to /content/drive/My Drive/Clima_Jalisco/GRAFICOS_PMAX24/pmax24_trend_LA VAQUERA_14369.png\n",
            "\n",
            "Processing station code: 14373\n",
            "  Coeficiente: [14.19204752]\n",
            "  Intercepto: 39.413361636089554\n"
          ]
        },
        {
          "output_type": "stream",
          "name": "stderr",
          "text": [
            "/tmp/ipython-input-3586071606.py:46: FutureWarning: 'AS' is deprecated and will be removed in a future version, please use 'YS' instead.\n",
            "  pmax24_annual_max = df_filtered['pmax24'].resample('AS').max()\n"
          ]
        },
        {
          "output_type": "stream",
          "name": "stdout",
          "text": [
            "  Scatter plot saved to /content/drive/My Drive/Clima_Jalisco/GRAFICOS_PMAX24/pmax24_trend_AGUA PRIETA_14373.png\n",
            "\n",
            "Processing station code: 14379\n",
            "  Coeficiente: [17.60441561]\n",
            "  Intercepto: 45.577925481766535\n"
          ]
        },
        {
          "output_type": "stream",
          "name": "stderr",
          "text": [
            "/tmp/ipython-input-3586071606.py:46: FutureWarning: 'AS' is deprecated and will be removed in a future version, please use 'YS' instead.\n",
            "  pmax24_annual_max = df_filtered['pmax24'].resample('AS').max()\n"
          ]
        },
        {
          "output_type": "stream",
          "name": "stdout",
          "text": [
            "  Scatter plot saved to /content/drive/My Drive/Clima_Jalisco/GRAFICOS_PMAX24/pmax24_trend_MEZCALA_14379.png\n",
            "\n",
            "Processing station code: 14386\n",
            "  Coeficiente: [19.26561546]\n",
            "  Intercepto: 41.620023834638076\n"
          ]
        },
        {
          "output_type": "stream",
          "name": "stderr",
          "text": [
            "/tmp/ipython-input-3586071606.py:46: FutureWarning: 'AS' is deprecated and will be removed in a future version, please use 'YS' instead.\n",
            "  pmax24_annual_max = df_filtered['pmax24'].resample('AS').max()\n"
          ]
        },
        {
          "output_type": "stream",
          "name": "stdout",
          "text": [
            "  Scatter plot saved to /content/drive/My Drive/Clima_Jalisco/GRAFICOS_PMAX24/pmax24_trend_TONALA_14386.png\n",
            "\n",
            "Processing station code: 14387\n",
            "  Coeficiente: [23.22539894]\n",
            "  Intercepto: 45.50616219733895\n"
          ]
        },
        {
          "output_type": "stream",
          "name": "stderr",
          "text": [
            "/tmp/ipython-input-3586071606.py:46: FutureWarning: 'AS' is deprecated and will be removed in a future version, please use 'YS' instead.\n",
            "  pmax24_annual_max = df_filtered['pmax24'].resample('AS').max()\n"
          ]
        },
        {
          "output_type": "stream",
          "name": "stdout",
          "text": [
            "  Scatter plot saved to /content/drive/My Drive/Clima_Jalisco/GRAFICOS_PMAX24/pmax24_trend_TONAYA_14387.png\n",
            "\n",
            "Processing station code: 14388\n",
            "  Coeficiente: [11.87686256]\n",
            "  Intercepto: 41.08302374566528\n"
          ]
        },
        {
          "output_type": "stream",
          "name": "stderr",
          "text": [
            "/tmp/ipython-input-3586071606.py:46: FutureWarning: 'AS' is deprecated and will be removed in a future version, please use 'YS' instead.\n",
            "  pmax24_annual_max = df_filtered['pmax24'].resample('AS').max()\n"
          ]
        },
        {
          "output_type": "stream",
          "name": "stdout",
          "text": [
            "  Scatter plot saved to /content/drive/My Drive/Clima_Jalisco/GRAFICOS_PMAX24/pmax24_trend_ZAPOTLANEJO (DGE)_14388.png\n",
            "\n",
            "Processing station code: 14390\n",
            "  Coeficiente: [21.24999553]\n",
            "  Intercepto: 37.13434327586537\n"
          ]
        },
        {
          "output_type": "stream",
          "name": "stderr",
          "text": [
            "/tmp/ipython-input-3586071606.py:46: FutureWarning: 'AS' is deprecated and will be removed in a future version, please use 'YS' instead.\n",
            "  pmax24_annual_max = df_filtered['pmax24'].resample('AS').max()\n"
          ]
        },
        {
          "output_type": "stream",
          "name": "stdout",
          "text": [
            "  Scatter plot saved to /content/drive/My Drive/Clima_Jalisco/GRAFICOS_PMAX24/pmax24_trend_EL CORCOVADO_14390.png\n",
            "\n",
            "Processing station code: 14391\n",
            "  Coeficiente: [15.89533677]\n",
            "  Intercepto: 30.439531418114196\n"
          ]
        },
        {
          "output_type": "stream",
          "name": "stderr",
          "text": [
            "/tmp/ipython-input-3586071606.py:46: FutureWarning: 'AS' is deprecated and will be removed in a future version, please use 'YS' instead.\n",
            "  pmax24_annual_max = df_filtered['pmax24'].resample('AS').max()\n"
          ]
        },
        {
          "output_type": "stream",
          "name": "stdout",
          "text": [
            "  Scatter plot saved to /content/drive/My Drive/Clima_Jalisco/GRAFICOS_PMAX24/pmax24_trend_PRESA EL VOLANTIN_14391.png\n",
            "\n",
            "Processing station code: 14392\n",
            "  Coeficiente: [21.25524903]\n",
            "  Intercepto: 28.791526236216576\n"
          ]
        },
        {
          "output_type": "stream",
          "name": "stderr",
          "text": [
            "/tmp/ipython-input-3586071606.py:46: FutureWarning: 'AS' is deprecated and will be removed in a future version, please use 'YS' instead.\n",
            "  pmax24_annual_max = df_filtered['pmax24'].resample('AS').max()\n"
          ]
        },
        {
          "output_type": "stream",
          "name": "stdout",
          "text": [
            "  Scatter plot saved to /content/drive/My Drive/Clima_Jalisco/GRAFICOS_PMAX24/pmax24_trend_PASO DEL CUARENTA II_14392.png\n",
            "\n",
            "Processing station code: 14395\n",
            "  Coeficiente: [12.3463699]\n",
            "  Intercepto: 26.914884832231248\n"
          ]
        },
        {
          "output_type": "stream",
          "name": "stderr",
          "text": [
            "/tmp/ipython-input-3586071606.py:46: FutureWarning: 'AS' is deprecated and will be removed in a future version, please use 'YS' instead.\n",
            "  pmax24_annual_max = df_filtered['pmax24'].resample('AS').max()\n"
          ]
        },
        {
          "output_type": "stream",
          "name": "stdout",
          "text": [
            "  Scatter plot saved to /content/drive/My Drive/Clima_Jalisco/GRAFICOS_PMAX24/pmax24_trend_IXTLAHUACAN DE SANTIAGO_14395.png\n",
            "\n",
            "Processing station code: 14396\n",
            "  Coeficiente: [20.43703637]\n",
            "  Intercepto: 40.40748381779897\n"
          ]
        },
        {
          "output_type": "stream",
          "name": "stderr",
          "text": [
            "/tmp/ipython-input-3586071606.py:46: FutureWarning: 'AS' is deprecated and will be removed in a future version, please use 'YS' instead.\n",
            "  pmax24_annual_max = df_filtered['pmax24'].resample('AS').max()\n"
          ]
        },
        {
          "output_type": "stream",
          "name": "stdout",
          "text": [
            "  Scatter plot saved to /content/drive/My Drive/Clima_Jalisco/GRAFICOS_PMAX24/pmax24_trend_PIEDRA BARRENADA_14396.png\n",
            "\n",
            "Processing station code: 14397\n",
            "  Coeficiente: [15.0390228]\n",
            "  Intercepto: 42.60536989704897\n"
          ]
        },
        {
          "output_type": "stream",
          "name": "stderr",
          "text": [
            "/tmp/ipython-input-3586071606.py:46: FutureWarning: 'AS' is deprecated and will be removed in a future version, please use 'YS' instead.\n",
            "  pmax24_annual_max = df_filtered['pmax24'].resample('AS').max()\n"
          ]
        },
        {
          "output_type": "stream",
          "name": "stdout",
          "text": [
            "  Scatter plot saved to /content/drive/My Drive/Clima_Jalisco/GRAFICOS_PMAX24/pmax24_trend_PRESA CALDERON_14397.png\n",
            "\n",
            "Script finished.\n"
          ]
        }
      ]
    }
  ]
}