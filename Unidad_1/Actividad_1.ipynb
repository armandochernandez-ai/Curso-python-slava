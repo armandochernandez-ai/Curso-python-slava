{
  "nbformat": 4,
  "nbformat_minor": 0,
  "metadata": {
    "colab": {
      "provenance": [],
      "authorship_tag": "ABX9TyPcnZ9hVj1CjxAqXEA15psr",
      "include_colab_link": true
    },
    "kernelspec": {
      "name": "python3",
      "display_name": "Python 3"
    },
    "language_info": {
      "name": "python"
    }
  },
  "cells": [
    {
      "cell_type": "markdown",
      "metadata": {
        "id": "view-in-github",
        "colab_type": "text"
      },
      "source": [
        "<a href=\"https://colab.research.google.com/github/armandochernandez-ai/Curso-python-slava/blob/main/Unidad_1/Actividad_1.ipynb\" target=\"_parent\"><img src=\"https://colab.research.google.com/assets/colab-badge.svg\" alt=\"Open In Colab\"/></a>"
      ]
    },
    {
      "cell_type": "markdown",
      "source": [
        "# **Actividad_1.**\n",
        "# Armando Chávez Hernández.\n",
        "# Geografía CUCSH."
      ],
      "metadata": {
        "id": "VePtjb0rXqSF"
      }
    },
    {
      "cell_type": "code",
      "source": [
        "import datetime\n",
        "#Hora actual (tiempo universal coordinado, UTC) fecha\n",
        "now = datetime.datetime.now()\n",
        "print(f\"Fecha y hora inicio curso (UTC): {now.strftime('%Y-%m-%d %H:%M:%S')}\")"
      ],
      "metadata": {
        "colab": {
          "base_uri": "https://localhost:8080/"
        },
        "id": "giL6V7yMXrfe",
        "outputId": "ec3614fd-543f-4ac5-9db3-c8f5384c0d6b"
      },
      "execution_count": 4,
      "outputs": [
        {
          "output_type": "stream",
          "name": "stdout",
          "text": [
            "Fecha y hora inicio curso (UTC): 2025-09-11 01:41:24\n"
          ]
        }
      ]
    },
    {
      "cell_type": "markdown",
      "source": [
        "# Es importante este lenguaje de programación porque gracias a el se pueden hacer procesos complejos o laboriosos de manera automatizada"
      ],
      "metadata": {
        "id": "m3ShgLwFXxsS"
      }
    },
    {
      "cell_type": "code",
      "source": [
        "import sys\n",
        "import platform\n",
        "\n",
        "#versión de python\n",
        "print(f\"Versión: {sys.version}\")\n",
        "\n",
        "#Parametros del entorno de ejecución (algunas varables del entorno)\n",
        "print(\"\\nParametros del entorno de ejecución:\")\n",
        "print(f\"Sistema operativo: {platform.system}\")\n",
        "print(f\"Nombre del nodo: {platform.node}\")\n",
        "print(f\"Arquitectura: {platform.architecture}\")\n",
        "print(f\"Procesador: {platform.processor}\")"
      ],
      "metadata": {
        "colab": {
          "base_uri": "https://localhost:8080/"
        },
        "id": "7HiPmu9rX2Iw",
        "outputId": "dcc3c9c0-3188-423c-ff3c-aa7e4542fb02"
      },
      "execution_count": 5,
      "outputs": [
        {
          "output_type": "stream",
          "name": "stdout",
          "text": [
            "Versión: 3.12.11 (main, Jun  4 2025, 08:56:18) [GCC 11.4.0]\n",
            "\n",
            "Parametros del entorno de ejecución:\n",
            "Sistema operativo: <function system at 0x7fc917be6160>\n",
            "Nombre del nodo: <function node at 0x7fc917be6200>\n",
            "Arquitectura: <function architecture at 0x7fc917be5440>\n",
            "Procesador: <function processor at 0x7fc917be6480>\n"
          ]
        }
      ]
    }
  ]
}