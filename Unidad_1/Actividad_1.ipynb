{
  "nbformat": 4,
  "nbformat_minor": 0,
  "metadata": {
    "colab": {
      "provenance": [],
      "authorship_tag": "ABX9TyPcnZ9hVj1CjxAqXEA15psr",
      "include_colab_link": true
    },
    "kernelspec": {
      "name": "python3",
      "display_name": "Python 3"
    },
    "language_info": {
      "name": "python"
    }
  },
  "cells": [
    {
      "cell_type": "markdown",
      "metadata": {
        "id": "view-in-github",
        "colab_type": "text"
      },
      "source": [
        "<a href=\"https://colab.research.google.com/github/armandochernandez-ai/Curso-python-slava/blob/main/Unidad_1/Actividad_1.ipynb\" target=\"_parent\"><img src=\"https://colab.research.google.com/assets/colab-badge.svg\" alt=\"Open In Colab\"/></a>"
      ]
    },
    {
      "cell_type": "markdown",
      "source": [
        "# **Actividad_1.**\n",
        "# Armando Chávez Hernández.\n",
        "# Geografía CUCSH."
      ],
      "metadata": {
        "id": "VePtjb0rXqSF"
      }
    },
    {
      "cell_type": "code",
      "source": [
        "import datetime\n",
        "#Hora actual (tiempo universal coordinado, UTC) fecha\n",
        "now = datetime.datetime.now()\n",
        "print(f\"Fecha y hora inicio curso (UTC): {now.strftime('%Y-%m-%d %H:%M:%S')}\")"
      ],
      "metadata": {
        "colab": {
          "base_uri": "https://localhost:8080/"
        },
        "id": "giL6V7yMXrfe",
        "outputId": "44be6170-b8e5-4262-a054-134008933e02"
      },
      "execution_count": 2,
      "outputs": [
        {
          "output_type": "stream",
          "name": "stdout",
          "text": [
            "Fecha y hora inicio curso (UTC): 2025-09-11 01:23:36\n"
          ]
        }
      ]
    },
    {
      "cell_type": "markdown",
      "source": [
        "# Es importante este lenguaje de programación porque gracias a el se pueden hacer procesos complejos o laboriosos de manera automatizada"
      ],
      "metadata": {
        "id": "m3ShgLwFXxsS"
      }
    },
    {
      "cell_type": "code",
      "source": [
        "import sys\n",
        "import platform\n",
        "\n",
        "#versión de python\n",
        "print(f\"Versión: {sys.version}\")\n",
        "\n",
        "#Parametros del entorno de ejecución (algunas varables del entorno)\n",
        "print(\"\\nParametros del entorno de ejecución:\")\n",
        "print(f\"Sistema operativo: {platform.system}\")\n",
        "print(f\"Nombre del nodo: {platform.node}\")\n",
        "print(f\"Arquitectura: {platform.architecture}\")\n",
        "print(f\"Procesador: {platform.processor}\")"
      ],
      "metadata": {
        "colab": {
          "base_uri": "https://localhost:8080/"
        },
        "id": "7HiPmu9rX2Iw",
        "outputId": "36d42bfe-4961-4c79-9d9d-b76673633a63"
      },
      "execution_count": 3,
      "outputs": [
        {
          "output_type": "stream",
          "name": "stdout",
          "text": [
            "Versión: 3.12.11 (main, Jun  4 2025, 08:56:18) [GCC 11.4.0]\n",
            "\n",
            "Parametros del entorno de ejecución:\n",
            "Sistema operativo: <function system at 0x7fc917be6160>\n",
            "Nombre del nodo: <function node at 0x7fc917be6200>\n",
            "Arquitectura: <function architecture at 0x7fc917be5440>\n",
            "Procesador: <function processor at 0x7fc917be6480>\n"
          ]
        }
      ]
    }
  ]
}