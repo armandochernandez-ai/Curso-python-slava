{
  "nbformat": 4,
  "nbformat_minor": 0,
  "metadata": {
    "colab": {
      "provenance": [],
      "toc_visible": true,
      "authorship_tag": "ABX9TyP0GPQMLEoFedmj7xil1obt",
      "include_colab_link": true
    },
    "kernelspec": {
      "name": "python3",
      "display_name": "Python 3"
    },
    "language_info": {
      "name": "python"
    }
  },
  "cells": [
    {
      "cell_type": "markdown",
      "metadata": {
        "id": "view-in-github",
        "colab_type": "text"
      },
      "source": [
        "<a href=\"https://colab.research.google.com/github/armandochernandez-ai/Curso-python-slava/blob/main/Unidad_2/ChatBot.ipynb\" target=\"_parent\"><img src=\"https://colab.research.google.com/assets/colab-badge.svg\" alt=\"Open In Colab\"/></a>"
      ]
    },
    {
      "cell_type": "markdown",
      "source": [],
      "metadata": {
        "id": "0POtA8161MO-"
      }
    },
    {
      "cell_type": "markdown",
      "source": [
        "# **Actividad_3.**\n",
        "#Ejercicio ChatBot\n",
        "# Armando Chávez Hernández.\n",
        "# Geografía CUCSH."
      ],
      "metadata": {
        "id": "VePtjb0rXqSF"
      }
    },
    {
      "cell_type": "code",
      "source": [
        "\n",
        "print(\"¡Hola¡ soy tu ChatBot\")\n",
        "print()\n",
        "nombre = input(\"¿Como te llamas? \")\n",
        "print()\n",
        "print(\"¡Bienvenido \" + nombre + \"!\")\n",
        "print()\n",
        "print(\"Jugaremos a que yo descubra la edad de un personaje famoso\")\n",
        "print()\n",
        "while True:\n",
        "    respuesta = input(\"¿Te gustaría? (si/no): \").lower()\n",
        "    print()\n",
        "    if respuesta == \"si\":\n",
        "        print(\"¡Perfecto, iniciemos \" + nombre + \"!\")\n",
        "        print()\n",
        "        break\n",
        "    elif respuesta == \"no\":\n",
        "        print(\"Lo lamento. ¡Hasta luego!\")\n",
        "        sys.exit()\n",
        "    else:\n",
        "        print(\"Respuesta no válida. Por favor responde 'si' o 'no'.\")\n",
        "        print()\n",
        "\n",
        "#gustas = input(\"¿Te gustaria?\")\n",
        "#print(\"¡Perfecto, iniciemos \" + nombre + \"!\")\n",
        "\n",
        "#Proceso\n",
        "residuo3 = int(input(\"1. ¿Cuál es el residuo de dividir su edad entre 3? \"))\n",
        "print()\n",
        "residuo5 = int(input(\"2. ¿Cuál es el residuo de dividir su edad entre 5? \"))\n",
        "print()\n",
        "residuo7 = int(input(\"3. ¿Cuál es el residuo de dividir su edad entre 7? \"))\n",
        "print()\n",
        "\n",
        "\n",
        "#Resultado\n",
        "edad = str((residuo3 * 70 + residuo5 * 21 + residuo7 * 15) % 105)\n",
        "print(\"Creo que la edad de tu personaje es: \" + edad + \" años\")"
      ],
      "metadata": {
        "id": "ouPBHeavOknQ",
        "colab": {
          "base_uri": "https://localhost:8080/",
          "height": 414
        },
        "outputId": "005ba6c3-f8e0-46bc-98c0-644fc7e48b97"
      },
      "execution_count": 5,
      "outputs": [
        {
          "output_type": "stream",
          "name": "stdout",
          "text": [
            "¡Hola¡ soy tu ChatBot\n",
            "\n",
            "¿Como te llamas? a\n",
            "\n",
            "¡Bienvenido a!\n",
            "\n",
            "Jugaremos a que yo descubra la edad de un personaje famoso\n",
            "\n",
            "¿Te gustaría? (si/no): n\n",
            "\n",
            "Respuesta no válida. Por favor responde 'si' o 'no'.\n",
            "\n",
            "¿Te gustaría? (si/no): no\n",
            "\n",
            "Lo lamento. ¡Hasta luego!\n"
          ]
        },
        {
          "output_type": "error",
          "ename": "SystemExit",
          "evalue": "",
          "traceback": [
            "An exception has occurred, use %tb to see the full traceback.\n",
            "\u001b[0;31mSystemExit\u001b[0m\n"
          ]
        },
        {
          "output_type": "stream",
          "name": "stderr",
          "text": [
            "/usr/local/lib/python3.12/dist-packages/IPython/core/interactiveshell.py:3561: UserWarning: To exit: use 'exit', 'quit', or Ctrl-D.\n",
            "  warn(\"To exit: use 'exit', 'quit', or Ctrl-D.\", stacklevel=1)\n"
          ]
        }
      ]
    }
  ]
}