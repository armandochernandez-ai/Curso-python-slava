{
  "nbformat": 4,
  "nbformat_minor": 0,
  "metadata": {
    "colab": {
      "provenance": [],
      "toc_visible": true,
      "include_colab_link": true
    },
    "kernelspec": {
      "name": "python3",
      "display_name": "Python 3"
    },
    "language_info": {
      "name": "python"
    }
  },
  "cells": [
    {
      "cell_type": "markdown",
      "metadata": {
        "id": "view-in-github",
        "colab_type": "text"
      },
      "source": [
        "<a href=\"https://colab.research.google.com/github/armandochernandez-ai/Curso-python-slava/blob/main/Unidad_2/ChatBot.ipynb\" target=\"_parent\"><img src=\"https://colab.research.google.com/assets/colab-badge.svg\" alt=\"Open In Colab\"/></a>"
      ]
    },
    {
      "cell_type": "markdown",
      "source": [
        "# **Actividad_3.**\n",
        "#Ejercicio ChatBot\n",
        "# Armando Chávez Hernández.\n",
        "# Geografía CUCSH."
      ],
      "metadata": {
        "id": "VePtjb0rXqSF"
      }
    },
    {
      "cell_type": "code",
      "source": [
        "\n",
        "print(\"¡Hola morrito¡ soy tu ChatBot\")\n",
        "print()\n",
        "nombre = input(\"¿Como te llamas? \")\n",
        "print()\n",
        "print(\"¡Bienvenido \" + nombre + \"!\")\n",
        "print()\n",
        "print(\"Jugaremos a que yo descubra la edad de un personaje famoso\")\n",
        "print()\n",
        "while True:\n",
        "    respuesta = input(\"¿Te gustaría? (si/no): \").lower()\n",
        "    print()\n",
        "    if respuesta == \"si\":\n",
        "        print(\"¡Perfecto, iniciemos \" + nombre + \"!\")\n",
        "        print()\n",
        "        break\n",
        "    elif respuesta == \"no\":\n",
        "        print(\"Lo lamento. ¡Hasta luego!\")\n",
        "        sys.exit()\n",
        "    else:\n",
        "        print(\"Respuesta no válida. Por favor responde 'si' o 'no'.\")\n",
        "        print()\n",
        "\n",
        "#gustas = input(\"¿Te gustaria?\")\n",
        "#print(\"¡Perfecto, iniciemos \" + nombre + \"!\")\n",
        "\n",
        "#Proceso\n",
        "residuo3 = input(\"1. ¿Cuál es el residuo de dividir su edad entre 3? \")\n",
        "print()\n",
        "residuo5 = input(\"2. ¿Cuál es el residuo de dividir su edad entre 5? \")\n",
        "print()\n",
        "residuo7 = input(\"3. ¿Cuál es el residuo de dividir su edad entre 7? \")\n",
        "print()\n",
        "residuo3 = int(residuo3)\n",
        "residuo5 = int(residuo5)\n",
        "residuo7 = int(residuo7)\n",
        "print()\n",
        "#Resultado\n",
        "edad = str((residuo3 * 70 + residuo5 * 21 + residuo7 * 15) % 105)\n",
        "print(\"Creo que la edad de tu personaje es: \" + edad + \" años\")"
      ],
      "metadata": {
        "id": "ouPBHeavOknQ",
        "colab": {
          "base_uri": "https://localhost:8080/"
        },
        "outputId": "80737cee-6140-483f-88a8-08b07457b49a"
      },
      "execution_count": null,
      "outputs": [
        {
          "output_type": "stream",
          "name": "stdout",
          "text": [
            "¡Hola¡ soy tu ChatBot\n",
            "\n",
            "¿Como te llamas? Armando\n",
            "\n",
            "¡Bienvenido Armando!\n",
            "\n",
            "Jugaremos a que yo descubra la edad de un personaje famoso\n",
            "\n",
            "¿Te gustaría? (si/no): si\n",
            "\n",
            "¡Perfecto, iniciemos Armando!\n",
            "\n",
            "1. ¿Cuál es el residuo de dividir su edad entre 3? 0\n",
            "\n",
            "2. ¿Cuál es el residuo de dividir su edad entre 5? 6\n",
            "\n",
            "3. ¿Cuál es el residuo de dividir su edad entre 7? 0\n",
            "\n",
            "\n",
            "Creo que la edad de tu personaje es: 21 años\n"
          ]
        }
      ]
    },
    {
      "cell_type": "code",
      "source": [
        "print(\"¡Hola morrito¡ soy tu ChatBot\")\n",
        "print()\n",
        "nombre = input(\"¿Como te llamas? \")\n",
        "print()\n",
        "print(\"¡Bienvenido \" + nombre + \"!\")\n",
        "print()\n",
        "print(\"Vamos a realizar un ejercicio de preguntas y respuestas\")\n",
        "print()\n",
        "\n",
        "print(\"¿Como se llama la montaña más alta de Jalisco?\")\n",
        "print(\"1. Cerro Viejo\")\n",
        "print(\"2. Volcán Tequila\")\n",
        "print(\"3. Nevado de Colima \")\n",
        "print(\"4. Volcán de Fuego \")\n",
        "print()\n",
        "while True:\n",
        "  respuesta = input(\"Elige un número: \")\n",
        "  print()\n",
        "  if respuesta == \"3\":\n",
        "    print(\"Perfecto. ¡Felicidades \" + nombre + \"!\")\n",
        "    print(\"¡Te espero en el siguiente ejercicio!\")\n",
        "    print()\n",
        "    break\n",
        "  else:\n",
        "    print(\"Respuesta no válida. Vuelve a intentar.\")\n",
        "    print()"
      ],
      "metadata": {
        "colab": {
          "base_uri": "https://localhost:8080/"
        },
        "id": "dDeN82h2xX3T",
        "outputId": "0685abde-4540-488c-d984-95714da6a145"
      },
      "execution_count": 1,
      "outputs": [
        {
          "output_type": "stream",
          "name": "stdout",
          "text": [
            "¡Hola¡ soy tu ChatBot\n",
            "\n",
            "¿Como te llamas? Armando\n",
            "\n",
            "¡Bienvenido Armando!\n",
            "\n",
            "Vamos a realizar un ejercicio de preguntas y respuestas\n",
            "\n",
            "¿Como se llama la montaña más alta de Jalisco?\n",
            "1. Cerro Viejo\n",
            "2. Volcán Tequila\n",
            "3. Nevado de Colima \n",
            "4. Volcán de Fuego \n",
            "\n",
            "Elige un número: 3\n",
            "\n",
            "Perfecto. ¡Felicidades Armando!\n",
            "¡Te espero en el siguiente ejercicio!\n",
            "\n"
          ]
        }
      ]
    }
  ]
}