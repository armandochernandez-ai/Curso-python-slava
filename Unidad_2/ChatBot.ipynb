{
  "nbformat": 4,
  "nbformat_minor": 0,
  "metadata": {
    "colab": {
      "provenance": [],
      "toc_visible": true,
      "include_colab_link": true
    },
    "kernelspec": {
      "name": "python3",
      "display_name": "Python 3"
    },
    "language_info": {
      "name": "python"
    }
  },
  "cells": [
    {
      "cell_type": "markdown",
      "metadata": {
        "id": "view-in-github",
        "colab_type": "text"
      },
      "source": [
        "<a href=\"https://colab.research.google.com/github/armandochernandez-ai/Curso-python-slava/blob/main/Unidad_2/ChatBot.ipynb\" target=\"_parent\"><img src=\"https://colab.research.google.com/assets/colab-badge.svg\" alt=\"Open In Colab\"/></a>"
      ]
    },
    {
      "cell_type": "markdown",
      "source": [
        "# **Actividad_3.**\n",
        "#Ejercicio ChatBot\n",
        "# Armando Chávez Hernández.\n",
        "# Geografía CUCSH."
      ],
      "metadata": {
        "id": "VePtjb0rXqSF"
      }
    },
    {
      "cell_type": "code",
      "source": [
        "\n",
        "print(\"¡Hola morrito¡ soy tu ChatBot\")\n",
        "print()\n",
        "nombre = input(\"¿Como te llamas? \")\n",
        "print()\n",
        "print(\"¡Bienvenido \" + nombre + \"!\")\n",
        "print()\n",
        "print(\"Jugaremos a que yo descubra la edad de un personaje famoso\")\n",
        "print()\n",
        "while True:\n",
        "    respuesta = input(\"¿Te gustaría? (si/no): \").lower()\n",
        "    print()\n",
        "    if respuesta == \"si\":\n",
        "        print(\"¡Perfecto, iniciemos \" + nombre + \"!\")\n",
        "        print()\n",
        "        break\n",
        "    elif respuesta == \"no\":\n",
        "        print(\"Lo lamento. ¡Hasta luego!\")\n",
        "        sys.exit()\n",
        "    else:\n",
        "        print(\"Respuesta no válida. Por favor responde 'si' o 'no'.\")\n",
        "        print()\n",
        "\n",
        "#gustas = input(\"¿Te gustaria?\")\n",
        "#print(\"¡Perfecto, iniciemos \" + nombre + \"!\")\n",
        "\n",
        "#Proceso\n",
        "residuo3 = input(\"1. ¿Cuál es el residuo de dividir su edad entre 3? \")\n",
        "print()\n",
        "residuo5 = input(\"2. ¿Cuál es el residuo de dividir su edad entre 5? \")\n",
        "print()\n",
        "residuo7 = input(\"3. ¿Cuál es el residuo de dividir su edad entre 7? \")\n",
        "print()\n",
        "residuo3 = int(residuo3)\n",
        "residuo5 = int(residuo5)\n",
        "residuo7 = int(residuo7)\n",
        "print()\n",
        "#Resultado\n",
        "edad = str((residuo3 * 70 + residuo5 * 21 + residuo7 * 15) % 105)\n",
        "print(\"Creo que la edad de tu personaje es: \" + edad + \" años\")"
      ],
      "metadata": {
        "id": "ouPBHeavOknQ",
        "colab": {
          "base_uri": "https://localhost:8080/"
        },
        "outputId": "80737cee-6140-483f-88a8-08b07457b49a"
      },
      "execution_count": null,
      "outputs": [
        {
          "output_type": "stream",
          "name": "stdout",
          "text": [
            "¡Hola¡ soy tu ChatBot\n",
            "\n",
            "¿Como te llamas? Armando\n",
            "\n",
            "¡Bienvenido Armando!\n",
            "\n",
            "Jugaremos a que yo descubra la edad de un personaje famoso\n",
            "\n",
            "¿Te gustaría? (si/no): si\n",
            "\n",
            "¡Perfecto, iniciemos Armando!\n",
            "\n",
            "1. ¿Cuál es el residuo de dividir su edad entre 3? 0\n",
            "\n",
            "2. ¿Cuál es el residuo de dividir su edad entre 5? 6\n",
            "\n",
            "3. ¿Cuál es el residuo de dividir su edad entre 7? 0\n",
            "\n",
            "\n",
            "Creo que la edad de tu personaje es: 21 años\n"
          ]
        }
      ]
    },
    {
      "cell_type": "code",
      "source": [
        "print(\"¡Hola morrito¡ soy tu ChatBot\")\n",
        "print()\n",
        "nombre = input(\"¿Como te llamas? \")\n",
        "print()\n",
        "print(\"¡Bienvenido \" + nombre + \"!\")\n",
        "print()\n",
        "print(\"Vamos a realizar un ejercicio de preguntas y respuestas\")\n",
        "print()\n",
        "\n",
        "print(\"¿Como se llama la montaña más alta de Jalisco?\")\n",
        "print(\"1. Cerro Viejo\")\n",
        "print(\"2. Volcán Tequila\")\n",
        "print(\"3. Nevado de Colima \")\n",
        "print(\"4. Volcán de Fuego \")\n",
        "print()\n",
        "while True:\n",
        "  respuesta = input(\"Elige un número: \")\n",
        "  print()\n",
        "  if respuesta == \"3\":\n",
        "    print(\"Perfecto. ¡Felicidades \" + nombre + \"!\")\n",
        "    print(\"¡Te espero en el siguiente ejercicio!\")\n",
        "    print()\n",
        "    break\n",
        "  else:\n",
        "    print(\"Respuesta no válida. Vuelve a intentar.\")\n",
        "    print()"
      ],
      "metadata": {
        "colab": {
          "base_uri": "https://localhost:8080/"
        },
        "id": "dDeN82h2xX3T",
        "outputId": "0685abde-4540-488c-d984-95714da6a145"
      },
      "execution_count": null,
      "outputs": [
        {
          "output_type": "stream",
          "name": "stdout",
          "text": [
            "¡Hola¡ soy tu ChatBot\n",
            "\n",
            "¿Como te llamas? Armando\n",
            "\n",
            "¡Bienvenido Armando!\n",
            "\n",
            "Vamos a realizar un ejercicio de preguntas y respuestas\n",
            "\n",
            "¿Como se llama la montaña más alta de Jalisco?\n",
            "1. Cerro Viejo\n",
            "2. Volcán Tequila\n",
            "3. Nevado de Colima \n",
            "4. Volcán de Fuego \n",
            "\n",
            "Elige un número: 3\n",
            "\n",
            "Perfecto. ¡Felicidades Armando!\n",
            "¡Te espero en el siguiente ejercicio!\n",
            "\n"
          ]
        }
      ]
    },
    {
      "cell_type": "code",
      "source": [
        "#ChatBot recargado preparación\n",
        "\n",
        "#%pip install gensim intalación de libreria\n",
        "\n",
        "#Se llaman bibliotecas de gesim para trabajar\n",
        "import re\n",
        "import nltk\n",
        "import numpy as np\n",
        "\n",
        "from gensim.models import Word2Vec\n",
        "from sklearn.metrics.pairwise import cosine_similarity\n",
        "\n",
        "#Carga de base de datos de nltk\n",
        "nltk.download('punkt')\n",
        "nltk.download('punkt_tab')\n",
        "nltk.download('stopwords')\n",
        "\n",
        "from nltk.corpus import stopwords\n",
        "\n",
        "#Cargamos palabras en español para trabajo\n",
        "spanish_sw = set(stopwords.words('spanish'))\n",
        "#print(spanish_sw)\n",
        "\n",
        "from google.colab import drive\n",
        "drive.mount('/content/drive')#Proceso para conectar drive para trabajar, usar datos y guardar diferentes productos\n",
        "\n",
        "ruta = \"/content/drive/MyDrive/Colab Data/\"\n",
        "archivo = \"frases_celebres_seleccion.txt\"\n",
        "with open(ruta + archivo, 'r', errors =\"ignore\") as f:\n",
        "  texto=f.read()\n",
        "  #print(texto)\n",
        "\n",
        "  # convertir texto plano a lista de frases\n",
        "onlysent_tokens = nltk.sent_tokenize(texto)\n",
        "# reemplazar simbolos de nueva linea ocn espacios\n",
        "onlysent_tokens = [sentence.replace('\\n', ' ') for sentence in onlysent_tokens]\n",
        "\n",
        "# generar una copia de texto con en lowercase\n",
        "texto_lc = texto.lower()\n",
        "# convertir texto a lista de palabras\n",
        "word_tokens = nltk.word_tokenize(texto_lc)\n",
        "\n",
        "print(\"\\nNúmero de frases célebres en la base de datos:\")\n",
        "print(len(onlysent_tokens))\n",
        "\n",
        "print(\"\\nEjemplo de frases celebres:\")\n",
        "print(onlysent_tokens[0:3])\n",
        "\n",
        "print(\"\\nNúmero de palabras en la base de datos de frases célebres:\")\n",
        "print(len(word_tokens))"
      ],
      "metadata": {
        "id": "Fi1Rp2Sz_weu",
        "colab": {
          "base_uri": "https://localhost:8080/"
        },
        "collapsed": true,
        "outputId": "8b7e484d-f086-4b54-e117-c1dfd0b795cf"
      },
      "execution_count": 13,
      "outputs": [
        {
          "output_type": "stream",
          "name": "stderr",
          "text": [
            "[nltk_data] Downloading package punkt to /root/nltk_data...\n",
            "[nltk_data]   Package punkt is already up-to-date!\n",
            "[nltk_data] Downloading package punkt_tab to /root/nltk_data...\n",
            "[nltk_data]   Package punkt_tab is already up-to-date!\n",
            "[nltk_data] Downloading package stopwords to /root/nltk_data...\n",
            "[nltk_data]   Package stopwords is already up-to-date!\n"
          ]
        },
        {
          "output_type": "stream",
          "name": "stdout",
          "text": [
            "Drive already mounted at /content/drive; to attempt to forcibly remount, call drive.mount(\"/content/drive\", force_remount=True).\n",
            "\n",
            "Número de frases célebres en la base de datos:\n",
            "862\n",
            "\n",
            "Ejemplo de frases celebres:\n",
            "['\\ufeffA buen hambre, no hay pan duro.', 'A caballo regalado no le mires el diente.', 'A Dios rogando y con el mazo dando.']\n",
            "\n",
            "Número de palabras en la base de datos de frases célebres:\n",
            "10001\n"
          ]
        }
      ]
    },
    {
      "cell_type": "code",
      "source": [
        "# Preprocesar texto para generar el modelo Word2Vec\n",
        "\n",
        "# quitar los simbolos de puntuación\n",
        "# convertir palabras a letras minusculas\n",
        "# y separar frases en listas de palabras\n",
        "corpus_sentences = [re.sub(r'[^\\w\\s]', '', sentence.lower()).split() for sentence in onlysent_tokens]\n",
        "\n",
        "#print(type(corpus_sentences))\n",
        "#print(len(corpus_sentences))\n",
        "#print(corpus_sentences[0:3])\n",
        "\n",
        "# funcion para eliminar stopwords\n",
        "def remove_stopwords(sentence_words, sw):\n",
        "  filtered_words = [word for word in sentence_words if word not in sw]\n",
        "  return filtered_words\n",
        "\n",
        "# eliminar stopwords de la base de datos de frases célebres\n",
        "filtered_sentences = []\n",
        "for sentence in corpus_sentences:\n",
        "  filtered_sentence = remove_stopwords(sentence, spanish_sw)\n",
        "  filtered_sentences.append(filtered_sentence)\n",
        "\n",
        "#print(type(filtered_sentences))\n",
        "#print(len(filtered_sentences))\n",
        "#print(filtered_sentences[0:3])"
      ],
      "metadata": {
        "id": "o3lFrGRgE18l"
      },
      "execution_count": 14,
      "outputs": []
    },
    {
      "cell_type": "code",
      "source": [
        "# Entrenar el modelo Word2Vec\n",
        "model = Word2Vec(min_count=1,\n",
        "                     window=6,\n",
        "                     vector_size=300,\n",
        "                     sample=6e-5,\n",
        "                     alpha=0.03,\n",
        "                     min_alpha=0.0007,\n",
        "                     negative=20,\n",
        "                     workers=4)\n",
        "\n",
        "model.build_vocab(filtered_sentences, progress_per=1000)\n",
        "model.train(filtered_sentences, total_examples=model.corpus_count, epochs=30, report_delay=1)\n",
        "\n",
        "# Entrenar el modelo Word2Vec (form simplificada)\n",
        "#model = Word2Vec(sentences=filtered_sentences, vector_size=100, window=5, min_count=1, workers=4)\n",
        "\n",
        "print(\"\\nCaracteristicas del modelo Word2Vec\")\n",
        "print(model)"
      ],
      "metadata": {
        "colab": {
          "base_uri": "https://localhost:8080/"
        },
        "id": "BJ9XX47KFNQj",
        "outputId": "5a3f7de1-c4ce-47e9-fb66-b620d0285464"
      },
      "execution_count": 15,
      "outputs": [
        {
          "output_type": "stream",
          "name": "stdout",
          "text": [
            "\n",
            "Caracteristicas del modelo Word2Vec\n",
            "Word2Vec<vocab=1942, vector_size=300, alpha=0.03>\n"
          ]
        }
      ]
    },
    {
      "cell_type": "code",
      "source": [
        "#ChatBot recargado!!!\n",
        "print(\"¡Hola morrito¡ soy tu ChatBot\")\n",
        "print()\n",
        "nombre = input(\"¿Como te llamas? \")\n",
        "print()\n",
        "print(\"¡Bienvenido \" + nombre + \"!\")\n",
        "print()\n",
        "user_input = str(input(nombre + \", introduce tu pregunta o algo que te gustaría discutir: \"))\n",
        "\n",
        "# Funcion para construir el vector de una frase\n",
        "def get_sentence_vector(words, model):\n",
        "    # determinar el vector de cada palabra en la frase en forma de lista\n",
        "    word_vectors = [model.wv[word] for word in words if word in model.wv]\n",
        "    # en caso que vector es vacio generar el vector de ceros y regresarlo\n",
        "    if not word_vectors:\n",
        "        return np.zeros(model.vector_size)\n",
        "    # en caso que vector no es vacio generar un promedio y regresarlo\n",
        "    return np.mean(word_vectors, axis=0)\n",
        "\n",
        "# Procesar la pregunta del usuario para construir su vector\n",
        "user_words = re.sub(r'[^\\w\\s]', '', user_input.lower()).split()\n",
        "filtered_user_input = remove_stopwords(user_words, spanish_sw)\n",
        "user_input_vector = get_sentence_vector(filtered_user_input, model)\n",
        "print()\n",
        "print(\"Pregunta de \" + nombre + \": \" + str(user_input))\n",
        "#print(\"Pregunta del ususrio filtrada: \" + str(filtered_user_input))\n",
        "#print(\"Vector del modelo:\")\n",
        "#print(user_input_vector)\n",
        "print()\n",
        "# Encontrar la frase mas cercana por el signiicado entre frases célebres\n",
        "most_similar_sentence = \"\"\n",
        "max_similarity = -1\n",
        "print()\n",
        "for i, sentence in enumerate(filtered_sentences):\n",
        "    sentence_vector = get_sentence_vector(sentence, model)\n",
        "    if np.linalg.norm(user_input_vector) != 0 and np.linalg.norm(sentence_vector) != 0:\n",
        "        similarity = cosine_similarity([user_input_vector], [sentence_vector])[0][0]\n",
        "        if similarity > max_similarity:\n",
        "            max_similarity = similarity\n",
        "            most_similar_sentence = onlysent_tokens[i]\n",
        "\n",
        "\n",
        "if not most_similar_sentence:\n",
        "  print(nombre + \", lamento, pero no tengo nada que responder en esta ocasión\")\n",
        "else:\n",
        "  print(\"La respuesta es: \" + most_similar_sentence)\n",
        "print()\n",
        "\n",
        "print('Hasta la vista baby, ' + nombre + '!')"
      ],
      "metadata": {
        "colab": {
          "base_uri": "https://localhost:8080/"
        },
        "id": "0bSdCEvFFOoK",
        "outputId": "a92bf1b3-a0e0-4fa6-a2d9-79dd59233018"
      },
      "execution_count": 23,
      "outputs": [
        {
          "output_type": "stream",
          "name": "stdout",
          "text": [
            "¡Hola morrito¡ soy tu ChatBot\n",
            "\n",
            "¿Como te llamas? Armando\n",
            "\n",
            "¡Bienvenido Armando!\n",
            "\n",
            "Armando, introduce tu pregunta o algo que te gustaría discutir: el regalo del señor no es bueno\n",
            "\n",
            "Pregunta de Armando: el regalo del señor no es bueno\n",
            "\n",
            "\n",
            "La respuesta es: El hombre es bueno por naturaleza, es la sociedad quien lo corrompe.\n",
            "\n",
            "Hasta la vista baby, Armando!\n"
          ]
        }
      ]
    }
  ]
}