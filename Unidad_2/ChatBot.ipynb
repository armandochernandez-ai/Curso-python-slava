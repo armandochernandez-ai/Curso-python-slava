{
  "nbformat": 4,
  "nbformat_minor": 0,
  "metadata": {
    "colab": {
      "provenance": [],
      "toc_visible": true,
      "include_colab_link": true
    },
    "kernelspec": {
      "name": "python3",
      "display_name": "Python 3"
    },
    "language_info": {
      "name": "python"
    }
  },
  "cells": [
    {
      "cell_type": "markdown",
      "metadata": {
        "id": "view-in-github",
        "colab_type": "text"
      },
      "source": [
        "<a href=\"https://colab.research.google.com/github/armandochernandez-ai/Curso-python-slava/blob/main/Unidad_2/ChatBot.ipynb\" target=\"_parent\"><img src=\"https://colab.research.google.com/assets/colab-badge.svg\" alt=\"Open In Colab\"/></a>"
      ]
    },
    {
      "cell_type": "markdown",
      "source": [
        "# **Actividad_3.**\n",
        "#Ejercicio ChatBot\n",
        "# Armando Chávez Hernández.\n",
        "# Geografía CUCSH."
      ],
      "metadata": {
        "id": "VePtjb0rXqSF"
      }
    },
    {
      "cell_type": "code",
      "source": [
        "\n",
        "print(\"¡Hola¡ soy tu ChatBot\")\n",
        "print()\n",
        "nombre = input(\"¿Como te llamas? \")\n",
        "print()\n",
        "print(\"¡Bienvenido \" + nombre + \"!\")\n",
        "print()\n",
        "print(\"Jugaremos a que yo descubra la edad de un personaje famoso\")\n",
        "print()\n",
        "while True:\n",
        "    respuesta = input(\"¿Te gustaría? (si/no): \").lower()\n",
        "    print()\n",
        "    if respuesta == \"si\":\n",
        "        print(\"¡Perfecto, iniciemos \" + nombre + \"!\")\n",
        "        print()\n",
        "        break\n",
        "    elif respuesta == \"no\":\n",
        "        print(\"Lo lamento. ¡Hasta luego!\")\n",
        "        sys.exit()\n",
        "    else:\n",
        "        print(\"Respuesta no válida. Por favor responde 'si' o 'no'.\")\n",
        "        print()\n",
        "\n",
        "#gustas = input(\"¿Te gustaria?\")\n",
        "#print(\"¡Perfecto, iniciemos \" + nombre + \"!\")\n",
        "\n",
        "#Proceso\n",
        "residuo3 = int(input(\"1. ¿Cuál es el residuo de dividir su edad entre 3? \"))\n",
        "print()\n",
        "residuo5 = int(input(\"2. ¿Cuál es el residuo de dividir su edad entre 5? \"))\n",
        "print()\n",
        "residuo7 = int(input(\"3. ¿Cuál es el residuo de dividir su edad entre 7? \"))\n",
        "print()\n",
        "\n",
        "\n",
        "#Resultado\n",
        "edad = str((residuo3 * 70 + residuo5 * 21 + residuo7 * 15) % 105)\n",
        "print(\"Creo que la edad de tu personaje es: \" + edad + \" años\")"
      ],
      "metadata": {
        "id": "ouPBHeavOknQ",
        "colab": {
          "base_uri": "https://localhost:8080/",
          "height": 597
        },
        "outputId": "7534da99-3efe-4d03-cb13-5e9b76418571"
      },
      "execution_count": 22,
      "outputs": [
        {
          "output_type": "stream",
          "name": "stdout",
          "text": [
            "¡Hola¡ soy tu ChatBot\n",
            "\n",
            "¿Como te llamas? Armando\n",
            "\n",
            "¡Bienvenido Armando!\n",
            "\n",
            "Jugaremos a que yo descubra la edad de un personaje famoso\n",
            "\n",
            "¿Te gustaría? (si/no): si\n",
            "\n",
            "¡Perfecto, iniciemos Armando!\n",
            "\n"
          ]
        },
        {
          "output_type": "error",
          "ename": "KeyboardInterrupt",
          "evalue": "Interrupted by user",
          "traceback": [
            "\u001b[0;31m---------------------------------------------------------------------------\u001b[0m",
            "\u001b[0;31mKeyboardInterrupt\u001b[0m                         Traceback (most recent call last)",
            "\u001b[0;32m/tmp/ipython-input-2338026256.py\u001b[0m in \u001b[0;36m<cell line: 0>\u001b[0;34m()\u001b[0m\n\u001b[1;32m     25\u001b[0m \u001b[0;34m\u001b[0m\u001b[0m\n\u001b[1;32m     26\u001b[0m \u001b[0;31m#Proceso\u001b[0m\u001b[0;34m\u001b[0m\u001b[0;34m\u001b[0m\u001b[0m\n\u001b[0;32m---> 27\u001b[0;31m \u001b[0mresiduo3\u001b[0m \u001b[0;34m=\u001b[0m \u001b[0mint\u001b[0m\u001b[0;34m(\u001b[0m\u001b[0minput\u001b[0m\u001b[0;34m(\u001b[0m\u001b[0;34m\"1. ¿Cuál es el residuo de dividir su edad entre 3? \"\u001b[0m\u001b[0;34m)\u001b[0m\u001b[0;34m)\u001b[0m\u001b[0;34m\u001b[0m\u001b[0;34m\u001b[0m\u001b[0m\n\u001b[0m\u001b[1;32m     28\u001b[0m \u001b[0mprint\u001b[0m\u001b[0;34m(\u001b[0m\u001b[0;34m)\u001b[0m\u001b[0;34m\u001b[0m\u001b[0;34m\u001b[0m\u001b[0m\n\u001b[1;32m     29\u001b[0m \u001b[0mresiduo5\u001b[0m \u001b[0;34m=\u001b[0m \u001b[0mint\u001b[0m\u001b[0;34m(\u001b[0m\u001b[0minput\u001b[0m\u001b[0;34m(\u001b[0m\u001b[0;34m\"2. ¿Cuál es el residuo de dividir su edad entre 5? \"\u001b[0m\u001b[0;34m)\u001b[0m\u001b[0;34m)\u001b[0m\u001b[0;34m\u001b[0m\u001b[0;34m\u001b[0m\u001b[0m\n",
            "\u001b[0;32m/usr/local/lib/python3.12/dist-packages/ipykernel/kernelbase.py\u001b[0m in \u001b[0;36mraw_input\u001b[0;34m(self, prompt)\u001b[0m\n\u001b[1;32m   1175\u001b[0m                 \u001b[0;34m\"raw_input was called, but this frontend does not support input requests.\"\u001b[0m\u001b[0;34m\u001b[0m\u001b[0;34m\u001b[0m\u001b[0m\n\u001b[1;32m   1176\u001b[0m             )\n\u001b[0;32m-> 1177\u001b[0;31m         return self._input_request(\n\u001b[0m\u001b[1;32m   1178\u001b[0m             \u001b[0mstr\u001b[0m\u001b[0;34m(\u001b[0m\u001b[0mprompt\u001b[0m\u001b[0;34m)\u001b[0m\u001b[0;34m,\u001b[0m\u001b[0;34m\u001b[0m\u001b[0;34m\u001b[0m\u001b[0m\n\u001b[1;32m   1179\u001b[0m             \u001b[0mself\u001b[0m\u001b[0;34m.\u001b[0m\u001b[0m_parent_ident\u001b[0m\u001b[0;34m[\u001b[0m\u001b[0;34m\"shell\"\u001b[0m\u001b[0;34m]\u001b[0m\u001b[0;34m,\u001b[0m\u001b[0;34m\u001b[0m\u001b[0;34m\u001b[0m\u001b[0m\n",
            "\u001b[0;32m/usr/local/lib/python3.12/dist-packages/ipykernel/kernelbase.py\u001b[0m in \u001b[0;36m_input_request\u001b[0;34m(self, prompt, ident, parent, password)\u001b[0m\n\u001b[1;32m   1217\u001b[0m             \u001b[0;32mexcept\u001b[0m \u001b[0mKeyboardInterrupt\u001b[0m\u001b[0;34m:\u001b[0m\u001b[0;34m\u001b[0m\u001b[0;34m\u001b[0m\u001b[0m\n\u001b[1;32m   1218\u001b[0m                 \u001b[0;31m# re-raise KeyboardInterrupt, to truncate traceback\u001b[0m\u001b[0;34m\u001b[0m\u001b[0;34m\u001b[0m\u001b[0m\n\u001b[0;32m-> 1219\u001b[0;31m                 \u001b[0;32mraise\u001b[0m \u001b[0mKeyboardInterrupt\u001b[0m\u001b[0;34m(\u001b[0m\u001b[0;34m\"Interrupted by user\"\u001b[0m\u001b[0;34m)\u001b[0m \u001b[0;32mfrom\u001b[0m \u001b[0;32mNone\u001b[0m\u001b[0;34m\u001b[0m\u001b[0;34m\u001b[0m\u001b[0m\n\u001b[0m\u001b[1;32m   1220\u001b[0m             \u001b[0;32mexcept\u001b[0m \u001b[0mException\u001b[0m\u001b[0;34m:\u001b[0m\u001b[0;34m\u001b[0m\u001b[0;34m\u001b[0m\u001b[0m\n\u001b[1;32m   1221\u001b[0m                 \u001b[0mself\u001b[0m\u001b[0;34m.\u001b[0m\u001b[0mlog\u001b[0m\u001b[0;34m.\u001b[0m\u001b[0mwarning\u001b[0m\u001b[0;34m(\u001b[0m\u001b[0;34m\"Invalid Message:\"\u001b[0m\u001b[0;34m,\u001b[0m \u001b[0mexc_info\u001b[0m\u001b[0;34m=\u001b[0m\u001b[0;32mTrue\u001b[0m\u001b[0;34m)\u001b[0m\u001b[0;34m\u001b[0m\u001b[0;34m\u001b[0m\u001b[0m\n",
            "\u001b[0;31mKeyboardInterrupt\u001b[0m: Interrupted by user"
          ]
        }
      ]
    },
    {
      "cell_type": "code",
      "source": [
        "print(\"¡Hola¡ soy tu ChatBot\")\n",
        "print()\n",
        "nombre = input(\"¿Como te llamas? \")\n",
        "print()\n",
        "print(\"¡Bienvenido \" + nombre + \"!\")\n",
        "print()\n",
        "print(\"Vamos a realizar un ejercicio de preguntas y respuestas\")\n",
        "print()\n",
        "\n",
        "print(\"¿Como se llama la montaña más alta de Jalisco?\")\n",
        "print(\"1. Cerro Viejo\")\n",
        "print(\"2. Volcán Tequila\")\n",
        "print(\"3. Nevado de Colima \")\n",
        "print(\"4. Volcán de Fuego \")\n",
        "print()\n",
        "while True:\n",
        "  respuesta = input(\"Elige un número: \")\n",
        "  print()\n",
        "  if respuesta == \"3\":\n",
        "    print(\"Perfecto. ¡Felicidades \" + nombre + \"!\")\n",
        "    print()\n",
        "    break\n",
        "  else:\n",
        "    print(\"Respuesta no válida. Vuelve a intentar.\")\n",
        "    print()"
      ],
      "metadata": {
        "colab": {
          "base_uri": "https://localhost:8080/"
        },
        "id": "dDeN82h2xX3T",
        "outputId": "2fb92131-b04e-4995-bde8-7b250973b01e"
      },
      "execution_count": 23,
      "outputs": [
        {
          "output_type": "stream",
          "name": "stdout",
          "text": [
            "¡Hola¡ soy tu ChatBot\n",
            "\n",
            "¿Como te llamas? Armando\n",
            "\n",
            "¡Bienvenido Armando!\n",
            "\n",
            "Vamos a realizar un ejercicio de preguntas y respuestas\n",
            "\n",
            "¿Como se llama la montaña más alta de Jalisco?\n",
            "1. Cerro Viejo\n",
            "2. Volcán Tequila\n",
            "3. Nevado de Colima \n",
            "4. Volcán de Fuego \n",
            "\n",
            "Elige un número: 1\n",
            "\n",
            "Respuesta no válida. Vuelve a intentar.\n",
            "\n",
            "Elige un número: 4\n",
            "\n",
            "Respuesta no válida. Vuelve a intentar.\n",
            "\n",
            "Elige un número: 3\n",
            "\n",
            "Perfecto. ¡Felicidades Armando!\n",
            "\n"
          ]
        }
      ]
    }
  ]
}