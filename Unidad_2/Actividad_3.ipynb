{
  "nbformat": 4,
  "nbformat_minor": 0,
  "metadata": {
    "colab": {
      "provenance": [],
      "authorship_tag": "ABX9TyNC4CVc+hPkh4SKzVgMZ76K",
      "include_colab_link": true
    },
    "kernelspec": {
      "name": "python3",
      "display_name": "Python 3"
    },
    "language_info": {
      "name": "python"
    }
  },
  "cells": [
    {
      "cell_type": "markdown",
      "metadata": {
        "id": "view-in-github",
        "colab_type": "text"
      },
      "source": [
        "<a href=\"https://colab.research.google.com/github/armandochernandez-ai/Curso-python-slava/blob/main/Unidad_2/Actividad_3.ipynb\" target=\"_parent\"><img src=\"https://colab.research.google.com/assets/colab-badge.svg\" alt=\"Open In Colab\"/></a>"
      ]
    },
    {
      "cell_type": "markdown",
      "source": [],
      "metadata": {
        "id": "zyu-_wSzTK8S"
      }
    },
    {
      "cell_type": "markdown",
      "source": [
        "# **Actividad_3.**\n",
        "# Armando Chávez Hernández.\n",
        "# Geografía CUCSH."
      ],
      "metadata": {
        "id": "VePtjb0rXqSF"
      }
    },
    {
      "cell_type": "code",
      "execution_count": 20,
      "metadata": {
        "colab": {
          "base_uri": "https://localhost:8080/"
        },
        "id": "VlR0memOTJGs",
        "outputId": "9635da4c-5ac3-4ac6-8ac3-49c16df03fdd"
      },
      "outputs": [
        {
          "output_type": "stream",
          "name": "stdout",
          "text": [
            "¿Nombre completo? Armando Chávez\n",
            "BienvenidoArmando Chávez\n",
            "Jugaremos a descubrir tu edad\n"
          ]
        }
      ],
      "source": [
        "nombre = input(\"¿Nombre completo? \")\n",
        "print(\"Bienvenido \" + nombre)\n",
        "print(\"Jugaremos a descubrir tu edad\")\n",
        "\n",
        "horas = 83\n",
        "dias = horas //24\n",
        "horas_residuo = horas % 24\n",
        "print(f\"{horas}\")\n",
        "\n",
        "numero = Int(edad)\n",
        "if > 18:\n",
        "  print(\"Es adulto\")\n",
        "elif < 18:\n",
        "  print(\"Esmenor de edad\")\n",
        "\n"
      ]
    }
  ]
}