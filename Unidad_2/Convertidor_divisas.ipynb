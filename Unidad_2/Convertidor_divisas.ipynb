{
  "nbformat": 4,
  "nbformat_minor": 0,
  "metadata": {
    "colab": {
      "provenance": [],
      "toc_visible": true,
      "authorship_tag": "ABX9TyNmTBg2aGSWAdyc4ogoVAov",
      "include_colab_link": true
    },
    "kernelspec": {
      "name": "python3",
      "display_name": "Python 3"
    },
    "language_info": {
      "name": "python"
    }
  },
  "cells": [
    {
      "cell_type": "markdown",
      "metadata": {
        "id": "view-in-github",
        "colab_type": "text"
      },
      "source": [
        "<a href=\"https://colab.research.google.com/github/armandochernandez-ai/Curso-python-slava/blob/main/Unidad_2/Convertidor_divisas.ipynb\" target=\"_parent\"><img src=\"https://colab.research.google.com/assets/colab-badge.svg\" alt=\"Open In Colab\"/></a>"
      ]
    },
    {
      "cell_type": "markdown",
      "source": [
        "# **Actividad_4.**\n",
        "#Ejercicio Convertidor de divisas\n",
        "# Armando Chávez Hernández.\n",
        "# Geografía CUCSH."
      ],
      "metadata": {
        "id": "VePtjb0rXqSF"
      }
    },
    {
      "cell_type": "markdown",
      "source": [
        "**Este es un convertidor de divisas**\n",
        "\n",
        "Introduce el código de tres letras de la divisa inicial (ejemplo, MXN),\n",
        "código de divisa destino (ejemplo, USD) y la cantidad a convertir. El resultado será la cantidad en la divisa de destino.\n",
        "Si quieres salir de programa, solo pulsa la tecla Enter al momento de especificar\n",
        "la divisa inicial.\n",
        "\n",
        "¡Esperamos sea de utilidad!"
      ],
      "metadata": {
        "id": "JRIDNZ7wb3wX"
      }
    },
    {
      "cell_type": "code",
      "source": [
        "instruccion = \"\"\"\n",
        "\"Este es un convertidor de divisas\n",
        "\n",
        "Introduce el código de tres letras de la divisa inicial (ejemplo, MXN), código de divisa destino (ejemplo,\n",
        "USD) y la cantidad a convertir. El resultado será la cantidad en la divisa de destino. Si quieres salir de programa,\n",
        "solo pulsa la tecla Enter al momento de especificar la divisa inicial.\n",
        "\n",
        "¡Esperamos sea de utilidad!\"\n",
        "\"\"\"\n",
        "lar_instruccion = len(instruccion)\n",
        "print(instruccion)\n",
        "print(lar_instruccion)\n"
      ],
      "metadata": {
        "colab": {
          "base_uri": "https://localhost:8080/"
        },
        "id": "cICbEnombWiL",
        "outputId": "1d09298c-d49a-4c09-9843-d82f53eb0806"
      },
      "execution_count": null,
      "outputs": [
        {
          "output_type": "stream",
          "name": "stdout",
          "text": [
            "\n",
            "\"Este es un convertidor de divisas\n",
            "\n",
            "Introduce el código de tres letras de la divisa inicial (ejemplo, MXN), código de divisa destino (ejemplo,\n",
            "USD) y la cantidad a convertir. El resultado será la cantidad en la divisa de destino. Si quieres salir de programa,\n",
            "solo pulsa la tecla Enter al momento de especificar la divisa inicial.\n",
            "\n",
            "¡Esperamos sea de utilidad!\"\n",
            "\n",
            "362\n"
          ]
        }
      ]
    },
    {
      "cell_type": "code",
      "source": [
        "\n",
        "import requests\n",
        "import json\n",
        "\n",
        "def busqueda(bus):\n",
        "  res = requests.get(\"http://www.floatrates.com/daily/{}.json\".format(bus))\n",
        "  return res.text\n",
        "\n",
        "consulta = str(input(\"Divisa inicial \")).lower()\n",
        "cache = dict()\n",
        "\n",
        "try:\n",
        "  cambio_arch = busqueda(consulta)\n",
        "  cambio_dist = json.loads(cambio_arch)\n",
        "\n",
        "  cache[consulta] = 1\n",
        "\n",
        "  if consulta != \"mxn\":\n",
        "    cache[\"mxn\"] = cambio_dist[\"mxn\"][\"rate\"]\n",
        "  if consulta != \"eur\":\n",
        "    cache[\"eur\"] = cambio_dist[\"eur\"][\"rate\"]\n",
        "  if consulta != \"usd\":\n",
        "    cache[\"usd\"] = cambio_dist[\"usd\"][\"rate\"]\n",
        "\n",
        "except:\n",
        "  print(\"Divisa no encontrada\")\n",
        "  cache = dict()\n",
        "\n",
        "print(\"Cache: \", cache)\n",
        "\n",
        "\n",
        "\n"
      ],
      "metadata": {
        "id": "4VLKy-h8c7bg",
        "colab": {
          "base_uri": "https://localhost:8080/"
        },
        "outputId": "7ef48a36-0ec9-42b7-d592-9ad56b387a1b"
      },
      "execution_count": 22,
      "outputs": [
        {
          "output_type": "stream",
          "name": "stdout",
          "text": [
            "Divisa inicial mxn\n",
            "Cache:  {'mxn': 1, 'eur': 0.046553569924758, 'usd': 0.05465933764379}\n"
          ]
        }
      ]
    }
  ]
}