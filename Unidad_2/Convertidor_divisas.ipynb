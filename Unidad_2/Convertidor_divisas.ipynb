{
  "nbformat": 4,
  "nbformat_minor": 0,
  "metadata": {
    "colab": {
      "provenance": [],
      "toc_visible": true,
      "authorship_tag": "ABX9TyOT5jh4QkiQsZGs+xJCYFQq",
      "include_colab_link": true
    },
    "kernelspec": {
      "name": "python3",
      "display_name": "Python 3"
    },
    "language_info": {
      "name": "python"
    }
  },
  "cells": [
    {
      "cell_type": "markdown",
      "metadata": {
        "id": "view-in-github",
        "colab_type": "text"
      },
      "source": [
        "<a href=\"https://colab.research.google.com/github/armandochernandez-ai/Curso-python-slava/blob/main/Unidad_2/Convertidor_divisas.ipynb\" target=\"_parent\"><img src=\"https://colab.research.google.com/assets/colab-badge.svg\" alt=\"Open In Colab\"/></a>"
      ]
    },
    {
      "cell_type": "markdown",
      "source": [
        "# **Actividad_4.**\n",
        "#Ejercicio Convertidor de divisas\n",
        "# Armando Chávez Hernández.\n",
        "# Geografía CUCSH."
      ],
      "metadata": {
        "id": "VePtjb0rXqSF"
      }
    },
    {
      "cell_type": "markdown",
      "source": [
        "**Este es un convertidor de divisas**\n",
        "\n",
        "Introduce el código de tres letras de la divisa inicial (ejemplo, MXN),\n",
        "código de divisa destino (ejemplo, USD) y la cantidad a convertir. El resultado será la cantidad en la divisa de destino.\n",
        "Si quieres salir de programa, solo pulsa la tecla Enter al momento de especificar\n",
        "la divisa inicial.\n",
        "\n",
        "¡Esperamos sea de utilidad!"
      ],
      "metadata": {
        "id": "JRIDNZ7wb3wX"
      }
    },
    {
      "cell_type": "code",
      "source": [
        "instruccion = \"\"\"\n",
        "\"Este es un convertidor de divisas\n",
        "\n",
        "Introduce el código de tres letras de la divisa inicial (ejemplo, MXN), código de divisa destino (ejemplo,\n",
        "USD) y la cantidad a convertir. El resultado será la cantidad en la divisa de destino. Si quieres salir de programa,\n",
        "solo pulsa la tecla Enter al momento de especificar la divisa inicial.\n",
        "\n",
        "¡Esperamos sea de utilidad!\"\n",
        "\"\"\"\n",
        "lar_instruccion = len(instruccion)\n",
        "print(instruccion)\n",
        "print(lar_instruccion)\n"
      ],
      "metadata": {
        "colab": {
          "base_uri": "https://localhost:8080/"
        },
        "id": "cICbEnombWiL",
        "outputId": "1d09298c-d49a-4c09-9843-d82f53eb0806"
      },
      "execution_count": null,
      "outputs": [
        {
          "output_type": "stream",
          "name": "stdout",
          "text": [
            "\n",
            "\"Este es un convertidor de divisas\n",
            "\n",
            "Introduce el código de tres letras de la divisa inicial (ejemplo, MXN), código de divisa destino (ejemplo,\n",
            "USD) y la cantidad a convertir. El resultado será la cantidad en la divisa de destino. Si quieres salir de programa,\n",
            "solo pulsa la tecla Enter al momento de especificar la divisa inicial.\n",
            "\n",
            "¡Esperamos sea de utilidad!\"\n",
            "\n",
            "362\n"
          ]
        }
      ]
    },
    {
      "cell_type": "code",
      "source": [
        "\n",
        "import requests\n",
        "import json\n",
        "\n",
        "def busqueda(bus):\n",
        "  res = requests.get(\"http://www.floatrates.com/daily/{}.json\".format(bus))\n",
        "  return res.text\n",
        "\n",
        "consulta = str(input(\"Divisa inicial \")).lower()\n",
        "cache = dict()\n",
        "\n",
        "try:\n",
        "  cambio_arch = busqueda(consulta)\n",
        "  cambio_dist = json.loads(cambio_arch)\n",
        "\n",
        "  cache[consulta] = 1\n",
        "\n",
        "  if consulta != \"mxn\":\n",
        "    cache[\"mxn\"] = cambio_dist[\"mxn\"][\"rate\"]\n",
        "  if consulta != \"eur\":\n",
        "    cache[\"eur\"] = cambio_dist[\"eur\"][\"rate\"]\n",
        "  if consulta != \"usd\":\n",
        "    cache[\"usd\"] = cambio_dist[\"usd\"][\"rate\"]\n",
        "\n",
        "except:\n",
        "  print(\"Divisa no encontrada\")\n",
        "  cache = dict()\n",
        "\n",
        "print(\"Cache: \", cache)\n",
        "\n",
        "\n",
        "\n"
      ],
      "metadata": {
        "id": "4VLKy-h8c7bg",
        "colab": {
          "base_uri": "https://localhost:8080/"
        },
        "outputId": "7ef48a36-0ec9-42b7-d592-9ad56b387a1b"
      },
      "execution_count": 22,
      "outputs": [
        {
          "output_type": "stream",
          "name": "stdout",
          "text": [
            "Divisa inicial mxn\n",
            "Cache:  {'mxn': 1, 'eur': 0.046553569924758, 'usd': 0.05465933764379}\n"
          ]
        }
      ]
    },
    {
      "cell_type": "code",
      "source": [
        "while True:\n",
        "    destino = input(\"Divisa destino: \").lower().strip()\n",
        "    if not destino:\n",
        "        print(\"¡Adios!\")\n",
        "        break\n",
        "\n",
        "    try:\n",
        "        cantidad = float(input(\"Cantidad de dinero (MXN): \"))\n",
        "    except ValueError:\n",
        "        print(\"Cantidad inválida. Intente nuevamente.\")\n",
        "        continue\n",
        "\n",
        "    print(\"Verificando...\")\n",
        "\n",
        "    if destino in cache:\n",
        "        print(\"Divisa existente en cache\")\n",
        "    else:\n",
        "        print(\"Divisa no en cache, buscando...\")\n",
        "        try:\n",
        "            if destino in cambio_dist:\n",
        "                cache[destino] = cambio_dist[destino][\"rate\"]\n",
        "                print(f\"Agregada {destino.upper()} a cache\")\n",
        "            else:\n",
        "                print(\"Divisa no encontrada en los datos disponibles\")\n",
        "                continue\n",
        "        except NameError:\n",
        "            print(\"Datos de cambio no disponibles\")\n",
        "            continue\n",
        "\n",
        "    resultado = cache[destino] * cantidad\n",
        "    print(f\"Resultado: {resultado:.2f} {destino.upper()}\")\n",
        "    print(\"¡Gracias por usar nuestro convertidor de divisas!\")\n",
        "    break"
      ],
      "metadata": {
        "colab": {
          "base_uri": "https://localhost:8080/"
        },
        "id": "MiutAk0kt1Ov",
        "outputId": "95dd6738-0114-4724-fd03-34e6e3457baf"
      },
      "execution_count": 39,
      "outputs": [
        {
          "output_type": "stream",
          "name": "stdout",
          "text": [
            "Divisa destino: rub\n",
            "Cantidad de dinero (MXN): 200\n",
            "Verificando...\n",
            "Divisa no en cache, buscando...\n",
            "Agregada RUB a cache\n",
            "Resultado: 896.57 RUB\n",
            "¡Gracias por usar nuestro convertidor de divisas!\n"
          ]
        }
      ]
    },
    {
      "cell_type": "code",
      "source": [
        "while True:\n",
        "    destino = input(\"Divisa destino: \").lower().strip()\n",
        "\n",
        "    try:\n",
        "        cantidad = float(input(\"Cantidad de dinero: \"))\n",
        "    except ValueError:\n",
        "        print(\"Cantidad inválida. Intente nuevamente.\")\n",
        "        continue\n",
        "\n",
        "    print(\"Verificando...\")\n",
        "\n",
        "    if destino in cache:\n",
        "        print(\"Divisa existente en cache\")\n",
        "    else:\n",
        "        print(\"Divisa no en cache, buscando...\")\n",
        "        try:\n",
        "            if destino in cambio_dist:\n",
        "                cache[destino] = cambio_dist[destino][\"rate\"]\n",
        "                print(f\"Agregada {destino.upper()} a cache\")\n",
        "            else:\n",
        "                print(\"Divisa no encontrada. Terminando proceso.\")\n",
        "                break  # Termina el proceso si la divisa no existe\n",
        "        except NameError:\n",
        "            print(\"Datos de cambio no disponibles. Terminando proceso.\")\n",
        "            break  # Termina el proceso si no hay datos disponibles\n",
        "\n",
        "    # Si llegamos aquí, la divisa es válida y está en cache\n",
        "    resultado = cache[destino] * cantidad\n",
        "    print(f\"Resultado: {resultado:.2f} {destino.upper()}\")\n",
        "    print(\"¡Gracias por usar nuestro convertidor de divisas!\")\n",
        "    break  # Termina después de una conversión exitosa\n",
        "\n",
        ""
      ],
      "metadata": {
        "id": "SzV3Agllw1fq",
        "outputId": "901252b4-629f-4ffa-9cc3-3e32b654cc68",
        "colab": {
          "base_uri": "https://localhost:8080/"
        }
      },
      "execution_count": 36,
      "outputs": [
        {
          "output_type": "stream",
          "name": "stdout",
          "text": [
            "Divisa destino: eur\n",
            "Cantidad de dinero: 200\n",
            "Verificando...\n",
            "Divisa existente en cache\n",
            "Resultado: 9.31 EUR\n",
            "¡Gracias por usar nuestro convertidor de divisas!\n"
          ]
        }
      ]
    }
  ]
}